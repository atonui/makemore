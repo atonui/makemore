{
  "cells": [
    {
      "cell_type": "markdown",
      "metadata": {
        "colab_type": "text",
        "id": "view-in-github"
      },
      "source": [
        "<a href=\"https://colab.research.google.com/github/atonui/makemore/blob/main/building_micrograd.ipynb\" target=\"_parent\"><img src=\"https://colab.research.google.com/assets/colab-badge.svg\" alt=\"Open In Colab\"/></a>"
      ]
    },
    {
      "cell_type": "markdown",
      "metadata": {
        "id": "5DH9UWjPFOsH"
      },
      "source": [
        "https://www.youtube.com/watch?v=VMj-3S1tku0&list=PLAqhIrjkxbuWI23v9cThsA9GvCAUhRvKZ&index=1&t=493s&ab_channel=AndrejKarpathy"
      ]
    },
    {
      "cell_type": "code",
      "execution_count": 1,
      "metadata": {
        "id": "GRE_07-CFRDH"
      },
      "outputs": [],
      "source": [
        "import numpy as np\n",
        "import matplotlib.pyplot as plt\n",
        "import math\n",
        "%matplotlib inline"
      ]
    },
    {
      "cell_type": "code",
      "execution_count": 2,
      "metadata": {
        "id": "H8mdg2rmFRAe"
      },
      "outputs": [],
      "source": [
        "def f(x):\n",
        "  return 3*x**2 - 4*x + 5"
      ]
    },
    {
      "cell_type": "code",
      "execution_count": 3,
      "metadata": {
        "colab": {
          "base_uri": "https://localhost:8080/",
          "height": 447
        },
        "id": "Uga7DFKPFQ9m",
        "outputId": "540410cd-99c7-454c-e689-f5dbf3041268"
      },
      "outputs": [
        {
          "data": {
            "text/plain": [
              "[<matplotlib.lines.Line2D at 0x78e3199dd280>]"
            ]
          },
          "execution_count": 3,
          "metadata": {},
          "output_type": "execute_result"
        },
        {
          "data": {
            "image/png": "[encoded data removed]",
            "text/plain": [
              "<Figure size 640x480 with 1 Axes>"
            ]
          },
          "metadata": {},
          "output_type": "display_data"
        }
      ],
      "source": [
        "xs = np.arange(-5, 5, 0.1)\n",
        "ys = f(xs)\n",
        "plt.plot(xs, ys)"
      ]
    },
    {
      "cell_type": "markdown",
      "metadata": {
        "id": "jOzPRYqlVBQp"
      },
      "source": [
        "## What is a Deivative?\n",
        "\n",
        "$$L = \\lim_{x \\to 0} \\frac{f(a+h) - f(a)}{h}$$\n",
        "\n",
        "If I slightly increase or decrease $f(a)$ how much does it change? What is it's sensitivity? Does it go up or down and by how much?"
      ]
    },
    {
      "cell_type": "code",
      "execution_count": 4,
      "metadata": {
        "colab": {
          "base_uri": "https://localhost:8080/"
        },
        "id": "6visBIVwFQ6-",
        "outputId": "f253252b-5256-4479-aa66-023e41bb8c6c"
      },
      "outputs": [
        {
          "name": "stdout",
          "output_type": "stream",
          "text": [
            "20\n",
            "20.001400030000006\n",
            "14.000300000063248\n"
          ]
        }
      ],
      "source": [
        "h = 0.0001 # a small change\n",
        "x = 3\n",
        "print(f(x))\n",
        "print(f(x + h))\n",
        "print((f(x + h) - f(x))/h)"
      ]
    },
    {
      "cell_type": "code",
      "execution_count": 5,
      "metadata": {
        "colab": {
          "base_uri": "https://localhost:8080/"
        },
        "id": "742u-Hryq9uC",
        "outputId": "3e908c4b-62d7-4d7e-a80c-ec8621dcf54f"
      },
      "outputs": [
        {
          "name": "stdout",
          "output_type": "stream",
          "text": [
            "44\n",
            "43.99780002999999\n",
            "-21.999700000066014\n"
          ]
        }
      ],
      "source": [
        "h = 0.0001 # a small change\n",
        "x = -3\n",
        "print(f(x))\n",
        "print(f(x + h))\n",
        "print((f(x + h) - f(x))/h)"
      ]
    },
    {
      "cell_type": "code",
      "execution_count": 6,
      "metadata": {
        "colab": {
          "base_uri": "https://localhost:8080/"
        },
        "id": "BruLdISerXy1",
        "outputId": "9c793e0f-7d65-4904-dbe8-9217e7aa84c5"
      },
      "outputs": [
        {
          "name": "stdout",
          "output_type": "stream",
          "text": [
            "3.666666666666667\n",
            "3.666666696666667\n",
            "0.0002999999981767587\n"
          ]
        }
      ],
      "source": [
        "h = 0.0001 # a small change\n",
        "x = 2/3\n",
        "print(f(x))\n",
        "print(f(x + h))\n",
        "print((f(x + h) - f(x))/h)"
      ]
    },
    {
      "cell_type": "code",
      "execution_count": 7,
      "metadata": {
        "colab": {
          "base_uri": "https://localhost:8080/"
        },
        "id": "VtcccvH3rXwk",
        "outputId": "e33d1417-eac9-4185-885d-e63d3da2bca5"
      },
      "outputs": [
        {
          "name": "stdout",
          "output_type": "stream",
          "text": [
            "4.0\n"
          ]
        }
      ],
      "source": [
        "# a more complicated funtion\n",
        "a = 2.0\n",
        "b = -3.0\n",
        "c = 10.0\n",
        "\n",
        "d = a*b + c\n",
        "print(d)"
      ]
    },
    {
      "cell_type": "code",
      "execution_count": 8,
      "metadata": {
        "colab": {
          "base_uri": "https://localhost:8080/"
        },
        "id": "To3m67o1rXt3",
        "outputId": "34a5bd3a-5442-4231-f699-f0cdbf8815ac"
      },
      "outputs": [
        {
          "name": "stdout",
          "output_type": "stream",
          "text": [
            "d1:  4.0\n",
            "slope:  -3.000000000010772\n"
          ]
        }
      ],
      "source": [
        "# applying the derivative to find out the effect of each variable on d\n",
        "# a\n",
        "h = 0.0001\n",
        "\n",
        "a+=h\n",
        "d1 = a*b + c\n",
        "slope = (d1 - d)/(h)\n",
        "print('d1: ', d)\n",
        "print('slope: ', slope)"
      ]
    },
    {
      "cell_type": "markdown",
      "metadata": {
        "id": "v4oLyL_quZWN"
      },
      "source": [
        "Increasing $a$ by a small amount results in decreasing $d$ by -3."
      ]
    },
    {
      "cell_type": "code",
      "execution_count": 9,
      "metadata": {
        "colab": {
          "base_uri": "https://localhost:8080/"
        },
        "id": "Kj3XpYt1rXq-",
        "outputId": "f58d95f0-6963-437c-c502-563246db5418"
      },
      "outputs": [
        {
          "name": "stdout",
          "output_type": "stream",
          "text": [
            "d2:  4.0002\n",
            "slope:  2.0000000000042206\n"
          ]
        }
      ],
      "source": [
        "# b\n",
        "a = 2.0\n",
        "b = -3.0\n",
        "c = 10.0\n",
        "\n",
        "d = a*b + c\n",
        "\n",
        "b+=h\n",
        "d2 = a*b + c\n",
        "slope2 = (d2 - d)/(h)\n",
        "print('d2: ', d2)\n",
        "print('slope: ', slope2)"
      ]
    },
    {
      "cell_type": "markdown",
      "metadata": {
        "id": "MDwPvbWk4NDM"
      },
      "source": [
        "increasing $b$ by a asmall amount results in increasing $d$ by 2."
      ]
    },
    {
      "cell_type": "code",
      "execution_count": 10,
      "metadata": {
        "colab": {
          "base_uri": "https://localhost:8080/"
        },
        "id": "MCMTESkOq9rB",
        "outputId": "73710c70-17aa-407d-d7ac-91ab3f8ad5ae"
      },
      "outputs": [
        {
          "name": "stdout",
          "output_type": "stream",
          "text": [
            "d3:  4.0001\n",
            "slope:  0.9999999999976694\n"
          ]
        }
      ],
      "source": [
        "# c\n",
        "a = 2.0\n",
        "b = -3.0\n",
        "c = 10.0\n",
        "\n",
        "d = a*b + c\n",
        "\n",
        "c+=h\n",
        "d3 = a*b + c\n",
        "slope3 = (d3 - d)/(h)\n",
        "print('d3: ', d3)\n",
        "print('slope: ', slope3)"
      ]
    },
    {
      "cell_type": "markdown",
      "metadata": {
        "id": "36Yp4Pdz4aMm"
      },
      "source": [
        "Increasing $c$ by a small amount results in increasing $d$ by 1."
      ]
    },
    {
      "cell_type": "markdown",
      "metadata": {
        "id": "M71c2CIt45GT"
      },
      "source": [
        "## Data Structure to Hold a Neuron"
      ]
    },
    {
      "cell_type": "code",
      "execution_count": 11,
      "metadata": {
        "colab": {
          "base_uri": "https://localhost:8080/"
        },
        "id": "QjD9IWPZq9n6",
        "outputId": "9ea96d2b-ed6b-4d68-de2e-3d194410b2db"
      },
      "outputs": [
        {
          "data": {
            "text/plain": [
              "Value(Data=-8.0)"
            ]
          },
          "execution_count": 11,
          "metadata": {},
          "output_type": "execute_result"
        }
      ],
      "source": [
        "class Value:\n",
        "  def __init__(self, data, _children=(), _op='', label=''):\n",
        "    self.data = data\n",
        "    self.grad = 0.0 # derivative of the outpul, L wrt this variable\n",
        "    self._prev = set(_children)\n",
        "    self._op = _op\n",
        "    self.label = label\n",
        "\n",
        "  def __repr__(self):\n",
        "    '''print out a nice looking expression rather that the memory address'''\n",
        "    return f\"Value(Data={self.data})\"\n",
        "\n",
        "  def __add__(self, other):\n",
        "    out = Value(self.data + other.data, (self, other), '+')\n",
        "    return out\n",
        "\n",
        "  def __mul__(self, other):\n",
        "    out = Value(self.data * other.data, (self, other), '*')\n",
        "    return out\n",
        "\n",
        "a = Value(2.0, label='a')\n",
        "b = Value(-3.0, label='b')\n",
        "c = Value(10.0, label='c')\n",
        "e = a*b; e.label='e'\n",
        "a + b # a.add(b)\n",
        "d = e + c ; d.label='d'\n",
        "f = Value(-2.0, label='f')\n",
        "L = d*f; L.label='L'\n",
        "L"
      ]
    },
    {
      "cell_type": "code",
      "execution_count": 12,
      "metadata": {
        "colab": {
          "base_uri": "https://localhost:8080/"
        },
        "id": "W6im96_Oq9iS",
        "outputId": "6b1dc568-6125-443a-d95d-d83c6cbcda11"
      },
      "outputs": [
        {
          "name": "stdout",
          "output_type": "stream",
          "text": [
            "{Value(Data=10.0), Value(Data=-6.0)}\n",
            "+\n"
          ]
        }
      ],
      "source": [
        "print(d._prev)\n",
        "print(d._op)"
      ]
    },
    {
      "cell_type": "code",
      "execution_count": 13,
      "metadata": {
        "id": "DPexwyAx-bpV"
      },
      "outputs": [],
      "source": [
        "# a way to visualise the mathematical expressions\n",
        "from graphviz import Digraph\n",
        "\n",
        "def trace(root):\n",
        "  '''build a set of all nodes in a graph\n",
        "  accepts an instance of the class Value\n",
        "  and returns a set of all its node and edges'''\n",
        "  nodes, edges = set(), set()\n",
        "  def build(v):\n",
        "    if v not in nodes:\n",
        "      nodes.add(v)\n",
        "      for child in v._prev:\n",
        "        edges.add((child, v))\n",
        "        build(child)\n",
        "  build(root)\n",
        "  return nodes, edges\n",
        "\n",
        "def draw_dot(root):\n",
        "  dot = Digraph(format='svg', graph_attr={'rankdir': 'LR'}) # left to right\n",
        "  nodes, edges = trace(root)\n",
        "  for n in nodes:\n",
        "    uid = str(id(n))\n",
        "    # for any value in the graph, create a rectangular ('record') node for it\n",
        "    dot.node(name=uid, label = \"{ %s | data %.4f | grad %.4f}\" % (n.label, n.data, n.grad), shape='record')\n",
        "    if n._op:\n",
        "      # if this values is the result of some operation, create an op node for it\n",
        "      dot.node(name=uid + n._op, label = n._op)\n",
        "      # and connect this node to it\n",
        "      dot.edge(uid + n._op, uid)\n",
        "\n",
        "  for n1, n2 in edges:\n",
        "     # connect n1 to the op node of n2\n",
        "     dot.edge(str(id(n1)), str(id(n2)) + n2._op)\n",
        "\n",
        "  return dot"
      ]
    },
    {
      "cell_type": "code",
      "execution_count": 14,
      "metadata": {
        "colab": {
          "base_uri": "https://localhost:8080/",
          "height": 192
        },
        "id": "PdDgHn70-bm6",
        "outputId": "2bb31d36-ceea-497f-bc93-1b44ed1da9bb"
      },
      "outputs": [
        {
          "data": {
            "image/svg+xml": [
              "<?xml version=\"1.0\" encoding=\"UTF-8\" standalone=\"no\"?>\n",
              "<!DOCTYPE svg PUBLIC \"-//W3C//DTD SVG 1.1//EN\"\n",
              " \"http://www.w3.org/Graphics/SVG/1.1/DTD/svg11.dtd\">\n",
              "<!-- Generated by graphviz version 2.43.0 (0)\n",
              " -->\n",
              "<!-- Title: %3 Pages: 1 -->\n",
              "<svg width=\"1148pt\" height=\"128pt\"\n",
              " viewBox=\"0.00 0.00 1148.00 128.00\" xmlns=\"http://www.w3.org/2000/svg\" xmlns:xlink=\"http://www.w3.org/1999/xlink\">\n",
              "<g id=\"graph0\" class=\"graph\" transform=\"scale(1 1) rotate(0) translate(4 124)\">\n",
              "<title>%3</title>\n",
              "<polygon fill=\"white\" stroke=\"transparent\" points=\"-4,4 -4,-124 1144,-124 1144,4 -4,4\"/>\n",
              "<!-- 132916782483024 -->\n",
              "<g id=\"node1\" class=\"node\">\n",
              "<title>132916782483024</title>\n",
              "<polygon fill=\"none\" stroke=\"black\" points=\"948,-54.5 948,-90.5 1140,-90.5 1140,-54.5 948,-54.5\"/>\n",
              "<text text-anchor=\"middle\" x=\"960.5\" y=\"-68.8\" font-family=\"Times,serif\" font-size=\"14.00\">L</text>\n",
              "<polyline fill=\"none\" stroke=\"black\" points=\"973,-54.5 973,-90.5 \"/>\n",
              "<text text-anchor=\"middle\" x=\"1015.5\" y=\"-68.8\" font-family=\"Times,serif\" font-size=\"14.00\">data &#45;8.0000</text>\n",
              "<polyline fill=\"none\" stroke=\"black\" points=\"1058,-54.5 1058,-90.5 \"/>\n",
              "<text text-anchor=\"middle\" x=\"1099\" y=\"-68.8\" font-family=\"Times,serif\" font-size=\"14.00\">grad 0.0000</text>\n",
              "</g>\n",
              "<!-- 132916782483024* -->\n",
              "<g id=\"node2\" class=\"node\">\n",
              "<title>132916782483024*</title>\n",
              "<ellipse fill=\"none\" stroke=\"black\" cx=\"885\" cy=\"-72.5\" rx=\"27\" ry=\"18\"/>\n",
              "<text text-anchor=\"middle\" x=\"885\" y=\"-68.8\" font-family=\"Times,serif\" font-size=\"14.00\">*</text>\n",
              "</g>\n",
              "<!-- 132916782483024*&#45;&gt;132916782483024 -->\n",
              "<g id=\"edge1\" class=\"edge\">\n",
              "<title>132916782483024*&#45;&gt;132916782483024</title>\n",
              "<path fill=\"none\" stroke=\"black\" d=\"M912.28,-72.5C919.78,-72.5 928.44,-72.5 937.67,-72.5\"/>\n",
              "<polygon fill=\"black\" stroke=\"black\" points=\"937.87,-76 947.87,-72.5 937.87,-69 937.87,-76\"/>\n",
              "</g>\n",
              "<!-- 132916782817952 -->\n",
              "<g id=\"node3\" class=\"node\">\n",
              "<title>132916782817952</title>\n",
              "<polygon fill=\"none\" stroke=\"black\" points=\"634,-82.5 634,-118.5 822,-118.5 822,-82.5 634,-82.5\"/>\n",
              "<text text-anchor=\"middle\" x=\"644.5\" y=\"-96.8\" font-family=\"Times,serif\" font-size=\"14.00\">f</text>\n",
              "<polyline fill=\"none\" stroke=\"black\" points=\"655,-82.5 655,-118.5 \"/>\n",
              "<text text-anchor=\"middle\" x=\"697.5\" y=\"-96.8\" font-family=\"Times,serif\" font-size=\"14.00\">data &#45;2.0000</text>\n",
              "<polyline fill=\"none\" stroke=\"black\" points=\"740,-82.5 740,-118.5 \"/>\n",
              "<text text-anchor=\"middle\" x=\"781\" y=\"-96.8\" font-family=\"Times,serif\" font-size=\"14.00\">grad 0.0000</text>\n",
              "</g>\n",
              "<!-- 132916782817952&#45;&gt;132916782483024* -->\n",
              "<g id=\"edge9\" class=\"edge\">\n",
              "<title>132916782817952&#45;&gt;132916782483024*</title>\n",
              "<path fill=\"none\" stroke=\"black\" d=\"M822.29,-83.65C831.57,-81.97 840.52,-80.35 848.61,-78.89\"/>\n",
              "<polygon fill=\"black\" stroke=\"black\" points=\"849.46,-82.3 858.68,-77.07 848.21,-75.41 849.46,-82.3\"/>\n",
              "</g>\n",
              "<!-- 132916783909536 -->\n",
              "<g id=\"node4\" class=\"node\">\n",
              "<title>132916783909536</title>\n",
              "<polygon fill=\"none\" stroke=\"black\" points=\"2.5,-83.5 2.5,-119.5 187.5,-119.5 187.5,-83.5 2.5,-83.5\"/>\n",
              "<text text-anchor=\"middle\" x=\"14\" y=\"-97.8\" font-family=\"Times,serif\" font-size=\"14.00\">a</text>\n",
              "<polyline fill=\"none\" stroke=\"black\" points=\"25.5,-83.5 25.5,-119.5 \"/>\n",
              "<text text-anchor=\"middle\" x=\"65.5\" y=\"-97.8\" font-family=\"Times,serif\" font-size=\"14.00\">data 2.0000</text>\n",
              "<polyline fill=\"none\" stroke=\"black\" points=\"105.5,-83.5 105.5,-119.5 \"/>\n",
              "<text text-anchor=\"middle\" x=\"146.5\" y=\"-97.8\" font-family=\"Times,serif\" font-size=\"14.00\">grad 0.0000</text>\n",
              "</g>\n",
              "<!-- 132916782814928* -->\n",
              "<g id=\"node6\" class=\"node\">\n",
              "<title>132916782814928*</title>\n",
              "<ellipse fill=\"none\" stroke=\"black\" cx=\"253\" cy=\"-73.5\" rx=\"27\" ry=\"18\"/>\n",
              "<text text-anchor=\"middle\" x=\"253\" y=\"-69.8\" font-family=\"Times,serif\" font-size=\"14.00\">*</text>\n",
              "</g>\n",
              "<!-- 132916783909536&#45;&gt;132916782814928* -->\n",
              "<g id=\"edge5\" class=\"edge\">\n",
              "<title>132916783909536&#45;&gt;132916782814928*</title>\n",
              "<path fill=\"none\" stroke=\"black\" d=\"M187.65,-85.05C197.94,-83.2 207.91,-81.41 216.81,-79.82\"/>\n",
              "<polygon fill=\"black\" stroke=\"black\" points=\"217.48,-83.25 226.71,-78.04 216.25,-76.36 217.48,-83.25\"/>\n",
              "</g>\n",
              "<!-- 132916782814928 -->\n",
              "<g id=\"node5\" class=\"node\">\n",
              "<title>132916782814928</title>\n",
              "<polygon fill=\"none\" stroke=\"black\" points=\"317,-55.5 317,-91.5 507,-91.5 507,-55.5 317,-55.5\"/>\n",
              "<text text-anchor=\"middle\" x=\"328.5\" y=\"-69.8\" font-family=\"Times,serif\" font-size=\"14.00\">e</text>\n",
              "<polyline fill=\"none\" stroke=\"black\" points=\"340,-55.5 340,-91.5 \"/>\n",
              "<text text-anchor=\"middle\" x=\"382.5\" y=\"-69.8\" font-family=\"Times,serif\" font-size=\"14.00\">data &#45;6.0000</text>\n",
              "<polyline fill=\"none\" stroke=\"black\" points=\"425,-55.5 425,-91.5 \"/>\n",
              "<text text-anchor=\"middle\" x=\"466\" y=\"-69.8\" font-family=\"Times,serif\" font-size=\"14.00\">grad 0.0000</text>\n",
              "</g>\n",
              "<!-- 132916782687072+ -->\n",
              "<g id=\"node10\" class=\"node\">\n",
              "<title>132916782687072+</title>\n",
              "<ellipse fill=\"none\" stroke=\"black\" cx=\"571\" cy=\"-45.5\" rx=\"27\" ry=\"18\"/>\n",
              "<text text-anchor=\"middle\" x=\"571\" y=\"-41.8\" font-family=\"Times,serif\" font-size=\"14.00\">+</text>\n",
              "</g>\n",
              "<!-- 132916782814928&#45;&gt;132916782687072+ -->\n",
              "<g id=\"edge7\" class=\"edge\">\n",
              "<title>132916782814928&#45;&gt;132916782687072+</title>\n",
              "<path fill=\"none\" stroke=\"black\" d=\"M507.05,-56.73C516.89,-54.97 526.39,-53.28 534.9,-51.76\"/>\n",
              "<polygon fill=\"black\" stroke=\"black\" points=\"535.52,-55.2 544.75,-50 534.29,-48.31 535.52,-55.2\"/>\n",
              "</g>\n",
              "<!-- 132916782814928*&#45;&gt;132916782814928 -->\n",
              "<g id=\"edge2\" class=\"edge\">\n",
              "<title>132916782814928*&#45;&gt;132916782814928</title>\n",
              "<path fill=\"none\" stroke=\"black\" d=\"M280.28,-73.5C288.05,-73.5 297.08,-73.5 306.68,-73.5\"/>\n",
              "<polygon fill=\"black\" stroke=\"black\" points=\"306.88,-77 316.88,-73.5 306.88,-70 306.88,-77\"/>\n",
              "</g>\n",
              "<!-- 132916782819056 -->\n",
              "<g id=\"node7\" class=\"node\">\n",
              "<title>132916782819056</title>\n",
              "<polygon fill=\"none\" stroke=\"black\" points=\"0,-28.5 0,-64.5 190,-64.5 190,-28.5 0,-28.5\"/>\n",
              "<text text-anchor=\"middle\" x=\"11.5\" y=\"-42.8\" font-family=\"Times,serif\" font-size=\"14.00\">b</text>\n",
              "<polyline fill=\"none\" stroke=\"black\" points=\"23,-28.5 23,-64.5 \"/>\n",
              "<text text-anchor=\"middle\" x=\"65.5\" y=\"-42.8\" font-family=\"Times,serif\" font-size=\"14.00\">data &#45;3.0000</text>\n",
              "<polyline fill=\"none\" stroke=\"black\" points=\"108,-28.5 108,-64.5 \"/>\n",
              "<text text-anchor=\"middle\" x=\"149\" y=\"-42.8\" font-family=\"Times,serif\" font-size=\"14.00\">grad 0.0000</text>\n",
              "</g>\n",
              "<!-- 132916782819056&#45;&gt;132916782814928* -->\n",
              "<g id=\"edge6\" class=\"edge\">\n",
              "<title>132916782819056&#45;&gt;132916782814928*</title>\n",
              "<path fill=\"none\" stroke=\"black\" d=\"M190.34,-62.83C199.62,-64.44 208.58,-65.99 216.66,-67.38\"/>\n",
              "<polygon fill=\"black\" stroke=\"black\" points=\"216.27,-70.87 226.72,-69.12 217.46,-63.97 216.27,-70.87\"/>\n",
              "</g>\n",
              "<!-- 132916782823232 -->\n",
              "<g id=\"node8\" class=\"node\">\n",
              "<title>132916782823232</title>\n",
              "<polygon fill=\"none\" stroke=\"black\" points=\"316,-0.5 316,-36.5 508,-36.5 508,-0.5 316,-0.5\"/>\n",
              "<text text-anchor=\"middle\" x=\"327.5\" y=\"-14.8\" font-family=\"Times,serif\" font-size=\"14.00\">c</text>\n",
              "<polyline fill=\"none\" stroke=\"black\" points=\"339,-0.5 339,-36.5 \"/>\n",
              "<text text-anchor=\"middle\" x=\"382.5\" y=\"-14.8\" font-family=\"Times,serif\" font-size=\"14.00\">data 10.0000</text>\n",
              "<polyline fill=\"none\" stroke=\"black\" points=\"426,-0.5 426,-36.5 \"/>\n",
              "<text text-anchor=\"middle\" x=\"467\" y=\"-14.8\" font-family=\"Times,serif\" font-size=\"14.00\">grad 0.0000</text>\n",
              "</g>\n",
              "<!-- 132916782823232&#45;&gt;132916782687072+ -->\n",
              "<g id=\"edge4\" class=\"edge\">\n",
              "<title>132916782823232&#45;&gt;132916782687072+</title>\n",
              "<path fill=\"none\" stroke=\"black\" d=\"M508.4,-34.91C517.69,-36.5 526.64,-38.04 534.71,-39.43\"/>\n",
              "<polygon fill=\"black\" stroke=\"black\" points=\"534.32,-42.91 544.76,-41.16 535.5,-36.02 534.32,-42.91\"/>\n",
              "</g>\n",
              "<!-- 132916782687072 -->\n",
              "<g id=\"node9\" class=\"node\">\n",
              "<title>132916782687072</title>\n",
              "<polygon fill=\"none\" stroke=\"black\" points=\"635.5,-27.5 635.5,-63.5 820.5,-63.5 820.5,-27.5 635.5,-27.5\"/>\n",
              "<text text-anchor=\"middle\" x=\"647\" y=\"-41.8\" font-family=\"Times,serif\" font-size=\"14.00\">d</text>\n",
              "<polyline fill=\"none\" stroke=\"black\" points=\"658.5,-27.5 658.5,-63.5 \"/>\n",
              "<text text-anchor=\"middle\" x=\"698.5\" y=\"-41.8\" font-family=\"Times,serif\" font-size=\"14.00\">data 4.0000</text>\n",
              "<polyline fill=\"none\" stroke=\"black\" points=\"738.5,-27.5 738.5,-63.5 \"/>\n",
              "<text text-anchor=\"middle\" x=\"779.5\" y=\"-41.8\" font-family=\"Times,serif\" font-size=\"14.00\">grad 0.0000</text>\n",
              "</g>\n",
              "<!-- 132916782687072&#45;&gt;132916782483024* -->\n",
              "<g id=\"edge8\" class=\"edge\">\n",
              "<title>132916782687072&#45;&gt;132916782483024*</title>\n",
              "<path fill=\"none\" stroke=\"black\" d=\"M820.51,-61.44C830.48,-63.18 840.13,-64.86 848.77,-66.36\"/>\n",
              "<polygon fill=\"black\" stroke=\"black\" points=\"848.31,-69.84 858.77,-68.1 849.52,-62.94 848.31,-69.84\"/>\n",
              "</g>\n",
              "<!-- 132916782687072+&#45;&gt;132916782687072 -->\n",
              "<g id=\"edge3\" class=\"edge\">\n",
              "<title>132916782687072+&#45;&gt;132916782687072</title>\n",
              "<path fill=\"none\" stroke=\"black\" d=\"M598.29,-45.5C606.26,-45.5 615.54,-45.5 625.39,-45.5\"/>\n",
              "<polygon fill=\"black\" stroke=\"black\" points=\"625.41,-49 635.41,-45.5 625.41,-42 625.41,-49\"/>\n",
              "</g>\n",
              "</g>\n",
              "</svg>\n"
            ],
            "text/plain": [
              "<graphviz.graphs.Digraph at 0x78e318f0cf50>"
            ]
          },
          "execution_count": 14,
          "metadata": {},
          "output_type": "execute_result"
        }
      ],
      "source": [
        "draw_dot(L)"
      ]
    },
    {
      "cell_type": "markdown",
      "metadata": {
        "id": "OurbbWUytPMP"
      },
      "source": [
        "This diagram above is our forward propagation. For the backpropagation, we have to find the derivative of all the terms wrt L"
      ]
    },
    {
      "cell_type": "code",
      "execution_count": 15,
      "metadata": {
        "id": "wZmjWG0vtrM0"
      },
      "outputs": [],
      "source": [
        "L.grad = 1.0 # derivative of L wrt to itself is 1"
      ]
    },
    {
      "cell_type": "markdown",
      "metadata": {
        "id": "p77N6PXhuV_c"
      },
      "source": [
        "$$L = d*f$$\n",
        "$$\\frac{dL}{dd} = f$$\n",
        "$$\\frac{dL}{df} = d$$"
      ]
    },
    {
      "cell_type": "code",
      "execution_count": 16,
      "metadata": {
        "id": "Vp8CdQP7t2pN"
      },
      "outputs": [],
      "source": [
        "# from above\n",
        "f.grad = d.data\n",
        "d.grad = f.data"
      ]
    },
    {
      "cell_type": "markdown",
      "metadata": {
        "id": "EPqf0xDJxss1"
      },
      "source": [
        "$$d = c+e$$ \\\n",
        "$$\\frac{dd}{dc} = 1$$ \\\n",
        "$$\\frac{dd}{de} = 1$$\n",
        "\n",
        "The derivative of a sum is one.\n",
        "\n",
        "But how does $c$ or $e$ affect $L$?\n",
        "\n",
        "Chain rule:\n",
        "$$\\frac{dz}{dx} = \\frac{dz}{dy} * \\frac{dy}{dx} \\: ∴ $$ \\\n",
        "$$\\frac{dL}{dc} = \\frac{dL}{dd} * \\frac{dd}{dc}$$ \\\n",
        "$$= f*1 = f$$ \\\n",
        "and:\n",
        "$$\\frac{dL}{de} = \\frac{dL}{dd} * \\frac{dd}{de}$$ \\\n",
        "$$= f*1 = f$$ \\\n",
        "Therfore we can conclude that a '+' node just routes backwards the gradient through because the local derivatives in a '+' node are always 1 i.e. it will distribute the incoming derivative to all it's children nodes."
      ]
    },
    {
      "cell_type": "code",
      "execution_count": 17,
      "metadata": {
        "id": "lo8duc-ot2mR"
      },
      "outputs": [],
      "source": [
        "# from above\n",
        "c.grad = f.data\n",
        "e.grad = f.data"
      ]
    },
    {
      "cell_type": "markdown",
      "metadata": {
        "id": "tKcHVywp9i8i"
      },
      "source": [
        "$$e=a*b$$ \\\n",
        "$$\\frac{de}{da}=b=-3.0$$ \\\n",
        "$$\\frac{dL}{da} = \\frac{dL}{de} * \\frac{dd}{de}$$ \\\n",
        "$$\\frac{dL}{de}=f=-2.0$$ \\\n",
        "$$\\frac{de}{da}=b=-3.0$$\n"
      ]
    },
    {
      "cell_type": "code",
      "execution_count": 23,
      "metadata": {
        "colab": {
          "base_uri": "https://localhost:8080/",
          "height": 192
        },
        "id": "LGd2ESCFt2jU",
        "outputId": "e2d630e2-3ee6-478d-db76-e43c3078732a"
      },
      "outputs": [
        {
          "data": {
            "image/svg+xml": [
              "<?xml version=\"1.0\" encoding=\"UTF-8\" standalone=\"no\"?>\n",
              "<!DOCTYPE svg PUBLIC \"-//W3C//DTD SVG 1.1//EN\"\n",
              " \"http://www.w3.org/Graphics/SVG/1.1/DTD/svg11.dtd\">\n",
              "<!-- Generated by graphviz version 2.43.0 (0)\n",
              " -->\n",
              "<!-- Title: %3 Pages: 1 -->\n",
              "<svg width=\"1157pt\" height=\"128pt\"\n",
              " viewBox=\"0.00 0.00 1157.00 128.00\" xmlns=\"http://www.w3.org/2000/svg\" xmlns:xlink=\"http://www.w3.org/1999/xlink\">\n",
              "<g id=\"graph0\" class=\"graph\" transform=\"scale(1 1) rotate(0) translate(4 124)\">\n",
              "<title>%3</title>\n",
              "<polygon fill=\"white\" stroke=\"transparent\" points=\"-4,4 -4,-124 1153,-124 1153,4 -4,4\"/>\n",
              "<!-- 132916782483024 -->\n",
              "<g id=\"node1\" class=\"node\">\n",
              "<title>132916782483024</title>\n",
              "<polygon fill=\"none\" stroke=\"black\" points=\"957,-54.5 957,-90.5 1149,-90.5 1149,-54.5 957,-54.5\"/>\n",
              "<text text-anchor=\"middle\" x=\"969.5\" y=\"-68.8\" font-family=\"Times,serif\" font-size=\"14.00\">L</text>\n",
              "<polyline fill=\"none\" stroke=\"black\" points=\"982,-54.5 982,-90.5 \"/>\n",
              "<text text-anchor=\"middle\" x=\"1024.5\" y=\"-68.8\" font-family=\"Times,serif\" font-size=\"14.00\">data &#45;8.0000</text>\n",
              "<polyline fill=\"none\" stroke=\"black\" points=\"1067,-54.5 1067,-90.5 \"/>\n",
              "<text text-anchor=\"middle\" x=\"1108\" y=\"-68.8\" font-family=\"Times,serif\" font-size=\"14.00\">grad 1.0000</text>\n",
              "</g>\n",
              "<!-- 132916782483024* -->\n",
              "<g id=\"node2\" class=\"node\">\n",
              "<title>132916782483024*</title>\n",
              "<ellipse fill=\"none\" stroke=\"black\" cx=\"894\" cy=\"-72.5\" rx=\"27\" ry=\"18\"/>\n",
              "<text text-anchor=\"middle\" x=\"894\" y=\"-68.8\" font-family=\"Times,serif\" font-size=\"14.00\">*</text>\n",
              "</g>\n",
              "<!-- 132916782483024*&#45;&gt;132916782483024 -->\n",
              "<g id=\"edge1\" class=\"edge\">\n",
              "<title>132916782483024*&#45;&gt;132916782483024</title>\n",
              "<path fill=\"none\" stroke=\"black\" d=\"M921.28,-72.5C928.78,-72.5 937.44,-72.5 946.67,-72.5\"/>\n",
              "<polygon fill=\"black\" stroke=\"black\" points=\"946.87,-76 956.87,-72.5 946.87,-69 946.87,-76\"/>\n",
              "</g>\n",
              "<!-- 132916782817952 -->\n",
              "<g id=\"node3\" class=\"node\">\n",
              "<title>132916782817952</title>\n",
              "<polygon fill=\"none\" stroke=\"black\" points=\"642.5,-82.5 642.5,-118.5 830.5,-118.5 830.5,-82.5 642.5,-82.5\"/>\n",
              "<text text-anchor=\"middle\" x=\"653\" y=\"-96.8\" font-family=\"Times,serif\" font-size=\"14.00\">f</text>\n",
              "<polyline fill=\"none\" stroke=\"black\" points=\"663.5,-82.5 663.5,-118.5 \"/>\n",
              "<text text-anchor=\"middle\" x=\"706\" y=\"-96.8\" font-family=\"Times,serif\" font-size=\"14.00\">data &#45;2.0000</text>\n",
              "<polyline fill=\"none\" stroke=\"black\" points=\"748.5,-82.5 748.5,-118.5 \"/>\n",
              "<text text-anchor=\"middle\" x=\"789.5\" y=\"-96.8\" font-family=\"Times,serif\" font-size=\"14.00\">grad 4.0000</text>\n",
              "</g>\n",
              "<!-- 132916782817952&#45;&gt;132916782483024* -->\n",
              "<g id=\"edge9\" class=\"edge\">\n",
              "<title>132916782817952&#45;&gt;132916782483024*</title>\n",
              "<path fill=\"none\" stroke=\"black\" d=\"M830.65,-83.73C840.2,-82.01 849.43,-80.35 857.72,-78.85\"/>\n",
              "<polygon fill=\"black\" stroke=\"black\" points=\"858.47,-82.27 867.69,-77.06 857.23,-75.39 858.47,-82.27\"/>\n",
              "</g>\n",
              "<!-- 132916783909536 -->\n",
              "<g id=\"node4\" class=\"node\">\n",
              "<title>132916783909536</title>\n",
              "<polygon fill=\"none\" stroke=\"black\" points=\"4.5,-83.5 4.5,-119.5 189.5,-119.5 189.5,-83.5 4.5,-83.5\"/>\n",
              "<text text-anchor=\"middle\" x=\"16\" y=\"-97.8\" font-family=\"Times,serif\" font-size=\"14.00\">a</text>\n",
              "<polyline fill=\"none\" stroke=\"black\" points=\"27.5,-83.5 27.5,-119.5 \"/>\n",
              "<text text-anchor=\"middle\" x=\"67.5\" y=\"-97.8\" font-family=\"Times,serif\" font-size=\"14.00\">data 2.0000</text>\n",
              "<polyline fill=\"none\" stroke=\"black\" points=\"107.5,-83.5 107.5,-119.5 \"/>\n",
              "<text text-anchor=\"middle\" x=\"148.5\" y=\"-97.8\" font-family=\"Times,serif\" font-size=\"14.00\">grad 6.0000</text>\n",
              "</g>\n",
              "<!-- 132916782814928* -->\n",
              "<g id=\"node6\" class=\"node\">\n",
              "<title>132916782814928*</title>\n",
              "<ellipse fill=\"none\" stroke=\"black\" cx=\"257\" cy=\"-73.5\" rx=\"27\" ry=\"18\"/>\n",
              "<text text-anchor=\"middle\" x=\"257\" y=\"-69.8\" font-family=\"Times,serif\" font-size=\"14.00\">*</text>\n",
              "</g>\n",
              "<!-- 132916783909536&#45;&gt;132916782814928* -->\n",
              "<g id=\"edge5\" class=\"edge\">\n",
              "<title>132916783909536&#45;&gt;132916782814928*</title>\n",
              "<path fill=\"none\" stroke=\"black\" d=\"M189.91,-85.21C200.76,-83.29 211.28,-81.43 220.61,-79.77\"/>\n",
              "<polygon fill=\"black\" stroke=\"black\" points=\"221.37,-83.19 230.6,-78 220.15,-76.3 221.37,-83.19\"/>\n",
              "</g>\n",
              "<!-- 132916782814928 -->\n",
              "<g id=\"node5\" class=\"node\">\n",
              "<title>132916782814928</title>\n",
              "<polygon fill=\"none\" stroke=\"black\" points=\"321,-55.5 321,-91.5 515,-91.5 515,-55.5 321,-55.5\"/>\n",
              "<text text-anchor=\"middle\" x=\"332.5\" y=\"-69.8\" font-family=\"Times,serif\" font-size=\"14.00\">e</text>\n",
              "<polyline fill=\"none\" stroke=\"black\" points=\"344,-55.5 344,-91.5 \"/>\n",
              "<text text-anchor=\"middle\" x=\"386.5\" y=\"-69.8\" font-family=\"Times,serif\" font-size=\"14.00\">data &#45;6.0000</text>\n",
              "<polyline fill=\"none\" stroke=\"black\" points=\"429,-55.5 429,-91.5 \"/>\n",
              "<text text-anchor=\"middle\" x=\"472\" y=\"-69.8\" font-family=\"Times,serif\" font-size=\"14.00\">grad &#45;2.0000</text>\n",
              "</g>\n",
              "<!-- 132916782687072+ -->\n",
              "<g id=\"node10\" class=\"node\">\n",
              "<title>132916782687072+</title>\n",
              "<ellipse fill=\"none\" stroke=\"black\" cx=\"579\" cy=\"-45.5\" rx=\"27\" ry=\"18\"/>\n",
              "<text text-anchor=\"middle\" x=\"579\" y=\"-41.8\" font-family=\"Times,serif\" font-size=\"14.00\">+</text>\n",
              "</g>\n",
              "<!-- 132916782814928&#45;&gt;132916782687072+ -->\n",
              "<g id=\"edge7\" class=\"edge\">\n",
              "<title>132916782814928&#45;&gt;132916782687072+</title>\n",
              "<path fill=\"none\" stroke=\"black\" d=\"M515.16,-56.57C524.82,-54.87 534.13,-53.23 542.49,-51.75\"/>\n",
              "<polygon fill=\"black\" stroke=\"black\" points=\"543.3,-55.17 552.54,-49.98 542.08,-48.27 543.3,-55.17\"/>\n",
              "</g>\n",
              "<!-- 132916782814928*&#45;&gt;132916782814928 -->\n",
              "<g id=\"edge2\" class=\"edge\">\n",
              "<title>132916782814928*&#45;&gt;132916782814928</title>\n",
              "<path fill=\"none\" stroke=\"black\" d=\"M284.26,-73.5C292.05,-73.5 301.1,-73.5 310.75,-73.5\"/>\n",
              "<polygon fill=\"black\" stroke=\"black\" points=\"310.99,-77 320.99,-73.5 310.99,-70 310.99,-77\"/>\n",
              "</g>\n",
              "<!-- 132916782819056 -->\n",
              "<g id=\"node7\" class=\"node\">\n",
              "<title>132916782819056</title>\n",
              "<polygon fill=\"none\" stroke=\"black\" points=\"0,-28.5 0,-64.5 194,-64.5 194,-28.5 0,-28.5\"/>\n",
              "<text text-anchor=\"middle\" x=\"11.5\" y=\"-42.8\" font-family=\"Times,serif\" font-size=\"14.00\">b</text>\n",
              "<polyline fill=\"none\" stroke=\"black\" points=\"23,-28.5 23,-64.5 \"/>\n",
              "<text text-anchor=\"middle\" x=\"65.5\" y=\"-42.8\" font-family=\"Times,serif\" font-size=\"14.00\">data &#45;3.0000</text>\n",
              "<polyline fill=\"none\" stroke=\"black\" points=\"108,-28.5 108,-64.5 \"/>\n",
              "<text text-anchor=\"middle\" x=\"151\" y=\"-42.8\" font-family=\"Times,serif\" font-size=\"14.00\">grad &#45;4.0000</text>\n",
              "</g>\n",
              "<!-- 132916782819056&#45;&gt;132916782814928* -->\n",
              "<g id=\"edge6\" class=\"edge\">\n",
              "<title>132916782819056&#45;&gt;132916782814928*</title>\n",
              "<path fill=\"none\" stroke=\"black\" d=\"M194.01,-62.91C203.35,-64.5 212.37,-66.04 220.49,-67.43\"/>\n",
              "<polygon fill=\"black\" stroke=\"black\" points=\"220.16,-70.93 230.6,-69.16 221.34,-64.03 220.16,-70.93\"/>\n",
              "</g>\n",
              "<!-- 132916782823232 -->\n",
              "<g id=\"node8\" class=\"node\">\n",
              "<title>132916782823232</title>\n",
              "<polygon fill=\"none\" stroke=\"black\" points=\"320,-0.5 320,-36.5 516,-36.5 516,-0.5 320,-0.5\"/>\n",
              "<text text-anchor=\"middle\" x=\"331.5\" y=\"-14.8\" font-family=\"Times,serif\" font-size=\"14.00\">c</text>\n",
              "<polyline fill=\"none\" stroke=\"black\" points=\"343,-0.5 343,-36.5 \"/>\n",
              "<text text-anchor=\"middle\" x=\"386.5\" y=\"-14.8\" font-family=\"Times,serif\" font-size=\"14.00\">data 10.0000</text>\n",
              "<polyline fill=\"none\" stroke=\"black\" points=\"430,-0.5 430,-36.5 \"/>\n",
              "<text text-anchor=\"middle\" x=\"473\" y=\"-14.8\" font-family=\"Times,serif\" font-size=\"14.00\">grad &#45;2.0000</text>\n",
              "</g>\n",
              "<!-- 132916782823232&#45;&gt;132916782687072+ -->\n",
              "<g id=\"edge4\" class=\"edge\">\n",
              "<title>132916782823232&#45;&gt;132916782687072+</title>\n",
              "<path fill=\"none\" stroke=\"black\" d=\"M516.07,-34.98C525.42,-36.57 534.43,-38.1 542.55,-39.48\"/>\n",
              "<polygon fill=\"black\" stroke=\"black\" points=\"542.21,-42.97 552.65,-41.2 543.38,-36.07 542.21,-42.97\"/>\n",
              "</g>\n",
              "<!-- 132916782687072 -->\n",
              "<g id=\"node9\" class=\"node\">\n",
              "<title>132916782687072</title>\n",
              "<polygon fill=\"none\" stroke=\"black\" points=\"642,-27.5 642,-63.5 831,-63.5 831,-27.5 642,-27.5\"/>\n",
              "<text text-anchor=\"middle\" x=\"653.5\" y=\"-41.8\" font-family=\"Times,serif\" font-size=\"14.00\">d</text>\n",
              "<polyline fill=\"none\" stroke=\"black\" points=\"665,-27.5 665,-63.5 \"/>\n",
              "<text text-anchor=\"middle\" x=\"705\" y=\"-41.8\" font-family=\"Times,serif\" font-size=\"14.00\">data 4.0000</text>\n",
              "<polyline fill=\"none\" stroke=\"black\" points=\"745,-27.5 745,-63.5 \"/>\n",
              "<text text-anchor=\"middle\" x=\"788\" y=\"-41.8\" font-family=\"Times,serif\" font-size=\"14.00\">grad &#45;2.0000</text>\n",
              "</g>\n",
              "<!-- 132916782687072&#45;&gt;132916782483024* -->\n",
              "<g id=\"edge8\" class=\"edge\">\n",
              "<title>132916782687072&#45;&gt;132916782483024*</title>\n",
              "<path fill=\"none\" stroke=\"black\" d=\"M831.1,-61.75C840.4,-63.37 849.38,-64.93 857.49,-66.33\"/>\n",
              "<polygon fill=\"black\" stroke=\"black\" points=\"857.14,-69.83 867.59,-68.09 858.34,-62.93 857.14,-69.83\"/>\n",
              "</g>\n",
              "<!-- 132916782687072+&#45;&gt;132916782687072 -->\n",
              "<g id=\"edge3\" class=\"edge\">\n",
              "<title>132916782687072+&#45;&gt;132916782687072</title>\n",
              "<path fill=\"none\" stroke=\"black\" d=\"M606.03,-45.5C613.66,-45.5 622.52,-45.5 631.94,-45.5\"/>\n",
              "<polygon fill=\"black\" stroke=\"black\" points=\"631.94,-49 641.94,-45.5 631.94,-42 631.94,-49\"/>\n",
              "</g>\n",
              "</g>\n",
              "</svg>\n"
            ],
            "text/plain": [
              "<graphviz.graphs.Digraph at 0x78e2f7a65d30>"
            ]
          },
          "execution_count": 23,
          "metadata": {},
          "output_type": "execute_result"
        }
      ],
      "source": [
        "draw_dot(L)"
      ]
    },
    {
      "cell_type": "code",
      "execution_count": 22,
      "metadata": {
        "id": "2rgM99LZt2gk"
      },
      "outputs": [],
      "source": [
        "a.grad = (f.data * b.data)\n",
        "b.grad = (f.data * a.data)"
      ]
    },
    {
      "cell_type": "code",
      "execution_count": 18,
      "metadata": {
        "id": "TsnAx-gDt2dc"
      },
      "outputs": [],
      "source": []
    },
    {
      "cell_type": "code",
      "execution_count": 18,
      "metadata": {
        "id": "gj-wPlP6t2aV"
      },
      "outputs": [],
      "source": []
    },
    {
      "cell_type": "code",
      "execution_count": 19,
      "metadata": {
        "colab": {
          "base_uri": "https://localhost:8080/"
        },
        "id": "hwkwlDfW-bkS",
        "outputId": "d6284c90-44b1-4f50-d337-a30a49170c71"
      },
      "outputs": [
        {
          "name": "stdout",
          "output_type": "stream",
          "text": [
            "0.0\n"
          ]
        }
      ],
      "source": [
        "def lol():\n",
        "  h = 0.001\n",
        "\n",
        "  a = Value(2.0, label='a')\n",
        "  b = Value(-3.0, label='b')\n",
        "  c = Value(10.0, label='c')\n",
        "  e = a*b; e.label='e'\n",
        "  a + b # a.add(b)\n",
        "  d = e + c ; d.label='d'\n",
        "  f = Value(-2.0, label='f')\n",
        "  L = d*f; L.label='L'\n",
        "  L1 = L.data\n",
        "\n",
        "  a = Value(2.0, label='a')\n",
        "  b = Value(-3.0, label='b')\n",
        "  c = Value(10.0, label='c')\n",
        "  e = a*b; e.label='e'\n",
        "  a + b # a.add(b)\n",
        "  d = e + c ; d.label='d'\n",
        "  f = Value(-2.0, label='f')\n",
        "  L = d*f; L.label='L'\n",
        "  L2 = L.data\n",
        "\n",
        "  print((L2-L1)/h)\n",
        "lol()"
      ]
    },
    {
      "cell_type": "code",
      "execution_count": 19,
      "metadata": {
        "id": "kjpeqUN7-bhs"
      },
      "outputs": [],
      "source": []
    },
    {
      "cell_type": "code",
      "execution_count": 19,
      "metadata": {
        "id": "I4zZuJYE-beq"
      },
      "outputs": [],
      "source": []
    },
    {
      "cell_type": "code",
      "execution_count": 19,
      "metadata": {
        "id": "r3gjdApa-bbz"
      },
      "outputs": [],
      "source": []
    },
    {
      "cell_type": "code",
      "execution_count": 19,
      "metadata": {
        "id": "tabpqB3SFJJJ"
      },
      "outputs": [],
      "source": []
    }
  ],
  "metadata": {
    "colab": {
      "authorship_tag": "ABX9TyNk+VAKqkNqZQpNyn4aDeKj",
      "include_colab_link": true,
      "provenance": []
    },
    "kernelspec": {
      "display_name": "Python 3",
      "name": "python3"
    },
    "language_info": {
      "name": "python"
    }
  },
  "nbformat": 4,
  "nbformat_minor": 0
}
