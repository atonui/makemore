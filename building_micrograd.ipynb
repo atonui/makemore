{
  "nbformat": 4,
  "nbformat_minor": 0,
  "metadata": {
    "colab": {
      "provenance": [],
      "authorship_tag": "ABX9TyNGdcc5gzJYVRzCAkfQPxnx",
      "include_colab_link": true
    },
    "kernelspec": {
      "name": "python3",
      "display_name": "Python 3"
    },
    "language_info": {
      "name": "python"
    }
  },
  "cells": [
    {
      "cell_type": "markdown",
      "metadata": {
        "id": "view-in-github",
        "colab_type": "text"
      },
      "source": [
        "<a href=\"https://colab.research.google.com/github/atonui/makemore/blob/main/building_micrograd.ipynb\" target=\"_parent\"><img src=\"https://colab.research.google.com/assets/colab-badge.svg\" alt=\"Open In Colab\"/></a>"
      ]
    },
    {
      "cell_type": "markdown",
      "source": [
        "https://www.youtube.com/watch?v=VMj-3S1tku0&list=PLAqhIrjkxbuWI23v9cThsA9GvCAUhRvKZ&index=1&t=493s&ab_channel=AndrejKarpathy"
      ],
      "metadata": {
        "id": "5DH9UWjPFOsH"
      }
    },
    {
      "cell_type": "code",
      "source": [
        "import numpy as np\n",
        "import matplotlib.pyplot as plt\n",
        "import math\n",
        "%matplotlib inline"
      ],
      "metadata": {
        "id": "GRE_07-CFRDH"
      },
      "execution_count": 2,
      "outputs": []
    },
    {
      "cell_type": "code",
      "source": [
        "def f(x):\n",
        "  return 3*x**2 - 4*x + 5"
      ],
      "metadata": {
        "id": "H8mdg2rmFRAe"
      },
      "execution_count": 3,
      "outputs": []
    },
    {
      "cell_type": "code",
      "source": [
        "xs = np.arange(-5, 5, 0.1)\n",
        "ys = f(xs)\n",
        "plt.plot(xs, ys)"
      ],
      "metadata": {
        "colab": {
          "base_uri": "https://localhost:8080/",
          "height": 447
        },
        "id": "Uga7DFKPFQ9m",
        "outputId": "3985618b-4477-455d-d697-957f5e580ccb"
      },
      "execution_count": 4,
      "outputs": [
        {
          "output_type": "execute_result",
          "data": {
            "text/plain": [
              "[<matplotlib.lines.Line2D at 0x7c10b395d310>]"
            ]
          },
          "metadata": {},
          "execution_count": 4
        },
        {
          "output_type": "display_data",
          "data": {
            "text/plain": [
              "<Figure size 640x480 with 1 Axes>"
            ],
            "image/png": "[encoded data removed]"
          },
          "metadata": {}
        }
      ]
    },
    {
      "cell_type": "markdown",
      "source": [
        "## What is a Deivative?\n",
        "\n",
        "$$L = \\lim_{x \\to 0} \\frac{f(a+h) - f(a)}{h}$$\n",
        "\n",
        "If I slightly increase or decrease $f(a)$ how much does it change? What is it's sensitivity? Does it go up or down and by how much?"
      ],
      "metadata": {
        "id": "jOzPRYqlVBQp"
      }
    },
    {
      "cell_type": "code",
      "source": [
        "h = 0.0001 # a small change\n",
        "x = 3\n",
        "print(f(x))\n",
        "print(f(x + h))\n",
        "print((f(x + h) - f(x))/h)"
      ],
      "metadata": {
        "colab": {
          "base_uri": "https://localhost:8080/"
        },
        "id": "6visBIVwFQ6-",
        "outputId": "48579d55-5f67-43d5-aaa0-d7463920da6a"
      },
      "execution_count": 5,
      "outputs": [
        {
          "output_type": "stream",
          "name": "stdout",
          "text": [
            "20\n",
            "20.001400030000006\n",
            "14.000300000063248\n"
          ]
        }
      ]
    },
    {
      "cell_type": "code",
      "source": [
        "h = 0.0001 # a small change\n",
        "x = -3\n",
        "print(f(x))\n",
        "print(f(x + h))\n",
        "print((f(x + h) - f(x))/h)"
      ],
      "metadata": {
        "colab": {
          "base_uri": "https://localhost:8080/"
        },
        "id": "742u-Hryq9uC",
        "outputId": "91db1ae4-bcab-440f-99ac-1c85391f70e1"
      },
      "execution_count": 6,
      "outputs": [
        {
          "output_type": "stream",
          "name": "stdout",
          "text": [
            "44\n",
            "43.99780002999999\n",
            "-21.999700000066014\n"
          ]
        }
      ]
    },
    {
      "cell_type": "code",
      "source": [
        "h = 0.0001 # a small change\n",
        "x = 2/3\n",
        "print(f(x))\n",
        "print(f(x + h))\n",
        "print((f(x + h) - f(x))/h)"
      ],
      "metadata": {
        "colab": {
          "base_uri": "https://localhost:8080/"
        },
        "id": "BruLdISerXy1",
        "outputId": "8f192a00-d8f2-4723-babc-ac655ea5495a"
      },
      "execution_count": 7,
      "outputs": [
        {
          "output_type": "stream",
          "name": "stdout",
          "text": [
            "3.666666666666667\n",
            "3.666666696666667\n",
            "0.0002999999981767587\n"
          ]
        }
      ]
    },
    {
      "cell_type": "code",
      "source": [
        "# a more complicated funtion\n",
        "a = 2.0\n",
        "b = -3.0\n",
        "c = 10.0\n",
        "\n",
        "d = a*b + c\n",
        "print(d)"
      ],
      "metadata": {
        "colab": {
          "base_uri": "https://localhost:8080/"
        },
        "id": "VtcccvH3rXwk",
        "outputId": "3221df3a-ed8c-4fdc-b731-ee01da0e135f"
      },
      "execution_count": 8,
      "outputs": [
        {
          "output_type": "stream",
          "name": "stdout",
          "text": [
            "4.0\n"
          ]
        }
      ]
    },
    {
      "cell_type": "code",
      "source": [
        "# applying the derivative to find out the effect of each variable on d\n",
        "# a\n",
        "h = 0.0001\n",
        "\n",
        "a+=h\n",
        "d1 = a*b + c\n",
        "slope = (d1 - d)/(h)\n",
        "print('d1: ', d)\n",
        "print('slope: ', slope)"
      ],
      "metadata": {
        "colab": {
          "base_uri": "https://localhost:8080/"
        },
        "id": "To3m67o1rXt3",
        "outputId": "1f73a0e9-a1f0-4c58-d997-7d6ce0cead27"
      },
      "execution_count": 9,
      "outputs": [
        {
          "output_type": "stream",
          "name": "stdout",
          "text": [
            "d1:  4.0\n",
            "slope:  -3.000000000010772\n"
          ]
        }
      ]
    },
    {
      "cell_type": "markdown",
      "source": [
        "Increasing $a$ by a small amount results in decreasing $d$ by -3."
      ],
      "metadata": {
        "id": "v4oLyL_quZWN"
      }
    },
    {
      "cell_type": "code",
      "source": [
        "# b\n",
        "a = 2.0\n",
        "b = -3.0\n",
        "c = 10.0\n",
        "\n",
        "d = a*b + c\n",
        "\n",
        "b+=h\n",
        "d2 = a*b + c\n",
        "slope2 = (d2 - d)/(h)\n",
        "print('d2: ', d2)\n",
        "print('slope: ', slope2)"
      ],
      "metadata": {
        "colab": {
          "base_uri": "https://localhost:8080/"
        },
        "id": "Kj3XpYt1rXq-",
        "outputId": "50d38399-3a95-4120-e443-f7842b5770d5"
      },
      "execution_count": 10,
      "outputs": [
        {
          "output_type": "stream",
          "name": "stdout",
          "text": [
            "d2:  4.0002\n",
            "slope:  2.0000000000042206\n"
          ]
        }
      ]
    },
    {
      "cell_type": "markdown",
      "source": [
        "increasing $b$ by a asmall amount results in increasing $d$ by 2."
      ],
      "metadata": {
        "id": "MDwPvbWk4NDM"
      }
    },
    {
      "cell_type": "code",
      "source": [
        "# c\n",
        "a = 2.0\n",
        "b = -3.0\n",
        "c = 10.0\n",
        "\n",
        "d = a*b + c\n",
        "\n",
        "c+=h\n",
        "d3 = a*b + c\n",
        "slope3 = (d3 - d)/(h)\n",
        "print('d3: ', d3)\n",
        "print('slope: ', slope3)"
      ],
      "metadata": {
        "colab": {
          "base_uri": "https://localhost:8080/"
        },
        "id": "MCMTESkOq9rB",
        "outputId": "201b0cde-26ba-41eb-fcc9-91fbbef66198"
      },
      "execution_count": 11,
      "outputs": [
        {
          "output_type": "stream",
          "name": "stdout",
          "text": [
            "d3:  4.0001\n",
            "slope:  0.9999999999976694\n"
          ]
        }
      ]
    },
    {
      "cell_type": "markdown",
      "source": [
        "Increasing $c$ by a small amount results in increasing $d$ by 1."
      ],
      "metadata": {
        "id": "36Yp4Pdz4aMm"
      }
    },
    {
      "cell_type": "markdown",
      "source": [
        "## Data Structure to Hold a Neuron"
      ],
      "metadata": {
        "id": "M71c2CIt45GT"
      }
    },
    {
      "cell_type": "code",
      "source": [
        "class Value:\n",
        "  def __init__(self, data, _children=(), _op='', label=''):\n",
        "    self.data = data\n",
        "    self.grad = 0.0 # derivative of the output, L wrt this variable\n",
        "    self._backward = lambda: None\n",
        "    self._prev = set(_children)\n",
        "    self._op = _op\n",
        "    self.label = label\n",
        "\n",
        "  def __repr__(self):\n",
        "    '''print out a nice looking expression rather that the memory address'''\n",
        "    return f\"Value(Data={self.data})\"\n",
        "\n",
        "  def __add__(self, other):\n",
        "    other = other if isinstance(other, Value) else Value(other)\n",
        "    out = Value(self.data + other.data, (self, other), '+')\n",
        "    def _backward():\n",
        "      '''since this is a '+' node, the local gradient wrt to the output is 1,\n",
        "      then we multiply by the gradient(effect) of the gradient being\n",
        "      propagated backwards all the way from the output'''\n",
        "      self.grad += 1.0 * out.grad # += is to accumulate the gradients rather than set them outright as using the same variable more than once will overide what was initially set\n",
        "      other.grad += 1.0 * out.grad\n",
        "    out._backward = _backward\n",
        "    return out\n",
        "\n",
        "  def __radd__(self, other):\n",
        "    return self + other\n",
        "\n",
        "  def __mul__(self, other):\n",
        "    '''performs a multiplication function'''\n",
        "    other = other if isinstance(other, Value) else Value(other)\n",
        "    out = Value(self.data * other.data, (self, other), '*')\n",
        "\n",
        "    def _backward():\n",
        "      '''returns the functions gradient'''\n",
        "      self.grad += other.data * out.grad\n",
        "      other.grad += self.data * out.grad\n",
        "    out._backward = _backward\n",
        "    return out\n",
        "\n",
        "  def __rmul__(self, other):\n",
        "    '''fallback multiplication function'''\n",
        "    return self * other\n",
        "\n",
        "  def __pow__(self, other):\n",
        "    '''performs a power function'''\n",
        "    assert isinstance(other, (int, float)), \"only supporting int or float powers\"\n",
        "    out = Value(self.data**other, (self,), f'**{other}')\n",
        "\n",
        "    def _backward():\n",
        "      '''returns the functions gradient'''\n",
        "      self.grad += other * (self.data**(other-1)) * out.grad\n",
        "    out._backward = _backward\n",
        "    return out\n",
        "\n",
        "  def __truediv__(self, other):\n",
        "    '''performs a division'''\n",
        "    other = other if isinstance(other, Value) else Value(other)\n",
        "    self = self if isinstance(self, Value) else Value(self)\n",
        "    return self * other**-1\n",
        "\n",
        "  def __neg__(self):\n",
        "    '''returns the negative of the value'''\n",
        "    return self * -1\n",
        "\n",
        "  def __sub__(self, other):\n",
        "    '''performs a subtraction'''\n",
        "    return self + (-other)\n",
        "\n",
        "  def exp(self):\n",
        "    '''performs an exponential function'''\n",
        "    x = self.data\n",
        "    out = Value(np.exp(x), (self, ), 'exp')\n",
        "\n",
        "    def _backward():\n",
        "      '''returns the functions gradient'''\n",
        "      self.grad += out.data * out.grad\n",
        "    out._backward = _backward\n",
        "    return out\n",
        "\n",
        "  def tanh(self):\n",
        "    x = self.data\n",
        "    t = (np.exp(2*x) - 1) / (np.exp(2*x) + 1)\n",
        "    out = Value(t, (self, ), 'tanh')\n",
        "\n",
        "    def _backward():\n",
        "      '''returns the functions gradient'''\n",
        "      self.grad += (1 - t**2) * out.grad\n",
        "    out._backward = _backward\n",
        "    return out\n",
        "\n",
        "  def backward(self):\n",
        "     '''autogradient function'''\n",
        "     # first we build a topographical map of the nodes\n",
        "     topo = []\n",
        "     visited = set()\n",
        "     def build_topo(v):\n",
        "       if v not in visited:\n",
        "         visited.add(v)\n",
        "         for child in v._prev:\n",
        "           build_topo(child)\n",
        "         topo.append(v)\n",
        "     build_topo(self)\n",
        "     # base case is that the output node has a gradient of 1\n",
        "     self.grad = 1.0\n",
        "     # call the gradient function on each node in reverse\n",
        "     for node in reversed(topo):\n",
        "       node._backward()"
      ],
      "metadata": {
        "id": "QjD9IWPZq9n6"
      },
      "execution_count": 12,
      "outputs": []
    },
    {
      "cell_type": "code",
      "source": [
        "a = Value(3.0, label='a')\n",
        "b = a + a ; b.label = 'b'\n",
        "b.backward()\n",
        "draw_dot(b)"
      ],
      "metadata": {
        "colab": {
          "base_uri": "https://localhost:8080/",
          "height": 176
        },
        "id": "gqdgkTNq8lbH",
        "outputId": "47f669a5-eb24-4b3b-c922-98bc5d949b76"
      },
      "execution_count": 13,
      "outputs": [
        {
          "output_type": "error",
          "ename": "NameError",
          "evalue": "name 'draw_dot' is not defined",
          "traceback": [
            "\u001b[0;31m---------------------------------------------------------------------------\u001b[0m",
            "\u001b[0;31mNameError\u001b[0m                                 Traceback (most recent call last)",
            "\u001b[0;32m/tmp/ipython-input-78550878.py\u001b[0m in \u001b[0;36m<cell line: 0>\u001b[0;34m()\u001b[0m\n\u001b[1;32m      2\u001b[0m \u001b[0mb\u001b[0m \u001b[0;34m=\u001b[0m \u001b[0ma\u001b[0m \u001b[0;34m+\u001b[0m \u001b[0ma\u001b[0m \u001b[0;34m;\u001b[0m \u001b[0mb\u001b[0m\u001b[0;34m.\u001b[0m\u001b[0mlabel\u001b[0m \u001b[0;34m=\u001b[0m \u001b[0;34m'b'\u001b[0m\u001b[0;34m\u001b[0m\u001b[0;34m\u001b[0m\u001b[0m\n\u001b[1;32m      3\u001b[0m \u001b[0mb\u001b[0m\u001b[0;34m.\u001b[0m\u001b[0mbackward\u001b[0m\u001b[0;34m(\u001b[0m\u001b[0;34m)\u001b[0m\u001b[0;34m\u001b[0m\u001b[0;34m\u001b[0m\u001b[0m\n\u001b[0;32m----> 4\u001b[0;31m \u001b[0mdraw_dot\u001b[0m\u001b[0;34m(\u001b[0m\u001b[0mb\u001b[0m\u001b[0;34m)\u001b[0m\u001b[0;34m\u001b[0m\u001b[0;34m\u001b[0m\u001b[0m\n\u001b[0m",
            "\u001b[0;31mNameError\u001b[0m: name 'draw_dot' is not defined"
          ]
        }
      ]
    },
    {
      "cell_type": "code",
      "source": [
        "9-a"
      ],
      "metadata": {
        "id": "kl6zS2kW9560"
      },
      "execution_count": null,
      "outputs": []
    },
    {
      "cell_type": "code",
      "source": [
        "a = Value(2.0, label='a')\n",
        "b = Value(-3.0, label='b')\n",
        "c = Value(10.0, label='c')\n",
        "e = a*b; e.label='e'\n",
        "a + b # a.add(b)\n",
        "d = e + c ; d.label='d'\n",
        "f = Value(-2.0, label='f')\n",
        "L = d*f; L.label='L'\n",
        "L"
      ],
      "metadata": {
        "id": "s-mTw0q66fsJ"
      },
      "execution_count": null,
      "outputs": []
    },
    {
      "cell_type": "code",
      "source": [
        "print(d._prev)\n",
        "print(d._op)"
      ],
      "metadata": {
        "id": "W6im96_Oq9iS"
      },
      "execution_count": null,
      "outputs": []
    },
    {
      "cell_type": "markdown",
      "source": [
        "### Visualiser"
      ],
      "metadata": {
        "id": "J9Mb0imQStlw"
      }
    },
    {
      "cell_type": "code",
      "source": [
        "# a way to visualise the mathematical expressions\n",
        "from graphviz import Digraph\n",
        "\n",
        "def trace(root):\n",
        "  '''build a set of all nodes in a graph\n",
        "  accepts an instance of the class Value\n",
        "  and returns a set of all its node and edges'''\n",
        "  nodes, edges = set(), set()\n",
        "  def build(v):\n",
        "    if v not in nodes:\n",
        "      nodes.add(v)\n",
        "      for child in v._prev:\n",
        "        edges.add((child, v))\n",
        "        build(child)\n",
        "  build(root)\n",
        "  return nodes, edges\n",
        "\n",
        "def draw_dot(root):\n",
        "  dot = Digraph(format='svg', graph_attr={'rankdir': 'LR'}) # left to right\n",
        "  nodes, edges = trace(root)\n",
        "  for n in nodes:\n",
        "    uid = str(id(n))\n",
        "    # for any value in the graph, create a rectangular ('record') node for it\n",
        "    dot.node(name=uid, label = \"{ %s | data %.4f | grad %.4f}\" % (n.label, n.data, n.grad), shape='record')\n",
        "    if n._op:\n",
        "      # if this values is the result of some operation, create an op node for it\n",
        "      dot.node(name=uid + n._op, label = n._op)\n",
        "      # and connect this node to it\n",
        "      dot.edge(uid + n._op, uid)\n",
        "\n",
        "  for n1, n2 in edges:\n",
        "     # connect n1 to the op node of n2\n",
        "     dot.edge(str(id(n1)), str(id(n2)) + n2._op)\n",
        "\n",
        "  return dot"
      ],
      "metadata": {
        "id": "DPexwyAx-bpV"
      },
      "execution_count": 14,
      "outputs": []
    },
    {
      "cell_type": "code",
      "source": [
        "draw_dot(L)"
      ],
      "metadata": {
        "id": "PdDgHn70-bm6"
      },
      "execution_count": null,
      "outputs": []
    },
    {
      "cell_type": "markdown",
      "source": [
        "This diagram above is our forward propagation. For the backpropagation, we have to find the derivative of all the terms wrt L"
      ],
      "metadata": {
        "id": "OurbbWUytPMP"
      }
    },
    {
      "cell_type": "code",
      "source": [
        "L.grad = 1.0 # derivative of L wrt to itself is 1"
      ],
      "metadata": {
        "id": "wZmjWG0vtrM0"
      },
      "execution_count": null,
      "outputs": []
    },
    {
      "cell_type": "markdown",
      "source": [
        "$$L = d*f$$\n",
        "$$\\frac{dL}{dd} = f$$\n",
        "$$\\frac{dL}{df} = d$$"
      ],
      "metadata": {
        "id": "p77N6PXhuV_c"
      }
    },
    {
      "cell_type": "code",
      "source": [
        "# from above\n",
        "f.grad = d.data\n",
        "d.grad = f.data"
      ],
      "metadata": {
        "id": "Vp8CdQP7t2pN"
      },
      "execution_count": null,
      "outputs": []
    },
    {
      "cell_type": "markdown",
      "source": [
        "$$d = c+e$$\\\n",
        "$$\\frac{dd}{dc} = 1$$\\\n",
        "$$\\frac{dd}{de} = 1$$\n",
        "\n",
        "The derivative of a sum is one.\n",
        "\n",
        "But how does $c$ or $e$ affect $L$?\n",
        "\n",
        "Chain rule:\n",
        "$$\\frac{dz}{dx} = \\frac{dz}{dy} * \\frac{dy}{dx} \\: ∴ $$ \\\n",
        "$$\\frac{dL}{dc} = \\frac{dL}{dd} * \\frac{dd}{dc}$$ \\\n",
        "$$= f*1 = f$$ \\\n",
        "and:\n",
        "$$\\frac{dL}{de} = \\frac{dL}{dd} * \\frac{dd}{de}$$ \\\n",
        "$$= f*1 = f$$ \\\n",
        "Therfore we can conclude that a '+' node just routes backwards the gradient through because the local derivatives in a '+' node are always 1 i.e. it will distribute the incoming derivative to all it's children nodes."
      ],
      "metadata": {
        "id": "EPqf0xDJxss1"
      }
    },
    {
      "cell_type": "code",
      "source": [
        "# from above\n",
        "c.grad = f.data\n",
        "e.grad = f.data"
      ],
      "metadata": {
        "id": "lo8duc-ot2mR"
      },
      "execution_count": null,
      "outputs": []
    },
    {
      "cell_type": "markdown",
      "source": [
        "$$e=a*b$$ \\\n",
        "$$\\frac{de}{da}=b=-3.0$$ \\\n",
        "$$\\frac{dL}{da} = \\frac{dL}{de} * \\frac{dd}{de}$$ \\\n",
        "$$\\frac{dL}{de}=f=-2.0$$ \\\n",
        "$$\\frac{de}{da}=b=-3.0$$\n"
      ],
      "metadata": {
        "id": "tKcHVywp9i8i"
      }
    },
    {
      "cell_type": "code",
      "source": [
        "draw_dot(L)"
      ],
      "metadata": {
        "id": "LGd2ESCFt2jU"
      },
      "execution_count": null,
      "outputs": []
    },
    {
      "cell_type": "code",
      "source": [
        "a.grad = (f.data * b.data)\n",
        "b.grad = (f.data * a.data)"
      ],
      "metadata": {
        "id": "2rgM99LZt2gk"
      },
      "execution_count": null,
      "outputs": []
    },
    {
      "cell_type": "markdown",
      "source": [
        "Now we know the effect of each node on L, let's nudge each input by a fraction of its gradient and see if L will decrease a little."
      ],
      "metadata": {
        "id": "NPAd2zmu_2eq"
      }
    },
    {
      "cell_type": "code",
      "source": [
        "# a.data += 0.1*a.grad\n",
        "# b.data += 0.01*b.grad\n",
        "# c.data += 0.01*c.grad\n",
        "f.data += 0.1*f.grad\n",
        "\n",
        "# run the forward pass again\n",
        "e = a*b\n",
        "d = e + c\n",
        "L = d*f\n",
        "\n",
        "L.data"
      ],
      "metadata": {
        "id": "7d1n0lka_13_"
      },
      "execution_count": null,
      "outputs": []
    },
    {
      "cell_type": "code",
      "source": [
        "def lol():\n",
        "  h = 0.001\n",
        "\n",
        "  a = Value(2.0, label='a')\n",
        "  b = Value(-3.0, label='b')\n",
        "  c = Value(10.0, label='c')\n",
        "  e = a*b; e.label='e'\n",
        "  a + b # a.add(b)\n",
        "  d = e + c ; d.label='d'\n",
        "  f = Value(-2.0, label='f')\n",
        "  L = d*f; L.label='L'\n",
        "  L1 = L.data\n",
        "\n",
        "  a = Value(2.0, label='a')\n",
        "  b = Value(-3.0+h, label='b')\n",
        "  c = Value(10.0, label='c')\n",
        "  e = a*b; e.label='e'\n",
        "  a + b # a.add(b)\n",
        "  d = e + c ; d.label='d'\n",
        "  f = Value(-2.0, label='f')\n",
        "  L = d*f; L.label='L'\n",
        "  L2 = L.data\n",
        "\n",
        "  print((L2-L1)/h)\n",
        "lol()"
      ],
      "metadata": {
        "id": "hwkwlDfW-bkS"
      },
      "execution_count": null,
      "outputs": []
    },
    {
      "cell_type": "markdown",
      "source": [
        "### Backpropagation through a neuron\n",
        "- Backpropagation using a more complex structure, the neuron.\n",
        "![neuron_model.jpeg](data:image/jpeg;base64,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)"
      ],
      "metadata": {
        "id": "zaP9ezkuD8K3"
      }
    },
    {
      "cell_type": "markdown",
      "source": [
        "#### Tanh Activation Funciton\n",
        "- Applied to the output of every neuron."
      ],
      "metadata": {
        "id": "-ARRimfxJ7wY"
      }
    },
    {
      "cell_type": "code",
      "source": [
        "plt.grid()\n",
        "plt.title('tanh')\n",
        "plt.plot(np.arange(-5,5,0.2), np.tanh(np.arange(-5,5,0.2)))"
      ],
      "metadata": {
        "id": "kjpeqUN7-bhs"
      },
      "execution_count": null,
      "outputs": []
    },
    {
      "cell_type": "markdown",
      "source": [
        "### Simple MLP"
      ],
      "metadata": {
        "id": "f4vpOdnuOTAs"
      }
    },
    {
      "cell_type": "code",
      "source": [
        "# inputs x1, x2\n",
        "x1 = Value(2.0, label='x1')\n",
        "x2 = Value(0.0, label='x2')\n",
        "# weights\n",
        "w1 = Value(-3.0, label='w1')\n",
        "w2 = Value(1.0, label='w2')\n",
        "# bias of the neuron\n",
        "b = Value(6.8813735870195432, label='b')\n",
        "\n",
        "x1w1 = x1*w1; x1w1.label = 'x1*w1'\n",
        "x2w2 = x2*w2; x2w2.label = 'x2*w2'\n",
        "x1w1x2w2 = x1w1 + x2w2; x1w1x2w2.label = 'x1*w1 + x2*w2'\n",
        "n = x1w1x2w2 + b; n.label = 'n'\n",
        "o = n.tanh(); o.label = 'o'; o.grad = 1"
      ],
      "metadata": {
        "id": "GnlbC8CRHRGk"
      },
      "execution_count": null,
      "outputs": []
    },
    {
      "cell_type": "code",
      "source": [
        "draw_dot(o)"
      ],
      "metadata": {
        "id": "CPaZFP9KHREF"
      },
      "execution_count": null,
      "outputs": []
    },
    {
      "cell_type": "markdown",
      "source": [
        "### Manual Backpropagation\n",
        "#### Tanh\n",
        "$$\\frac{do}{dn} = \\frac{d}{dx} tanh(x) = 1 - tanh^{2}(x)$$\n",
        "$$= 1 -o^2$$"
      ],
      "metadata": {
        "id": "Hm-PMqdxYnJg"
      }
    },
    {
      "cell_type": "code",
      "source": [
        "n.grad = 1 - (o.data**2)"
      ],
      "metadata": {
        "id": "mn7PuEXxHRBE"
      },
      "execution_count": null,
      "outputs": []
    },
    {
      "cell_type": "code",
      "source": [
        "# since the '+' node just backpropagates the derivative through it:\n",
        "b.grad = n.grad\n",
        "x1w1x2w2.grad = n.grad\n",
        "x1w1.grad = x1w1x2w2.grad\n",
        "x2w2.grad = x1w1x2w2.grad\n",
        "\n",
        "# at the '*' node\n",
        "x2.grad = w2.data * x2w2.grad\n",
        "x1.grad = w1.data * x1w1.grad\n",
        "w2.grad = x2.data * x2w2.grad\n",
        "w1.grad = x1.data * x1w1.grad"
      ],
      "metadata": {
        "id": "QJp0XV6KHQ-M"
      },
      "execution_count": null,
      "outputs": []
    },
    {
      "cell_type": "markdown",
      "source": [
        "### Automatic Backpropagation"
      ],
      "metadata": {
        "id": "bNVgRcGSs9pw"
      }
    },
    {
      "cell_type": "code",
      "source": [
        "# redefine and redraw the MLP\n",
        "x1 = Value(2.0, label='x1')\n",
        "x2 = Value(0.0, label='x2')\n",
        "# weights\n",
        "w1 = Value(-3.0, label='w1')\n",
        "w2 = Value(1.0, label='w2')\n",
        "# bias of the neuron\n",
        "b = Value(6.8813735870195432, label='b')\n",
        "\n",
        "x1w1 = x1*w1; x1w1.label = 'x1*w1'\n",
        "x2w2 = x2*w2; x2w2.label = 'x2*w2'\n",
        "x1w1x2w2 = x1w1 + x2w2; x1w1x2w2.label = 'x1*w1 + x2*w2'\n",
        "n = x1w1x2w2 + b; n.label = 'n'\n",
        "o = n.tanh(); o.label = 'o';\n",
        "o.backward()\n",
        "draw_dot(o)"
      ],
      "metadata": {
        "id": "ymFU6C1xHPA3"
      },
      "execution_count": null,
      "outputs": []
    },
    {
      "cell_type": "markdown",
      "source": [
        "Break up the $tanh$ and redo the MLP"
      ],
      "metadata": {
        "id": "B6MIJgITWO3x"
      }
    },
    {
      "cell_type": "code",
      "source": [
        "# redefine and redraw the MLP\n",
        "x1 = Value(2.0, label='x1')\n",
        "x2 = Value(0.0, label='x2')\n",
        "# weights\n",
        "w1 = Value(-3.0, label='w1')\n",
        "w2 = Value(1.0, label='w2')\n",
        "# bias of the neuron\n",
        "b = Value(6.8813735870195432, label='b')\n",
        "\n",
        "x1w1 = x1*w1; x1w1.label = 'x1*w1'\n",
        "x2w2 = x2*w2; x2w2.label = 'x2*w2'\n",
        "x1w1x2w2 = x1w1 + x2w2; x1w1x2w2.label = 'x1*w1 + x2*w2'\n",
        "n = x1w1x2w2 + b; n.label = 'n'\n",
        "# ------------------\n",
        "e = (2*n).exp()\n",
        "o = (e-1)/(e+1)\n",
        "# -----------------\n",
        "o.backward()\n",
        "draw_dot(o)"
      ],
      "metadata": {
        "id": "Bs4Az7FYWOLW"
      },
      "execution_count": null,
      "outputs": []
    },
    {
      "cell_type": "code",
      "source": [],
      "metadata": {
        "id": "ScBPQhBYWOIO"
      },
      "execution_count": null,
      "outputs": []
    },
    {
      "cell_type": "code",
      "source": [
        "o.backward()"
      ],
      "metadata": {
        "id": "at0KC7W96nKB"
      },
      "execution_count": null,
      "outputs": []
    },
    {
      "cell_type": "code",
      "source": [
        "draw_dot(o)"
      ],
      "metadata": {
        "id": "ksFrHI9T7OcD"
      },
      "execution_count": null,
      "outputs": []
    },
    {
      "cell_type": "code",
      "source": [
        "# now we call the backpropagation functions in the correct reverse order\n",
        "o.grad = 1 # initialise the base case because in the Values class, this is initialised to 0\n",
        "o._backward()\n",
        "draw_dot(o)"
      ],
      "metadata": {
        "id": "Ki_EW1XFHO9-"
      },
      "execution_count": null,
      "outputs": []
    },
    {
      "cell_type": "code",
      "source": [
        "n._backward()\n",
        "draw_dot(o)"
      ],
      "metadata": {
        "id": "_Mxxg7s_tU_v"
      },
      "execution_count": null,
      "outputs": []
    },
    {
      "cell_type": "code",
      "source": [
        "x1w1x2w2._backward()\n",
        "draw_dot(o)"
      ],
      "metadata": {
        "id": "ounLtPIPuwR4"
      },
      "execution_count": null,
      "outputs": []
    },
    {
      "cell_type": "code",
      "source": [
        "x1w1._backward()\n",
        "x2w2._backward()\n",
        "draw_dot(o)"
      ],
      "metadata": {
        "id": "CJjgCMB0u8pD"
      },
      "execution_count": null,
      "outputs": []
    },
    {
      "cell_type": "markdown",
      "source": [
        "- Note: we do not call the backpropagate function on the leaf nodes like b.\n",
        "The next thing is to automate this process so that we do not have to manually call the backpropagation.\n",
        "- To chieve this, we can organise the nodes in a topographical map so that all th nodes have to go from left to right."
      ],
      "metadata": {
        "id": "IFJ89UaCv9Tp"
      }
    },
    {
      "cell_type": "code",
      "source": [
        "o.grad = 1.0\n",
        "for node in reversed(sorted):\n",
        "  node._backward()"
      ],
      "metadata": {
        "id": "J-hqVY1mHSdj"
      },
      "execution_count": null,
      "outputs": []
    },
    {
      "cell_type": "code",
      "source": [
        "draw_dot(o)"
      ],
      "metadata": {
        "id": "7wcDrbG44xSX"
      },
      "execution_count": null,
      "outputs": []
    },
    {
      "cell_type": "code",
      "source": [
        "# topological sort\n",
        "def topo_sort(v):\n",
        "  topo = [] # empty list to contain the sorted elements\n",
        "  visited = set() # set of all nodes with no incoming edge\n",
        "\n",
        "  def build_topo(v):\n",
        "    # start the sort at root node v\n",
        "    if v not in visited:\n",
        "      visited.add(v)\n",
        "      for child in v._prev:\n",
        "        build_topo(child)\n",
        "        # after a going through all the children in a node, we add it to the sorted list\n",
        "        topo.append(v)\n",
        "  build_topo(v) # call the helper function to start the sort\n",
        "  return topo"
      ],
      "metadata": {
        "id": "RtRUWjalv9Ea"
      },
      "execution_count": null,
      "outputs": []
    },
    {
      "cell_type": "code",
      "source": [
        "sorted = topo_sort(o)\n",
        "print(sorted)"
      ],
      "metadata": {
        "id": "6rNFyASLTrto"
      },
      "execution_count": null,
      "outputs": []
    },
    {
      "cell_type": "code",
      "source": [
        "sorted2 = topo_sort(n)\n",
        "print(sorted2)\n",
        "for node in sorted2:\n",
        "  print(node.label)"
      ],
      "metadata": {
        "id": "5GgjsgY4v9Bp"
      },
      "execution_count": null,
      "outputs": []
    },
    {
      "cell_type": "code",
      "source": [
        "build_topo(x1w1x2w2)\n",
        "topo"
      ],
      "metadata": {
        "id": "9GW7aioFSoOL"
      },
      "execution_count": null,
      "outputs": []
    },
    {
      "cell_type": "code",
      "source": [
        "for node in topo:\n",
        "  print(node.label)"
      ],
      "metadata": {
        "id": "XJBF4OtjSn-a"
      },
      "execution_count": null,
      "outputs": []
    },
    {
      "cell_type": "code",
      "source": [
        "for child in n._prev:\n",
        "  print(child._prev,'\\n')"
      ],
      "metadata": {
        "id": "Q9zl3fLRD1hx"
      },
      "execution_count": null,
      "outputs": []
    },
    {
      "cell_type": "code",
      "source": [
        "for child in o._prev:\n",
        "  print(child._prev,'\\n')"
      ],
      "metadata": {
        "id": "6z6dQLYyD1fB"
      },
      "execution_count": null,
      "outputs": []
    },
    {
      "cell_type": "markdown",
      "source": [
        "# Pytorch Implementation"
      ],
      "metadata": {
        "id": "RIW1HaJ0oRaP"
      }
    },
    {
      "cell_type": "code",
      "source": [
        "import torch\n",
        "x1 = torch.Tensor([2.0]).double()                     ; x1.requires_grad = True\n",
        "x2 = torch.Tensor([0.0]).double()                     ; x2.requires_grad = True\n",
        "w1 = torch.Tensor([-3.0]).double()                    ; w1.requires_grad = True\n",
        "w2 = torch.Tensor([1.0]).double()                     ; w2.requires_grad = True\n",
        "b = torch.Tensor([6.8813735870195432]).double()       ; b.requires_grad = True\n",
        "n = x1*w1 + x2*w2 + b\n",
        "o = torch.tanh(n)\n",
        "print(o.data.item())\n",
        "o.backward()\n",
        "\n",
        "print('-------------')\n",
        "print('x2', x2.grad.item())\n",
        "print('w2', w2.grad.item())\n",
        "print('x1', x1.grad.item())\n",
        "print('w1', w1.grad.item())"
      ],
      "metadata": {
        "id": "CtzZey4xoVpW"
      },
      "execution_count": null,
      "outputs": []
    },
    {
      "cell_type": "markdown",
      "source": [
        "# Neural Network Implementation"
      ],
      "metadata": {
        "id": "obrXCsiepW79"
      }
    },
    {
      "cell_type": "code",
      "source": [
        "class Neuron:\n",
        "  '''class to define a single neuron and its properties'''\n",
        "\n",
        "  def __init__(self, nin):\n",
        "    '''nin -> number of inputs to each neuron'''\n",
        "    self.w = [Value(np.random.uniform(-1,1)) for _ in range(nin)] # initialise the neuron with random weights for each input to the neuron\n",
        "    self.b = Value(np.random.uniform(-1,1)) # initialise a random bias for each neuron\n",
        "\n",
        "  def __call__(self, x):\n",
        "    ''' w * x + b -> forward pass'''\n",
        "    activation = sum((wi*xi for wi, xi in zip(self.w, x)), self.b)\n",
        "    out = activation.tanh()\n",
        "    return out\n",
        "\n",
        "  def parameters(self):\n",
        "    return self.w + [self.b]\n",
        "\n",
        "  def __repr__(self):\n",
        "    return f\"{' '.join(str(val) for val in self.w)} * {' + '.join(str(val) for val in x)} + {self.b}\"\n",
        "\n",
        "class Layer:\n",
        "  '''class to define a layer of neurons.\n",
        "     a layer of neurons is a set of neurons evaluated independently.'''\n",
        "\n",
        "  def __init__(self, nin, non):\n",
        "    '''nin -> number of inputs to each neuron\n",
        "       non -> number of neurons in the layer'''\n",
        "    self.neurons = [Neuron(nin) for _ in range(non)]\n",
        "\n",
        "  def __call__(self, x):\n",
        "    '''does the forward pass'''\n",
        "    out = [n(x) for n in self.neurons]\n",
        "    return out[0] if len(out) == 1 else out\n",
        "\n",
        "  def parameters(self):\n",
        "    return [p for neuron in self.neurons for p in neuron.parameters()]\n",
        "\n",
        "  def __repr__(self):\n",
        "    return f\"{' '.join(str(val) for val in self.neurons)}\"\n",
        "\n",
        "class MLP:\n",
        "\n",
        "  def __init__(self, nin, nons):\n",
        "    '''nin -> number of inputs to each neuron\n",
        "       nons -> list of the number of neurons per\n",
        "              layer and it defines the sizes of all the\n",
        "              layers we want in the MLP'''\n",
        "    size = [nin] + nons\n",
        "    self.layers = [Layer(size[i], size[i+1]) for i in range(len(nons))]\n",
        "\n",
        "  def __call__(self, x):\n",
        "    for layer in self.layers:\n",
        "      x = layer(x)\n",
        "    return x\n",
        "\n",
        "  def parameters(self):\n",
        "    return [p for layer in self.layers for p in layer.parameters()]"
      ],
      "metadata": {
        "id": "1MdeEav3oVmu"
      },
      "execution_count": 15,
      "outputs": []
    },
    {
      "cell_type": "code",
      "source": [
        "x = [2.0, 3.0] # 2 inputs to the neuron\n",
        "n = Neuron(2) # initialise a neuron with 2 inputs\n",
        "n"
      ],
      "metadata": {
        "colab": {
          "base_uri": "https://localhost:8080/"
        },
        "id": "uEYf2G-QGiHE",
        "outputId": "7484a407-b6af-42fb-8b6b-df7f327740ac"
      },
      "execution_count": 16,
      "outputs": [
        {
          "output_type": "execute_result",
          "data": {
            "text/plain": [
              "Value(Data=0.06916206394728497) Value(Data=-0.5937462422240745) * 2.0 + 3.0 + Value(Data=0.5409305496528118)"
            ]
          },
          "metadata": {},
          "execution_count": 16
        }
      ]
    },
    {
      "cell_type": "code",
      "source": [
        "n(x) # call the neuron forward pass"
      ],
      "metadata": {
        "colab": {
          "base_uri": "https://localhost:8080/"
        },
        "id": "7iMqHDrMfrz0",
        "outputId": "f244a1fb-08c4-4a3c-bb21-3e94750e0738"
      },
      "execution_count": 17,
      "outputs": [
        {
          "output_type": "execute_result",
          "data": {
            "text/plain": [
              "Value(Data=-0.8012105637919879)"
            ]
          },
          "metadata": {},
          "execution_count": 17
        }
      ]
    },
    {
      "cell_type": "code",
      "source": [
        "# create a layer of independent neurons connected to the same inputs\n",
        "y = [2.0, 3.0] # 2 inputs to the neurons\n",
        "l = Layer(2, 3) # a layer with 3 neurons and 2 inputs to each neuron\n",
        "l"
      ],
      "metadata": {
        "colab": {
          "base_uri": "https://localhost:8080/"
        },
        "id": "x1okUSypoVj2",
        "outputId": "e26544e5-cdd3-421d-979c-a1266ca335ed"
      },
      "execution_count": 18,
      "outputs": [
        {
          "output_type": "execute_result",
          "data": {
            "text/plain": [
              "Value(Data=0.6467427089343494) Value(Data=0.39458269321068284) * 2.0 + 3.0 + Value(Data=-0.9927020004820968) Value(Data=-0.04216074662543545) Value(Data=0.9404218282971717) * 2.0 + 3.0 + Value(Data=0.5395191054538102) Value(Data=0.3471776305012777) Value(Data=0.4514021442736169) * 2.0 + 3.0 + Value(Data=0.06480344895848922)"
            ]
          },
          "metadata": {},
          "execution_count": 18
        }
      ]
    },
    {
      "cell_type": "code",
      "source": [
        "# call the layer forward pass\n",
        "l(y)"
      ],
      "metadata": {
        "colab": {
          "base_uri": "https://localhost:8080/"
        },
        "id": "xTjg351joVg6",
        "outputId": "dbf2ff2c-bf34-4211-9d9e-f112431a25b8"
      },
      "execution_count": 19,
      "outputs": [
        {
          "output_type": "execute_result",
          "data": {
            "text/plain": [
              "[Value(Data=0.902313528749901),\n",
              " Value(Data=0.9971521869634483),\n",
              " Value(Data=0.9712200870158599)]"
            ]
          },
          "metadata": {},
          "execution_count": 19
        }
      ]
    },
    {
      "cell_type": "code",
      "source": [
        "# create an MLP of 3 input neurons, 2 hidden layers of 4 neurons each and one output neuron\n",
        "mlp = MLP(3, [4, 4, 1])\n",
        "mlp"
      ],
      "metadata": {
        "colab": {
          "base_uri": "https://localhost:8080/"
        },
        "id": "ZszA1M7joVd3",
        "outputId": "f193d305-c931-4dbe-bf71-c65412e1da2a"
      },
      "execution_count": 48,
      "outputs": [
        {
          "output_type": "execute_result",
          "data": {
            "text/plain": [
              "<__main__.MLP at 0x7c10aa51fdd0>"
            ]
          },
          "metadata": {},
          "execution_count": 48
        }
      ]
    },
    {
      "cell_type": "code",
      "source": [
        "z = [2.0, 3.0, -1.0] # 3 inputs to each neuron\n",
        "mlp(z)"
      ],
      "metadata": {
        "id": "OB5oHDomrlTy",
        "colab": {
          "base_uri": "https://localhost:8080/"
        },
        "outputId": "4a7eb073-5c6d-45ce-8e2a-338a1a8b102e"
      },
      "execution_count": 49,
      "outputs": [
        {
          "output_type": "execute_result",
          "data": {
            "text/plain": [
              "Value(Data=0.2892424069564171)"
            ]
          },
          "metadata": {},
          "execution_count": 49
        }
      ]
    },
    {
      "cell_type": "code",
      "source": [
        "mlp.parameters()"
      ],
      "metadata": {
        "colab": {
          "base_uri": "https://localhost:8080/"
        },
        "id": "UIkife1ayBNm",
        "outputId": "e016ab60-471b-41af-9fe0-132822674f88"
      },
      "execution_count": 50,
      "outputs": [
        {
          "output_type": "execute_result",
          "data": {
            "text/plain": [
              "[Value(Data=0.9012835038093203),\n",
              " Value(Data=0.6192485190969448),\n",
              " Value(Data=-0.6380808291630218),\n",
              " Value(Data=0.02774963763699745),\n",
              " Value(Data=-0.9899162506712249),\n",
              " Value(Data=-0.9304724787676142),\n",
              " Value(Data=-0.8064508999161661),\n",
              " Value(Data=-0.6889094878579354),\n",
              " Value(Data=-0.7794557460242002),\n",
              " Value(Data=-0.7304206351036033),\n",
              " Value(Data=0.047188891607171435),\n",
              " Value(Data=-0.32696847624555847),\n",
              " Value(Data=0.12434396332721698),\n",
              " Value(Data=-0.14712546050316244),\n",
              " Value(Data=0.15254569017616126),\n",
              " Value(Data=0.443285233758145),\n",
              " Value(Data=-0.8535122892918718),\n",
              " Value(Data=-0.9423528245636057),\n",
              " Value(Data=-0.7114507232998069),\n",
              " Value(Data=-0.29985339463288896),\n",
              " Value(Data=0.3053356274936456),\n",
              " Value(Data=0.9541580131220397),\n",
              " Value(Data=0.974637149456117),\n",
              " Value(Data=0.869877800715186),\n",
              " Value(Data=0.7755957394539412),\n",
              " Value(Data=-0.5356735615803305),\n",
              " Value(Data=-0.6668711808848289),\n",
              " Value(Data=-0.13447220353507383),\n",
              " Value(Data=-0.9990806322733967),\n",
              " Value(Data=0.8489988190263731),\n",
              " Value(Data=0.29413232984811466),\n",
              " Value(Data=0.3258967120463019),\n",
              " Value(Data=-0.7832784099745653),\n",
              " Value(Data=0.3926820956483461),\n",
              " Value(Data=0.6053807916995377),\n",
              " Value(Data=0.47203351108317904),\n",
              " Value(Data=0.3876182244129851),\n",
              " Value(Data=0.15945082963400692),\n",
              " Value(Data=0.4218646408200284),\n",
              " Value(Data=0.056072211548626516),\n",
              " Value(Data=-0.20740963819987068)]"
            ]
          },
          "metadata": {},
          "execution_count": 50
        }
      ]
    },
    {
      "cell_type": "code",
      "source": [
        "draw_dot(mlp(z))"
      ],
      "metadata": {
        "colab": {
          "base_uri": "https://localhost:8080/",
          "height": 1000
        },
        "collapsed": true,
        "id": "lrNAl0M9iGiK",
        "outputId": "aa472f3e-bffb-4a94-c1b7-fa5ebe2312fc"
      },
      "execution_count": 23,
      "outputs": [
        {
          "output_type": "execute_result",
          "data": {
            "image/svg+xml": "<?xml version=\"1.0\" encoding=\"UTF-8\" standalone=\"no\"?>\n<!DOCTYPE svg PUBLIC \"-//W3C//DTD SVG 1.1//EN\"\n \"http://www.w3.org/Graphics/SVG/1.1/DTD/svg11.dtd\">\n<!-- Generated by graphviz version 2.43.0 (0)\n -->\n<!-- Title: %3 Pages: 1 -->\n<svg width=\"5644pt\" height=\"980pt\"\n viewBox=\"0.00 0.00 5644.00 980.00\" xmlns=\"http://www.w3.org/2000/svg\" xmlns:xlink=\"http://www.w3.org/1999/xlink\">\n<g id=\"graph0\" class=\"graph\" transform=\"scale(1 1) rotate(0) translate(4 976)\">\n<title>%3</title>\n<polygon fill=\"white\" stroke=\"transparent\" points=\"-4,4 -4,-976 5640,-976 5640,4 -4,4\"/>\n<!-- 136411130585136 -->\n<g id=\"node1\" class=\"node\">\n<title>136411130585136</title>\n<polygon fill=\"none\" stroke=\"black\" points=\"1875.5,-660.5 1875.5,-696.5 2057.5,-696.5 2057.5,-660.5 1875.5,-660.5\"/>\n<text text-anchor=\"middle\" x=\"1885.5\" y=\"-674.8\" font-family=\"Times,serif\" font-size=\"14.00\"> </text>\n<polyline fill=\"none\" stroke=\"black\" points=\"1895.5,-660.5 1895.5,-696.5 \"/>\n<text text-anchor=\"middle\" x=\"1935.5\" y=\"-674.8\" font-family=\"Times,serif\" font-size=\"14.00\">data 0.9435</text>\n<polyline fill=\"none\" stroke=\"black\" points=\"1975.5,-660.5 1975.5,-696.5 \"/>\n<text text-anchor=\"middle\" x=\"2016.5\" y=\"-674.8\" font-family=\"Times,serif\" font-size=\"14.00\">grad 0.0000</text>\n</g>\n<!-- 136411130593984* -->\n<g id=\"node13\" class=\"node\">\n<title>136411130593984*</title>\n<ellipse fill=\"none\" stroke=\"black\" cx=\"2123\" cy=\"-843.5\" rx=\"27\" ry=\"18\"/>\n<text text-anchor=\"middle\" x=\"2123\" y=\"-839.8\" font-family=\"Times,serif\" font-size=\"14.00\">*</text>\n</g>\n<!-- 136411130585136&#45;&gt;136411130593984* -->\n<g id=\"edge163\" class=\"edge\">\n<title>136411130585136&#45;&gt;136411130593984*</title>\n<path fill=\"none\" stroke=\"black\" d=\"M2047.2,-696.69C2051.83,-699.5 2056.16,-702.75 2060,-706.5 2096.52,-742.12 2070.05,-771.58 2096,-815.5 2097.15,-817.45 2098.46,-819.38 2099.86,-821.25\"/>\n<polygon fill=\"black\" stroke=\"black\" points=\"2097.3,-823.64 2106.4,-829.06 2102.66,-819.15 2097.3,-823.64\"/>\n</g>\n<!-- 136411130595712* -->\n<g id=\"node52\" class=\"node\">\n<title>136411130595712*</title>\n<ellipse fill=\"none\" stroke=\"black\" cx=\"2123\" cy=\"-348.5\" rx=\"27\" ry=\"18\"/>\n<text text-anchor=\"middle\" x=\"2123\" y=\"-344.8\" font-family=\"Times,serif\" font-size=\"14.00\">*</text>\n</g>\n<!-- 136411130585136&#45;&gt;136411130595712* -->\n<g id=\"edge147\" class=\"edge\">\n<title>136411130585136&#45;&gt;136411130595712*</title>\n<path fill=\"none\" stroke=\"black\" d=\"M2048.81,-660.48C2052.93,-657.62 2056.72,-654.31 2060,-650.5 2132.38,-566.43 2063.94,-509.7 2096,-403.5 2098.96,-393.7 2103.4,-383.43 2107.79,-374.46\"/>\n<polygon fill=\"black\" stroke=\"black\" points=\"2111.03,-375.82 2112.44,-365.32 2104.79,-372.64 2111.03,-375.82\"/>\n</g>\n<!-- 136411130588880* -->\n<g id=\"node102\" class=\"node\">\n<title>136411130588880*</title>\n<ellipse fill=\"none\" stroke=\"black\" cx=\"2123\" cy=\"-623.5\" rx=\"27\" ry=\"18\"/>\n<text text-anchor=\"middle\" x=\"2123\" y=\"-619.8\" font-family=\"Times,serif\" font-size=\"14.00\">*</text>\n</g>\n<!-- 136411130585136&#45;&gt;136411130588880* -->\n<g id=\"edge116\" class=\"edge\">\n<title>136411130585136&#45;&gt;136411130588880*</title>\n<path fill=\"none\" stroke=\"black\" d=\"M2031.02,-660.35C2040.79,-657.24 2050.71,-653.92 2060,-650.5 2070.25,-646.73 2081.23,-642.14 2091.07,-637.82\"/>\n<polygon fill=\"black\" stroke=\"black\" points=\"2092.74,-640.9 2100.45,-633.63 2089.89,-634.51 2092.74,-640.9\"/>\n</g>\n<!-- 136411130590848* -->\n<g id=\"node160\" class=\"node\">\n<title>136411130590848*</title>\n<ellipse fill=\"none\" stroke=\"black\" cx=\"2123\" cy=\"-788.5\" rx=\"27\" ry=\"18\"/>\n<text text-anchor=\"middle\" x=\"2123\" y=\"-784.8\" font-family=\"Times,serif\" font-size=\"14.00\">*</text>\n</g>\n<!-- 136411130585136&#45;&gt;136411130590848* -->\n<g id=\"edge134\" class=\"edge\">\n<title>136411130585136&#45;&gt;136411130590848*</title>\n<path fill=\"none\" stroke=\"black\" d=\"M2043.35,-696.57C2049.24,-699.41 2054.88,-702.7 2060,-706.5 2083.16,-723.69 2078.13,-737.86 2096,-760.5 2097.4,-762.28 2098.89,-764.08 2100.42,-765.86\"/>\n<polygon fill=\"black\" stroke=\"black\" points=\"2097.96,-768.36 2107.24,-773.49 2103.18,-763.7 2097.96,-768.36\"/>\n</g>\n<!-- 136411130585136tanh -->\n<g id=\"node2\" class=\"node\">\n<title>136411130585136tanh</title>\n<ellipse fill=\"none\" stroke=\"black\" cx=\"1810\" cy=\"-678.5\" rx=\"27\" ry=\"18\"/>\n<text text-anchor=\"middle\" x=\"1810\" y=\"-674.8\" font-family=\"Times,serif\" font-size=\"14.00\">tanh</text>\n</g>\n<!-- 136411130585136tanh&#45;&gt;136411130585136 -->\n<g id=\"edge1\" class=\"edge\">\n<title>136411130585136tanh&#45;&gt;136411130585136</title>\n<path fill=\"none\" stroke=\"black\" d=\"M1837.21,-678.5C1845.34,-678.5 1854.85,-678.5 1864.94,-678.5\"/>\n<polygon fill=\"black\" stroke=\"black\" points=\"1865.19,-682 1875.19,-678.5 1865.19,-675 1865.19,-682\"/>\n</g>\n<!-- 136411130593552 -->\n<g id=\"node3\" class=\"node\">\n<title>136411130593552</title>\n<polygon fill=\"none\" stroke=\"black\" points=\"1873,-935.5 1873,-971.5 2060,-971.5 2060,-935.5 1873,-935.5\"/>\n<text text-anchor=\"middle\" x=\"1883\" y=\"-949.8\" font-family=\"Times,serif\" font-size=\"14.00\"> </text>\n<polyline fill=\"none\" stroke=\"black\" points=\"1893,-935.5 1893,-971.5 \"/>\n<text text-anchor=\"middle\" x=\"1935.5\" y=\"-949.8\" font-family=\"Times,serif\" font-size=\"14.00\">data &#45;0.5382</text>\n<polyline fill=\"none\" stroke=\"black\" points=\"1978,-935.5 1978,-971.5 \"/>\n<text text-anchor=\"middle\" x=\"2019\" y=\"-949.8\" font-family=\"Times,serif\" font-size=\"14.00\">grad 0.0000</text>\n</g>\n<!-- 136411130593744+ -->\n<g id=\"node9\" class=\"node\">\n<title>136411130593744+</title>\n<ellipse fill=\"none\" stroke=\"black\" cx=\"2123\" cy=\"-898.5\" rx=\"27\" ry=\"18\"/>\n<text text-anchor=\"middle\" x=\"2123\" y=\"-894.8\" font-family=\"Times,serif\" font-size=\"14.00\">+</text>\n</g>\n<!-- 136411130593552&#45;&gt;136411130593744+ -->\n<g id=\"edge159\" class=\"edge\">\n<title>136411130593552&#45;&gt;136411130593744+</title>\n<path fill=\"none\" stroke=\"black\" d=\"M2033.56,-935.45C2042.51,-932.64 2051.53,-929.63 2060,-926.5 2070.49,-922.62 2081.71,-917.78 2091.68,-913.22\"/>\n<polygon fill=\"black\" stroke=\"black\" points=\"2093.2,-916.37 2100.79,-908.97 2090.25,-910.02 2093.2,-916.37\"/>\n</g>\n<!-- 136411130593552* -->\n<g id=\"node4\" class=\"node\">\n<title>136411130593552*</title>\n<ellipse fill=\"none\" stroke=\"black\" cx=\"1810\" cy=\"-898.5\" rx=\"27\" ry=\"18\"/>\n<text text-anchor=\"middle\" x=\"1810\" y=\"-894.8\" font-family=\"Times,serif\" font-size=\"14.00\">*</text>\n</g>\n<!-- 136411130593552*&#45;&gt;136411130593552 -->\n<g id=\"edge2\" class=\"edge\">\n<title>136411130593552*&#45;&gt;136411130593552</title>\n<path fill=\"none\" stroke=\"black\" d=\"M1832.21,-908.97C1844.05,-914.59 1859.15,-921.38 1873,-926.5 1878.43,-928.51 1884.08,-930.46 1889.79,-932.35\"/>\n<polygon fill=\"black\" stroke=\"black\" points=\"1888.85,-935.72 1899.44,-935.45 1890.99,-929.06 1888.85,-935.72\"/>\n</g>\n<!-- 136411130585424 -->\n<g id=\"node5\" class=\"node\">\n<title>136411130585424</title>\n<polygon fill=\"none\" stroke=\"black\" points=\"623.5,-440.5 623.5,-476.5 805.5,-476.5 805.5,-440.5 623.5,-440.5\"/>\n<text text-anchor=\"middle\" x=\"633.5\" y=\"-454.8\" font-family=\"Times,serif\" font-size=\"14.00\"> </text>\n<polyline fill=\"none\" stroke=\"black\" points=\"643.5,-440.5 643.5,-476.5 \"/>\n<text text-anchor=\"middle\" x=\"683.5\" y=\"-454.8\" font-family=\"Times,serif\" font-size=\"14.00\">data 2.0000</text>\n<polyline fill=\"none\" stroke=\"black\" points=\"723.5,-440.5 723.5,-476.5 \"/>\n<text text-anchor=\"middle\" x=\"764.5\" y=\"-454.8\" font-family=\"Times,serif\" font-size=\"14.00\">grad 0.0000</text>\n</g>\n<!-- 136411130585472* -->\n<g id=\"node7\" class=\"node\">\n<title>136411130585472*</title>\n<ellipse fill=\"none\" stroke=\"black\" cx=\"871\" cy=\"-403.5\" rx=\"27\" ry=\"18\"/>\n<text text-anchor=\"middle\" x=\"871\" y=\"-399.8\" font-family=\"Times,serif\" font-size=\"14.00\">*</text>\n</g>\n<!-- 136411130585424&#45;&gt;136411130585472* -->\n<g id=\"edge168\" class=\"edge\">\n<title>136411130585424&#45;&gt;136411130585472*</title>\n<path fill=\"none\" stroke=\"black\" d=\"M779.02,-440.35C788.79,-437.24 798.71,-433.92 808,-430.5 818.25,-426.73 829.23,-422.14 839.07,-417.82\"/>\n<polygon fill=\"black\" stroke=\"black\" points=\"840.74,-420.9 848.45,-413.63 837.89,-414.51 840.74,-420.9\"/>\n</g>\n<!-- 136411130585472 -->\n<g id=\"node6\" class=\"node\">\n<title>136411130585472</title>\n<polygon fill=\"none\" stroke=\"black\" points=\"936.5,-385.5 936.5,-421.5 1118.5,-421.5 1118.5,-385.5 936.5,-385.5\"/>\n<text text-anchor=\"middle\" x=\"946.5\" y=\"-399.8\" font-family=\"Times,serif\" font-size=\"14.00\"> </text>\n<polyline fill=\"none\" stroke=\"black\" points=\"956.5,-385.5 956.5,-421.5 \"/>\n<text text-anchor=\"middle\" x=\"996.5\" y=\"-399.8\" font-family=\"Times,serif\" font-size=\"14.00\">data 1.5046</text>\n<polyline fill=\"none\" stroke=\"black\" points=\"1036.5,-385.5 1036.5,-421.5 \"/>\n<text text-anchor=\"middle\" x=\"1077.5\" y=\"-399.8\" font-family=\"Times,serif\" font-size=\"14.00\">grad 0.0000</text>\n</g>\n<!-- 136411130585712+ -->\n<g id=\"node11\" class=\"node\">\n<title>136411130585712+</title>\n<ellipse fill=\"none\" stroke=\"black\" cx=\"1184\" cy=\"-403.5\" rx=\"27\" ry=\"18\"/>\n<text text-anchor=\"middle\" x=\"1184\" y=\"-399.8\" font-family=\"Times,serif\" font-size=\"14.00\">+</text>\n</g>\n<!-- 136411130585472&#45;&gt;136411130585712+ -->\n<g id=\"edge199\" class=\"edge\">\n<title>136411130585472&#45;&gt;136411130585712+</title>\n<path fill=\"none\" stroke=\"black\" d=\"M1118.82,-403.5C1128.57,-403.5 1138.04,-403.5 1146.57,-403.5\"/>\n<polygon fill=\"black\" stroke=\"black\" points=\"1146.83,-407 1156.83,-403.5 1146.83,-400 1146.83,-407\"/>\n</g>\n<!-- 136411130585472*&#45;&gt;136411130585472 -->\n<g id=\"edge3\" class=\"edge\">\n<title>136411130585472*&#45;&gt;136411130585472</title>\n<path fill=\"none\" stroke=\"black\" d=\"M898.21,-403.5C906.34,-403.5 915.85,-403.5 925.94,-403.5\"/>\n<polygon fill=\"black\" stroke=\"black\" points=\"926.19,-407 936.19,-403.5 926.19,-400 926.19,-407\"/>\n</g>\n<!-- 136411130593744 -->\n<g id=\"node8\" class=\"node\">\n<title>136411130593744</title>\n<polygon fill=\"none\" stroke=\"black\" points=\"2186,-880.5 2186,-916.5 2373,-916.5 2373,-880.5 2186,-880.5\"/>\n<text text-anchor=\"middle\" x=\"2196\" y=\"-894.8\" font-family=\"Times,serif\" font-size=\"14.00\"> </text>\n<polyline fill=\"none\" stroke=\"black\" points=\"2206,-880.5 2206,-916.5 \"/>\n<text text-anchor=\"middle\" x=\"2248.5\" y=\"-894.8\" font-family=\"Times,serif\" font-size=\"14.00\">data &#45;0.0209</text>\n<polyline fill=\"none\" stroke=\"black\" points=\"2291,-880.5 2291,-916.5 \"/>\n<text text-anchor=\"middle\" x=\"2332\" y=\"-894.8\" font-family=\"Times,serif\" font-size=\"14.00\">grad 0.0000</text>\n</g>\n<!-- 136411130594176+ -->\n<g id=\"node16\" class=\"node\">\n<title>136411130594176+</title>\n<ellipse fill=\"none\" stroke=\"black\" cx=\"2436\" cy=\"-843.5\" rx=\"27\" ry=\"18\"/>\n<text text-anchor=\"middle\" x=\"2436\" y=\"-839.8\" font-family=\"Times,serif\" font-size=\"14.00\">+</text>\n</g>\n<!-- 136411130593744&#45;&gt;136411130594176+ -->\n<g id=\"edge117\" class=\"edge\">\n<title>136411130593744&#45;&gt;136411130594176+</title>\n<path fill=\"none\" stroke=\"black\" d=\"M2346.56,-880.45C2355.51,-877.64 2364.53,-874.63 2373,-871.5 2383.49,-867.62 2394.71,-862.78 2404.68,-858.22\"/>\n<polygon fill=\"black\" stroke=\"black\" points=\"2406.2,-861.37 2413.79,-853.97 2403.25,-855.02 2406.2,-861.37\"/>\n</g>\n<!-- 136411130593744+&#45;&gt;136411130593744 -->\n<g id=\"edge4\" class=\"edge\">\n<title>136411130593744+&#45;&gt;136411130593744</title>\n<path fill=\"none\" stroke=\"black\" d=\"M2150.21,-898.5C2157.73,-898.5 2166.43,-898.5 2175.67,-898.5\"/>\n<polygon fill=\"black\" stroke=\"black\" points=\"2175.89,-902 2185.89,-898.5 2175.89,-895 2175.89,-902\"/>\n</g>\n<!-- 136411130585712 -->\n<g id=\"node10\" class=\"node\">\n<title>136411130585712</title>\n<polygon fill=\"none\" stroke=\"black\" points=\"1249.5,-385.5 1249.5,-421.5 1431.5,-421.5 1431.5,-385.5 1249.5,-385.5\"/>\n<text text-anchor=\"middle\" x=\"1259.5\" y=\"-399.8\" font-family=\"Times,serif\" font-size=\"14.00\"> </text>\n<polyline fill=\"none\" stroke=\"black\" points=\"1269.5,-385.5 1269.5,-421.5 \"/>\n<text text-anchor=\"middle\" x=\"1309.5\" y=\"-399.8\" font-family=\"Times,serif\" font-size=\"14.00\">data 1.5756</text>\n<polyline fill=\"none\" stroke=\"black\" points=\"1349.5,-385.5 1349.5,-421.5 \"/>\n<text text-anchor=\"middle\" x=\"1390.5\" y=\"-399.8\" font-family=\"Times,serif\" font-size=\"14.00\">grad 0.0000</text>\n</g>\n<!-- 136411130586192+ -->\n<g id=\"node22\" class=\"node\">\n<title>136411130586192+</title>\n<ellipse fill=\"none\" stroke=\"black\" cx=\"1497\" cy=\"-403.5\" rx=\"27\" ry=\"18\"/>\n<text text-anchor=\"middle\" x=\"1497\" y=\"-399.8\" font-family=\"Times,serif\" font-size=\"14.00\">+</text>\n</g>\n<!-- 136411130585712&#45;&gt;136411130586192+ -->\n<g id=\"edge169\" class=\"edge\">\n<title>136411130585712&#45;&gt;136411130586192+</title>\n<path fill=\"none\" stroke=\"black\" d=\"M1431.82,-403.5C1441.57,-403.5 1451.04,-403.5 1459.57,-403.5\"/>\n<polygon fill=\"black\" stroke=\"black\" points=\"1459.83,-407 1469.83,-403.5 1459.83,-400 1459.83,-407\"/>\n</g>\n<!-- 136411130585712+&#45;&gt;136411130585712 -->\n<g id=\"edge5\" class=\"edge\">\n<title>136411130585712+&#45;&gt;136411130585712</title>\n<path fill=\"none\" stroke=\"black\" d=\"M1211.21,-403.5C1219.34,-403.5 1228.85,-403.5 1238.94,-403.5\"/>\n<polygon fill=\"black\" stroke=\"black\" points=\"1239.19,-407 1249.19,-403.5 1239.19,-400 1239.19,-407\"/>\n</g>\n<!-- 136411130593984 -->\n<g id=\"node12\" class=\"node\">\n<title>136411130593984</title>\n<polygon fill=\"none\" stroke=\"black\" points=\"2186,-825.5 2186,-861.5 2373,-861.5 2373,-825.5 2186,-825.5\"/>\n<text text-anchor=\"middle\" x=\"2196\" y=\"-839.8\" font-family=\"Times,serif\" font-size=\"14.00\"> </text>\n<polyline fill=\"none\" stroke=\"black\" points=\"2206,-825.5 2206,-861.5 \"/>\n<text text-anchor=\"middle\" x=\"2248.5\" y=\"-839.8\" font-family=\"Times,serif\" font-size=\"14.00\">data &#45;0.3214</text>\n<polyline fill=\"none\" stroke=\"black\" points=\"2291,-825.5 2291,-861.5 \"/>\n<text text-anchor=\"middle\" x=\"2332\" y=\"-839.8\" font-family=\"Times,serif\" font-size=\"14.00\">grad 0.0000</text>\n</g>\n<!-- 136411130593984&#45;&gt;136411130594176+ -->\n<g id=\"edge121\" class=\"edge\">\n<title>136411130593984&#45;&gt;136411130594176+</title>\n<path fill=\"none\" stroke=\"black\" d=\"M2373.05,-843.5C2382.06,-843.5 2390.79,-843.5 2398.7,-843.5\"/>\n<polygon fill=\"black\" stroke=\"black\" points=\"2398.95,-847 2408.95,-843.5 2398.95,-840 2398.95,-847\"/>\n</g>\n<!-- 136411130593984*&#45;&gt;136411130593984 -->\n<g id=\"edge6\" class=\"edge\">\n<title>136411130593984*&#45;&gt;136411130593984</title>\n<path fill=\"none\" stroke=\"black\" d=\"M2150.21,-843.5C2157.73,-843.5 2166.43,-843.5 2175.67,-843.5\"/>\n<polygon fill=\"black\" stroke=\"black\" points=\"2175.89,-847 2185.89,-843.5 2175.89,-840 2175.89,-847\"/>\n</g>\n<!-- 136411130585904 -->\n<g id=\"node14\" class=\"node\">\n<title>136411130585904</title>\n<polygon fill=\"none\" stroke=\"black\" points=\"936.5,-495.5 936.5,-531.5 1118.5,-531.5 1118.5,-495.5 936.5,-495.5\"/>\n<text text-anchor=\"middle\" x=\"946.5\" y=\"-509.8\" font-family=\"Times,serif\" font-size=\"14.00\"> </text>\n<polyline fill=\"none\" stroke=\"black\" points=\"956.5,-495.5 956.5,-531.5 \"/>\n<text text-anchor=\"middle\" x=\"996.5\" y=\"-509.8\" font-family=\"Times,serif\" font-size=\"14.00\">data 3.0000</text>\n<polyline fill=\"none\" stroke=\"black\" points=\"1036.5,-495.5 1036.5,-531.5 \"/>\n<text text-anchor=\"middle\" x=\"1077.5\" y=\"-509.8\" font-family=\"Times,serif\" font-size=\"14.00\">grad 0.0000</text>\n</g>\n<!-- 136411130586000* -->\n<g id=\"node18\" class=\"node\">\n<title>136411130586000*</title>\n<ellipse fill=\"none\" stroke=\"black\" cx=\"1184\" cy=\"-458.5\" rx=\"27\" ry=\"18\"/>\n<text text-anchor=\"middle\" x=\"1184\" y=\"-454.8\" font-family=\"Times,serif\" font-size=\"14.00\">*</text>\n</g>\n<!-- 136411130585904&#45;&gt;136411130586000* -->\n<g id=\"edge148\" class=\"edge\">\n<title>136411130585904&#45;&gt;136411130586000*</title>\n<path fill=\"none\" stroke=\"black\" d=\"M1092.02,-495.35C1101.79,-492.24 1111.71,-488.92 1121,-485.5 1131.25,-481.73 1142.23,-477.14 1152.07,-472.82\"/>\n<polygon fill=\"black\" stroke=\"black\" points=\"1153.74,-475.9 1161.45,-468.63 1150.89,-469.51 1153.74,-475.9\"/>\n</g>\n<!-- 136411130594176 -->\n<g id=\"node15\" class=\"node\">\n<title>136411130594176</title>\n<polygon fill=\"none\" stroke=\"black\" points=\"2499,-791.5 2499,-827.5 2686,-827.5 2686,-791.5 2499,-791.5\"/>\n<text text-anchor=\"middle\" x=\"2509\" y=\"-805.8\" font-family=\"Times,serif\" font-size=\"14.00\"> </text>\n<polyline fill=\"none\" stroke=\"black\" points=\"2519,-791.5 2519,-827.5 \"/>\n<text text-anchor=\"middle\" x=\"2561.5\" y=\"-805.8\" font-family=\"Times,serif\" font-size=\"14.00\">data &#45;0.3423</text>\n<polyline fill=\"none\" stroke=\"black\" points=\"2604,-791.5 2604,-827.5 \"/>\n<text text-anchor=\"middle\" x=\"2645\" y=\"-805.8\" font-family=\"Times,serif\" font-size=\"14.00\">grad 0.0000</text>\n</g>\n<!-- 136411130594560+ -->\n<g id=\"node24\" class=\"node\">\n<title>136411130594560+</title>\n<ellipse fill=\"none\" stroke=\"black\" cx=\"2749\" cy=\"-661.5\" rx=\"27\" ry=\"18\"/>\n<text text-anchor=\"middle\" x=\"2749\" y=\"-657.8\" font-family=\"Times,serif\" font-size=\"14.00\">+</text>\n</g>\n<!-- 136411130594176&#45;&gt;136411130594560+ -->\n<g id=\"edge141\" class=\"edge\">\n<title>136411130594176&#45;&gt;136411130594560+</title>\n<path fill=\"none\" stroke=\"black\" d=\"M2626.4,-791.4C2645.08,-780.2 2668.21,-764.7 2686,-747.5 2704.6,-729.53 2721.46,-705.38 2732.88,-687.24\"/>\n<polygon fill=\"black\" stroke=\"black\" points=\"2736.08,-688.72 2738.35,-678.37 2730.12,-685.05 2736.08,-688.72\"/>\n</g>\n<!-- 136411130594176+&#45;&gt;136411130594176 -->\n<g id=\"edge7\" class=\"edge\">\n<title>136411130594176+&#45;&gt;136411130594176</title>\n<path fill=\"none\" stroke=\"black\" d=\"M2461.82,-838.04C2472.46,-835.7 2485.61,-832.8 2499.42,-829.76\"/>\n<polygon fill=\"black\" stroke=\"black\" points=\"2500.55,-833.1 2509.57,-827.53 2499.05,-826.26 2500.55,-833.1\"/>\n</g>\n<!-- 136411130586000 -->\n<g id=\"node17\" class=\"node\">\n<title>136411130586000</title>\n<polygon fill=\"none\" stroke=\"black\" points=\"1247,-440.5 1247,-476.5 1434,-476.5 1434,-440.5 1247,-440.5\"/>\n<text text-anchor=\"middle\" x=\"1257\" y=\"-454.8\" font-family=\"Times,serif\" font-size=\"14.00\"> </text>\n<polyline fill=\"none\" stroke=\"black\" points=\"1267,-440.5 1267,-476.5 \"/>\n<text text-anchor=\"middle\" x=\"1309.5\" y=\"-454.8\" font-family=\"Times,serif\" font-size=\"14.00\">data &#45;1.7895</text>\n<polyline fill=\"none\" stroke=\"black\" points=\"1352,-440.5 1352,-476.5 \"/>\n<text text-anchor=\"middle\" x=\"1393\" y=\"-454.8\" font-family=\"Times,serif\" font-size=\"14.00\">grad 0.0000</text>\n</g>\n<!-- 136411130586000&#45;&gt;136411130586192+ -->\n<g id=\"edge101\" class=\"edge\">\n<title>136411130586000&#45;&gt;136411130586192+</title>\n<path fill=\"none\" stroke=\"black\" d=\"M1405.02,-440.35C1414.79,-437.24 1424.71,-433.92 1434,-430.5 1444.25,-426.73 1455.23,-422.14 1465.07,-417.82\"/>\n<polygon fill=\"black\" stroke=\"black\" points=\"1466.74,-420.9 1474.45,-413.63 1463.89,-414.51 1466.74,-420.9\"/>\n</g>\n<!-- 136411130586000*&#45;&gt;136411130586000 -->\n<g id=\"edge8\" class=\"edge\">\n<title>136411130586000*&#45;&gt;136411130586000</title>\n<path fill=\"none\" stroke=\"black\" d=\"M1211.21,-458.5C1218.73,-458.5 1227.43,-458.5 1236.67,-458.5\"/>\n<polygon fill=\"black\" stroke=\"black\" points=\"1236.89,-462 1246.89,-458.5 1236.89,-455 1236.89,-462\"/>\n</g>\n<!-- 136411130594368 -->\n<g id=\"node19\" class=\"node\">\n<title>136411130594368</title>\n<polygon fill=\"none\" stroke=\"black\" points=\"2501.5,-643.5 2501.5,-679.5 2683.5,-679.5 2683.5,-643.5 2501.5,-643.5\"/>\n<text text-anchor=\"middle\" x=\"2511.5\" y=\"-657.8\" font-family=\"Times,serif\" font-size=\"14.00\"> </text>\n<polyline fill=\"none\" stroke=\"black\" points=\"2521.5,-643.5 2521.5,-679.5 \"/>\n<text text-anchor=\"middle\" x=\"2561.5\" y=\"-657.8\" font-family=\"Times,serif\" font-size=\"14.00\">data 0.0158</text>\n<polyline fill=\"none\" stroke=\"black\" points=\"2601.5,-643.5 2601.5,-679.5 \"/>\n<text text-anchor=\"middle\" x=\"2642.5\" y=\"-657.8\" font-family=\"Times,serif\" font-size=\"14.00\">grad 0.0000</text>\n</g>\n<!-- 136411130594368&#45;&gt;136411130594560+ -->\n<g id=\"edge201\" class=\"edge\">\n<title>136411130594368&#45;&gt;136411130594560+</title>\n<path fill=\"none\" stroke=\"black\" d=\"M2683.82,-661.5C2693.57,-661.5 2703.04,-661.5 2711.57,-661.5\"/>\n<polygon fill=\"black\" stroke=\"black\" points=\"2711.83,-665 2721.83,-661.5 2711.83,-658 2711.83,-665\"/>\n</g>\n<!-- 136411130594368* -->\n<g id=\"node20\" class=\"node\">\n<title>136411130594368*</title>\n<ellipse fill=\"none\" stroke=\"black\" cx=\"2436\" cy=\"-661.5\" rx=\"27\" ry=\"18\"/>\n<text text-anchor=\"middle\" x=\"2436\" y=\"-657.8\" font-family=\"Times,serif\" font-size=\"14.00\">*</text>\n</g>\n<!-- 136411130594368*&#45;&gt;136411130594368 -->\n<g id=\"edge9\" class=\"edge\">\n<title>136411130594368*&#45;&gt;136411130594368</title>\n<path fill=\"none\" stroke=\"black\" d=\"M2463.21,-661.5C2471.34,-661.5 2480.85,-661.5 2490.94,-661.5\"/>\n<polygon fill=\"black\" stroke=\"black\" points=\"2491.19,-665 2501.19,-661.5 2491.19,-658 2491.19,-665\"/>\n</g>\n<!-- 136411130586192 -->\n<g id=\"node21\" class=\"node\">\n<title>136411130586192</title>\n<polygon fill=\"none\" stroke=\"black\" points=\"1560,-385.5 1560,-421.5 1747,-421.5 1747,-385.5 1560,-385.5\"/>\n<text text-anchor=\"middle\" x=\"1570\" y=\"-399.8\" font-family=\"Times,serif\" font-size=\"14.00\"> </text>\n<polyline fill=\"none\" stroke=\"black\" points=\"1580,-385.5 1580,-421.5 \"/>\n<text text-anchor=\"middle\" x=\"1622.5\" y=\"-399.8\" font-family=\"Times,serif\" font-size=\"14.00\">data &#45;0.2139</text>\n<polyline fill=\"none\" stroke=\"black\" points=\"1665,-385.5 1665,-421.5 \"/>\n<text text-anchor=\"middle\" x=\"1706\" y=\"-399.8\" font-family=\"Times,serif\" font-size=\"14.00\">grad 0.0000</text>\n</g>\n<!-- 136411130586624+ -->\n<g id=\"node31\" class=\"node\">\n<title>136411130586624+</title>\n<ellipse fill=\"none\" stroke=\"black\" cx=\"1810\" cy=\"-403.5\" rx=\"27\" ry=\"18\"/>\n<text text-anchor=\"middle\" x=\"1810\" y=\"-399.8\" font-family=\"Times,serif\" font-size=\"14.00\">+</text>\n</g>\n<!-- 136411130586192&#45;&gt;136411130586624+ -->\n<g id=\"edge190\" class=\"edge\">\n<title>136411130586192&#45;&gt;136411130586624+</title>\n<path fill=\"none\" stroke=\"black\" d=\"M1747.05,-403.5C1756.06,-403.5 1764.79,-403.5 1772.7,-403.5\"/>\n<polygon fill=\"black\" stroke=\"black\" points=\"1772.95,-407 1782.95,-403.5 1772.95,-400 1772.95,-407\"/>\n</g>\n<!-- 136411130586192+&#45;&gt;136411130586192 -->\n<g id=\"edge10\" class=\"edge\">\n<title>136411130586192+&#45;&gt;136411130586192</title>\n<path fill=\"none\" stroke=\"black\" d=\"M1524.21,-403.5C1531.73,-403.5 1540.43,-403.5 1549.67,-403.5\"/>\n<polygon fill=\"black\" stroke=\"black\" points=\"1549.89,-407 1559.89,-403.5 1549.89,-400 1549.89,-407\"/>\n</g>\n<!-- 136411130594560 -->\n<g id=\"node23\" class=\"node\">\n<title>136411130594560</title>\n<polygon fill=\"none\" stroke=\"black\" points=\"2812,-612.5 2812,-648.5 2999,-648.5 2999,-612.5 2812,-612.5\"/>\n<text text-anchor=\"middle\" x=\"2822\" y=\"-626.8\" font-family=\"Times,serif\" font-size=\"14.00\"> </text>\n<polyline fill=\"none\" stroke=\"black\" points=\"2832,-612.5 2832,-648.5 \"/>\n<text text-anchor=\"middle\" x=\"2874.5\" y=\"-626.8\" font-family=\"Times,serif\" font-size=\"14.00\">data &#45;0.3265</text>\n<polyline fill=\"none\" stroke=\"black\" points=\"2917,-612.5 2917,-648.5 \"/>\n<text text-anchor=\"middle\" x=\"2958\" y=\"-626.8\" font-family=\"Times,serif\" font-size=\"14.00\">grad 0.0000</text>\n</g>\n<!-- 136411130594944+ -->\n<g id=\"node35\" class=\"node\">\n<title>136411130594944+</title>\n<ellipse fill=\"none\" stroke=\"black\" cx=\"3062\" cy=\"-572.5\" rx=\"27\" ry=\"18\"/>\n<text text-anchor=\"middle\" x=\"3062\" y=\"-568.8\" font-family=\"Times,serif\" font-size=\"14.00\">+</text>\n</g>\n<!-- 136411130594560&#45;&gt;136411130594944+ -->\n<g id=\"edge127\" class=\"edge\">\n<title>136411130594560&#45;&gt;136411130594944+</title>\n<path fill=\"none\" stroke=\"black\" d=\"M2954.54,-612.47C2978.55,-603.45 3006.98,-592.78 3028.41,-584.73\"/>\n<polygon fill=\"black\" stroke=\"black\" points=\"3029.9,-587.91 3038.03,-581.12 3027.44,-581.36 3029.9,-587.91\"/>\n</g>\n<!-- 136411130594560+&#45;&gt;136411130594560 -->\n<g id=\"edge11\" class=\"edge\">\n<title>136411130594560+&#45;&gt;136411130594560</title>\n<path fill=\"none\" stroke=\"black\" d=\"M2775.17,-656.45C2783.68,-654.74 2793.77,-652.72 2804.5,-650.56\"/>\n<polygon fill=\"black\" stroke=\"black\" points=\"2805.39,-653.96 2814.51,-648.56 2804.02,-647.09 2805.39,-653.96\"/>\n</g>\n<!-- 136411130586384 -->\n<g id=\"node25\" class=\"node\">\n<title>136411130586384</title>\n<polygon fill=\"none\" stroke=\"black\" points=\"1247,-275.5 1247,-311.5 1434,-311.5 1434,-275.5 1247,-275.5\"/>\n<text text-anchor=\"middle\" x=\"1257\" y=\"-289.8\" font-family=\"Times,serif\" font-size=\"14.00\"> </text>\n<polyline fill=\"none\" stroke=\"black\" points=\"1267,-275.5 1267,-311.5 \"/>\n<text text-anchor=\"middle\" x=\"1309.5\" y=\"-289.8\" font-family=\"Times,serif\" font-size=\"14.00\">data &#45;1.0000</text>\n<polyline fill=\"none\" stroke=\"black\" points=\"1352,-275.5 1352,-311.5 \"/>\n<text text-anchor=\"middle\" x=\"1393\" y=\"-289.8\" font-family=\"Times,serif\" font-size=\"14.00\">grad 0.0000</text>\n</g>\n<!-- 136411130586432* -->\n<g id=\"node27\" class=\"node\">\n<title>136411130586432*</title>\n<ellipse fill=\"none\" stroke=\"black\" cx=\"1497\" cy=\"-348.5\" rx=\"27\" ry=\"18\"/>\n<text text-anchor=\"middle\" x=\"1497\" y=\"-344.8\" font-family=\"Times,serif\" font-size=\"14.00\">*</text>\n</g>\n<!-- 136411130586384&#45;&gt;136411130586432* -->\n<g id=\"edge171\" class=\"edge\">\n<title>136411130586384&#45;&gt;136411130586432*</title>\n<path fill=\"none\" stroke=\"black\" d=\"M1407.56,-311.55C1416.51,-314.36 1425.53,-317.37 1434,-320.5 1444.49,-324.38 1455.71,-329.22 1465.68,-333.78\"/>\n<polygon fill=\"black\" stroke=\"black\" points=\"1464.25,-336.98 1474.79,-338.03 1467.2,-330.63 1464.25,-336.98\"/>\n</g>\n<!-- 136411130586432 -->\n<g id=\"node26\" class=\"node\">\n<title>136411130586432</title>\n<polygon fill=\"none\" stroke=\"black\" points=\"1562.5,-330.5 1562.5,-366.5 1744.5,-366.5 1744.5,-330.5 1562.5,-330.5\"/>\n<text text-anchor=\"middle\" x=\"1572.5\" y=\"-344.8\" font-family=\"Times,serif\" font-size=\"14.00\"> </text>\n<polyline fill=\"none\" stroke=\"black\" points=\"1582.5,-330.5 1582.5,-366.5 \"/>\n<text text-anchor=\"middle\" x=\"1622.5\" y=\"-344.8\" font-family=\"Times,serif\" font-size=\"14.00\">data 0.3612</text>\n<polyline fill=\"none\" stroke=\"black\" points=\"1662.5,-330.5 1662.5,-366.5 \"/>\n<text text-anchor=\"middle\" x=\"1703.5\" y=\"-344.8\" font-family=\"Times,serif\" font-size=\"14.00\">grad 0.0000</text>\n</g>\n<!-- 136411130586432&#45;&gt;136411130586624+ -->\n<g id=\"edge194\" class=\"edge\">\n<title>136411130586432&#45;&gt;136411130586624+</title>\n<path fill=\"none\" stroke=\"black\" d=\"M1720.56,-366.55C1729.51,-369.36 1738.53,-372.37 1747,-375.5 1757.49,-379.38 1768.71,-384.22 1778.68,-388.78\"/>\n<polygon fill=\"black\" stroke=\"black\" points=\"1777.25,-391.98 1787.79,-393.03 1780.2,-385.63 1777.25,-391.98\"/>\n</g>\n<!-- 136411130586432*&#45;&gt;136411130586432 -->\n<g id=\"edge12\" class=\"edge\">\n<title>136411130586432*&#45;&gt;136411130586432</title>\n<path fill=\"none\" stroke=\"black\" d=\"M1524.21,-348.5C1532.34,-348.5 1541.85,-348.5 1551.94,-348.5\"/>\n<polygon fill=\"black\" stroke=\"black\" points=\"1552.19,-352 1562.19,-348.5 1552.19,-345 1552.19,-352\"/>\n</g>\n<!-- 136411130594752 -->\n<g id=\"node28\" class=\"node\">\n<title>136411130594752</title>\n<polygon fill=\"none\" stroke=\"black\" points=\"2814.5,-416.5 2814.5,-452.5 2996.5,-452.5 2996.5,-416.5 2814.5,-416.5\"/>\n<text text-anchor=\"middle\" x=\"2824.5\" y=\"-430.8\" font-family=\"Times,serif\" font-size=\"14.00\"> </text>\n<polyline fill=\"none\" stroke=\"black\" points=\"2834.5,-416.5 2834.5,-452.5 \"/>\n<text text-anchor=\"middle\" x=\"2874.5\" y=\"-430.8\" font-family=\"Times,serif\" font-size=\"14.00\">data 0.1081</text>\n<polyline fill=\"none\" stroke=\"black\" points=\"2914.5,-416.5 2914.5,-452.5 \"/>\n<text text-anchor=\"middle\" x=\"2955.5\" y=\"-430.8\" font-family=\"Times,serif\" font-size=\"14.00\">grad 0.0000</text>\n</g>\n<!-- 136411130594752&#45;&gt;136411130594944+ -->\n<g id=\"edge77\" class=\"edge\">\n<title>136411130594752&#45;&gt;136411130594944+</title>\n<path fill=\"none\" stroke=\"black\" d=\"M2985.41,-452.68C2990.23,-455.24 2994.81,-458.16 2999,-461.5 3026.01,-483.02 3043.16,-519.69 3052.42,-544.96\"/>\n<polygon fill=\"black\" stroke=\"black\" points=\"3049.21,-546.39 3055.8,-554.68 3055.82,-544.09 3049.21,-546.39\"/>\n</g>\n<!-- 136411130594752* -->\n<g id=\"node29\" class=\"node\">\n<title>136411130594752*</title>\n<ellipse fill=\"none\" stroke=\"black\" cx=\"2749\" cy=\"-434.5\" rx=\"27\" ry=\"18\"/>\n<text text-anchor=\"middle\" x=\"2749\" y=\"-430.8\" font-family=\"Times,serif\" font-size=\"14.00\">*</text>\n</g>\n<!-- 136411130594752*&#45;&gt;136411130594752 -->\n<g id=\"edge13\" class=\"edge\">\n<title>136411130594752*&#45;&gt;136411130594752</title>\n<path fill=\"none\" stroke=\"black\" d=\"M2776.21,-434.5C2784.34,-434.5 2793.85,-434.5 2803.94,-434.5\"/>\n<polygon fill=\"black\" stroke=\"black\" points=\"2804.19,-438 2814.19,-434.5 2804.19,-431 2804.19,-438\"/>\n</g>\n<!-- 136411130586624 -->\n<g id=\"node30\" class=\"node\">\n<title>136411130586624</title>\n<polygon fill=\"none\" stroke=\"black\" points=\"1875.5,-385.5 1875.5,-421.5 2057.5,-421.5 2057.5,-385.5 1875.5,-385.5\"/>\n<text text-anchor=\"middle\" x=\"1885.5\" y=\"-399.8\" font-family=\"Times,serif\" font-size=\"14.00\"> </text>\n<polyline fill=\"none\" stroke=\"black\" points=\"1895.5,-385.5 1895.5,-421.5 \"/>\n<text text-anchor=\"middle\" x=\"1935.5\" y=\"-399.8\" font-family=\"Times,serif\" font-size=\"14.00\">data 0.1472</text>\n<polyline fill=\"none\" stroke=\"black\" points=\"1975.5,-385.5 1975.5,-421.5 \"/>\n<text text-anchor=\"middle\" x=\"2016.5\" y=\"-399.8\" font-family=\"Times,serif\" font-size=\"14.00\">grad 0.0000</text>\n</g>\n<!-- 136411130586720tanh -->\n<g id=\"node33\" class=\"node\">\n<title>136411130586720tanh</title>\n<ellipse fill=\"none\" stroke=\"black\" cx=\"2123\" cy=\"-430.5\" rx=\"27\" ry=\"18\"/>\n<text text-anchor=\"middle\" x=\"2123\" y=\"-426.8\" font-family=\"Times,serif\" font-size=\"14.00\">tanh</text>\n</g>\n<!-- 136411130586624&#45;&gt;136411130586720tanh -->\n<g id=\"edge178\" class=\"edge\">\n<title>136411130586624&#45;&gt;136411130586720tanh</title>\n<path fill=\"none\" stroke=\"black\" d=\"M2057.82,-419.28C2068.07,-421.08 2078.01,-422.81 2086.88,-424.36\"/>\n<polygon fill=\"black\" stroke=\"black\" points=\"2086.3,-427.81 2096.75,-426.09 2087.5,-420.92 2086.3,-427.81\"/>\n</g>\n<!-- 136411130586624+&#45;&gt;136411130586624 -->\n<g id=\"edge14\" class=\"edge\">\n<title>136411130586624+&#45;&gt;136411130586624</title>\n<path fill=\"none\" stroke=\"black\" d=\"M1837.21,-403.5C1845.34,-403.5 1854.85,-403.5 1864.94,-403.5\"/>\n<polygon fill=\"black\" stroke=\"black\" points=\"1865.19,-407 1875.19,-403.5 1865.19,-400 1865.19,-407\"/>\n</g>\n<!-- 136411130586720 -->\n<g id=\"node32\" class=\"node\">\n<title>136411130586720</title>\n<polygon fill=\"none\" stroke=\"black\" points=\"2188.5,-440.5 2188.5,-476.5 2370.5,-476.5 2370.5,-440.5 2188.5,-440.5\"/>\n<text text-anchor=\"middle\" x=\"2198.5\" y=\"-454.8\" font-family=\"Times,serif\" font-size=\"14.00\"> </text>\n<polyline fill=\"none\" stroke=\"black\" points=\"2208.5,-440.5 2208.5,-476.5 \"/>\n<text text-anchor=\"middle\" x=\"2248.5\" y=\"-454.8\" font-family=\"Times,serif\" font-size=\"14.00\">data 0.1462</text>\n<polyline fill=\"none\" stroke=\"black\" points=\"2288.5,-440.5 2288.5,-476.5 \"/>\n<text text-anchor=\"middle\" x=\"2329.5\" y=\"-454.8\" font-family=\"Times,serif\" font-size=\"14.00\">grad 0.0000</text>\n</g>\n<!-- 136411130586720&#45;&gt;136411130594368* -->\n<g id=\"edge166\" class=\"edge\">\n<title>136411130586720&#45;&gt;136411130594368*</title>\n<path fill=\"none\" stroke=\"black\" d=\"M2362.18,-476.59C2366.09,-479.18 2369.74,-482.13 2373,-485.5 2417.95,-532 2381.19,-568.11 2409,-626.5 2410.83,-630.34 2413.11,-634.19 2415.56,-637.85\"/>\n<polygon fill=\"black\" stroke=\"black\" points=\"2412.73,-639.91 2421.43,-645.96 2418.4,-635.81 2412.73,-639.91\"/>\n</g>\n<!-- 136411130596096* -->\n<g id=\"node65\" class=\"node\">\n<title>136411130596096*</title>\n<ellipse fill=\"none\" stroke=\"black\" cx=\"2436\" cy=\"-348.5\" rx=\"27\" ry=\"18\"/>\n<text text-anchor=\"middle\" x=\"2436\" y=\"-344.8\" font-family=\"Times,serif\" font-size=\"14.00\">*</text>\n</g>\n<!-- 136411130586720&#45;&gt;136411130596096* -->\n<g id=\"edge123\" class=\"edge\">\n<title>136411130586720&#45;&gt;136411130596096*</title>\n<path fill=\"none\" stroke=\"black\" d=\"M2355.64,-440.32C2361.75,-437.49 2367.63,-434.24 2373,-430.5 2393.7,-416.07 2410.44,-392.58 2421.29,-374.43\"/>\n<polygon fill=\"black\" stroke=\"black\" points=\"2424.47,-375.91 2426.41,-365.5 2418.4,-372.43 2424.47,-375.91\"/>\n</g>\n<!-- 136411130589312* -->\n<g id=\"node118\" class=\"node\">\n<title>136411130589312*</title>\n<ellipse fill=\"none\" stroke=\"black\" cx=\"2436\" cy=\"-458.5\" rx=\"27\" ry=\"18\"/>\n<text text-anchor=\"middle\" x=\"2436\" y=\"-454.8\" font-family=\"Times,serif\" font-size=\"14.00\">*</text>\n</g>\n<!-- 136411130586720&#45;&gt;136411130589312* -->\n<g id=\"edge187\" class=\"edge\">\n<title>136411130586720&#45;&gt;136411130589312*</title>\n<path fill=\"none\" stroke=\"black\" d=\"M2370.82,-458.5C2380.57,-458.5 2390.04,-458.5 2398.57,-458.5\"/>\n<polygon fill=\"black\" stroke=\"black\" points=\"2398.83,-462 2408.83,-458.5 2398.83,-455 2398.83,-462\"/>\n</g>\n<!-- 136411130591184* -->\n<g id=\"node169\" class=\"node\">\n<title>136411130591184*</title>\n<ellipse fill=\"none\" stroke=\"black\" cx=\"2436\" cy=\"-513.5\" rx=\"27\" ry=\"18\"/>\n<text text-anchor=\"middle\" x=\"2436\" y=\"-509.8\" font-family=\"Times,serif\" font-size=\"14.00\">*</text>\n</g>\n<!-- 136411130586720&#45;&gt;136411130591184* -->\n<g id=\"edge177\" class=\"edge\">\n<title>136411130586720&#45;&gt;136411130591184*</title>\n<path fill=\"none\" stroke=\"black\" d=\"M2346.56,-476.55C2355.51,-479.36 2364.53,-482.37 2373,-485.5 2383.49,-489.38 2394.71,-494.22 2404.68,-498.78\"/>\n<polygon fill=\"black\" stroke=\"black\" points=\"2403.25,-501.98 2413.79,-503.03 2406.2,-495.63 2403.25,-501.98\"/>\n</g>\n<!-- 136411130586720tanh&#45;&gt;136411130586720 -->\n<g id=\"edge15\" class=\"edge\">\n<title>136411130586720tanh&#45;&gt;136411130586720</title>\n<path fill=\"none\" stroke=\"black\" d=\"M2149.17,-435.06C2157.61,-436.59 2167.61,-438.4 2178.25,-440.33\"/>\n<polygon fill=\"black\" stroke=\"black\" points=\"2177.71,-443.79 2188.18,-442.13 2178.96,-436.9 2177.71,-443.79\"/>\n</g>\n<!-- 136411130594944 -->\n<g id=\"node34\" class=\"node\">\n<title>136411130594944</title>\n<polygon fill=\"none\" stroke=\"black\" points=\"3125,-554.5 3125,-590.5 3312,-590.5 3312,-554.5 3125,-554.5\"/>\n<text text-anchor=\"middle\" x=\"3135\" y=\"-568.8\" font-family=\"Times,serif\" font-size=\"14.00\"> </text>\n<polyline fill=\"none\" stroke=\"black\" points=\"3145,-554.5 3145,-590.5 \"/>\n<text text-anchor=\"middle\" x=\"3187.5\" y=\"-568.8\" font-family=\"Times,serif\" font-size=\"14.00\">data &#45;0.2184</text>\n<polyline fill=\"none\" stroke=\"black\" points=\"3230,-554.5 3230,-590.5 \"/>\n<text text-anchor=\"middle\" x=\"3271\" y=\"-568.8\" font-family=\"Times,serif\" font-size=\"14.00\">grad 0.0000</text>\n</g>\n<!-- 136411130595040tanh -->\n<g id=\"node37\" class=\"node\">\n<title>136411130595040tanh</title>\n<ellipse fill=\"none\" stroke=\"black\" cx=\"3375\" cy=\"-572.5\" rx=\"27\" ry=\"18\"/>\n<text text-anchor=\"middle\" x=\"3375\" y=\"-568.8\" font-family=\"Times,serif\" font-size=\"14.00\">tanh</text>\n</g>\n<!-- 136411130594944&#45;&gt;136411130595040tanh -->\n<g id=\"edge193\" class=\"edge\">\n<title>136411130594944&#45;&gt;136411130595040tanh</title>\n<path fill=\"none\" stroke=\"black\" d=\"M3312.05,-572.5C3321.06,-572.5 3329.79,-572.5 3337.7,-572.5\"/>\n<polygon fill=\"black\" stroke=\"black\" points=\"3337.95,-576 3347.95,-572.5 3337.95,-569 3337.95,-576\"/>\n</g>\n<!-- 136411130594944+&#45;&gt;136411130594944 -->\n<g id=\"edge16\" class=\"edge\">\n<title>136411130594944+&#45;&gt;136411130594944</title>\n<path fill=\"none\" stroke=\"black\" d=\"M3089.21,-572.5C3096.73,-572.5 3105.43,-572.5 3114.67,-572.5\"/>\n<polygon fill=\"black\" stroke=\"black\" points=\"3114.89,-576 3124.89,-572.5 3114.89,-569 3114.89,-576\"/>\n</g>\n<!-- 136411130595040 -->\n<g id=\"node36\" class=\"node\">\n<title>136411130595040</title>\n<polygon fill=\"none\" stroke=\"black\" points=\"3438,-554.5 3438,-590.5 3625,-590.5 3625,-554.5 3438,-554.5\"/>\n<text text-anchor=\"middle\" x=\"3448\" y=\"-568.8\" font-family=\"Times,serif\" font-size=\"14.00\"> </text>\n<polyline fill=\"none\" stroke=\"black\" points=\"3458,-554.5 3458,-590.5 \"/>\n<text text-anchor=\"middle\" x=\"3500.5\" y=\"-568.8\" font-family=\"Times,serif\" font-size=\"14.00\">data &#45;0.2150</text>\n<polyline fill=\"none\" stroke=\"black\" points=\"3543,-554.5 3543,-590.5 \"/>\n<text text-anchor=\"middle\" x=\"3584\" y=\"-568.8\" font-family=\"Times,serif\" font-size=\"14.00\">grad 0.0000</text>\n</g>\n<!-- 136411130597824* -->\n<g id=\"node130\" class=\"node\">\n<title>136411130597824*</title>\n<ellipse fill=\"none\" stroke=\"black\" cx=\"3688\" cy=\"-517.5\" rx=\"27\" ry=\"18\"/>\n<text text-anchor=\"middle\" x=\"3688\" y=\"-513.8\" font-family=\"Times,serif\" font-size=\"14.00\">*</text>\n</g>\n<!-- 136411130595040&#45;&gt;136411130597824* -->\n<g id=\"edge161\" class=\"edge\">\n<title>136411130595040&#45;&gt;136411130597824*</title>\n<path fill=\"none\" stroke=\"black\" d=\"M3596.02,-554.35C3605.79,-551.24 3615.71,-547.92 3625,-544.5 3635.25,-540.73 3646.23,-536.14 3656.07,-531.82\"/>\n<polygon fill=\"black\" stroke=\"black\" points=\"3657.74,-534.9 3665.45,-527.63 3654.89,-528.51 3657.74,-534.9\"/>\n</g>\n<!-- 136411130595040tanh&#45;&gt;136411130595040 -->\n<g id=\"edge17\" class=\"edge\">\n<title>136411130595040tanh&#45;&gt;136411130595040</title>\n<path fill=\"none\" stroke=\"black\" d=\"M3402.21,-572.5C3409.73,-572.5 3418.43,-572.5 3427.67,-572.5\"/>\n<polygon fill=\"black\" stroke=\"black\" points=\"3427.89,-576 3437.89,-572.5 3427.89,-569 3427.89,-576\"/>\n</g>\n<!-- 136411130587008 -->\n<g id=\"node38\" class=\"node\">\n<title>136411130587008</title>\n<polygon fill=\"none\" stroke=\"black\" points=\"936.5,-138.5 936.5,-174.5 1118.5,-174.5 1118.5,-138.5 936.5,-138.5\"/>\n<text text-anchor=\"middle\" x=\"946.5\" y=\"-152.8\" font-family=\"Times,serif\" font-size=\"14.00\"> </text>\n<polyline fill=\"none\" stroke=\"black\" points=\"956.5,-138.5 956.5,-174.5 \"/>\n<text text-anchor=\"middle\" x=\"996.5\" y=\"-152.8\" font-family=\"Times,serif\" font-size=\"14.00\">data 2.0000</text>\n<polyline fill=\"none\" stroke=\"black\" points=\"1036.5,-138.5 1036.5,-174.5 \"/>\n<text text-anchor=\"middle\" x=\"1077.5\" y=\"-152.8\" font-family=\"Times,serif\" font-size=\"14.00\">grad 0.0000</text>\n</g>\n<!-- 136411130587056* -->\n<g id=\"node40\" class=\"node\">\n<title>136411130587056*</title>\n<ellipse fill=\"none\" stroke=\"black\" cx=\"1184\" cy=\"-128.5\" rx=\"27\" ry=\"18\"/>\n<text text-anchor=\"middle\" x=\"1184\" y=\"-124.8\" font-family=\"Times,serif\" font-size=\"14.00\">*</text>\n</g>\n<!-- 136411130587008&#45;&gt;136411130587056* -->\n<g id=\"edge124\" class=\"edge\">\n<title>136411130587008&#45;&gt;136411130587056*</title>\n<path fill=\"none\" stroke=\"black\" d=\"M1118.82,-140.13C1129.07,-138.27 1139.01,-136.47 1147.88,-134.87\"/>\n<polygon fill=\"black\" stroke=\"black\" points=\"1148.54,-138.3 1157.75,-133.08 1147.29,-131.42 1148.54,-138.3\"/>\n</g>\n<!-- 136411130587056 -->\n<g id=\"node39\" class=\"node\">\n<title>136411130587056</title>\n<polygon fill=\"none\" stroke=\"black\" points=\"1247,-110.5 1247,-146.5 1434,-146.5 1434,-110.5 1247,-110.5\"/>\n<text text-anchor=\"middle\" x=\"1257\" y=\"-124.8\" font-family=\"Times,serif\" font-size=\"14.00\"> </text>\n<polyline fill=\"none\" stroke=\"black\" points=\"1267,-110.5 1267,-146.5 \"/>\n<text text-anchor=\"middle\" x=\"1309.5\" y=\"-124.8\" font-family=\"Times,serif\" font-size=\"14.00\">data &#45;0.3311</text>\n<polyline fill=\"none\" stroke=\"black\" points=\"1352,-110.5 1352,-146.5 \"/>\n<text text-anchor=\"middle\" x=\"1393\" y=\"-124.8\" font-family=\"Times,serif\" font-size=\"14.00\">grad 0.0000</text>\n</g>\n<!-- 136411130587248+ -->\n<g id=\"node44\" class=\"node\">\n<title>136411130587248+</title>\n<ellipse fill=\"none\" stroke=\"black\" cx=\"1497\" cy=\"-128.5\" rx=\"27\" ry=\"18\"/>\n<text text-anchor=\"middle\" x=\"1497\" y=\"-124.8\" font-family=\"Times,serif\" font-size=\"14.00\">+</text>\n</g>\n<!-- 136411130587056&#45;&gt;136411130587248+ -->\n<g id=\"edge114\" class=\"edge\">\n<title>136411130587056&#45;&gt;136411130587248+</title>\n<path fill=\"none\" stroke=\"black\" d=\"M1434.05,-128.5C1443.06,-128.5 1451.79,-128.5 1459.7,-128.5\"/>\n<polygon fill=\"black\" stroke=\"black\" points=\"1459.95,-132 1469.95,-128.5 1459.95,-125 1459.95,-132\"/>\n</g>\n<!-- 136411130587056*&#45;&gt;136411130587056 -->\n<g id=\"edge18\" class=\"edge\">\n<title>136411130587056*&#45;&gt;136411130587056</title>\n<path fill=\"none\" stroke=\"black\" d=\"M1211.21,-128.5C1218.73,-128.5 1227.43,-128.5 1236.67,-128.5\"/>\n<polygon fill=\"black\" stroke=\"black\" points=\"1236.89,-132 1246.89,-128.5 1236.89,-125 1236.89,-132\"/>\n</g>\n<!-- 136411130595328 -->\n<g id=\"node41\" class=\"node\">\n<title>136411130595328</title>\n<polygon fill=\"none\" stroke=\"black\" points=\"1875.5,-275.5 1875.5,-311.5 2057.5,-311.5 2057.5,-275.5 1875.5,-275.5\"/>\n<text text-anchor=\"middle\" x=\"1885.5\" y=\"-289.8\" font-family=\"Times,serif\" font-size=\"14.00\"> </text>\n<polyline fill=\"none\" stroke=\"black\" points=\"1895.5,-275.5 1895.5,-311.5 \"/>\n<text text-anchor=\"middle\" x=\"1935.5\" y=\"-289.8\" font-family=\"Times,serif\" font-size=\"14.00\">data 0.0929</text>\n<polyline fill=\"none\" stroke=\"black\" points=\"1975.5,-275.5 1975.5,-311.5 \"/>\n<text text-anchor=\"middle\" x=\"2016.5\" y=\"-289.8\" font-family=\"Times,serif\" font-size=\"14.00\">grad 0.0000</text>\n</g>\n<!-- 136411130595520+ -->\n<g id=\"node46\" class=\"node\">\n<title>136411130595520+</title>\n<ellipse fill=\"none\" stroke=\"black\" cx=\"2123\" cy=\"-238.5\" rx=\"27\" ry=\"18\"/>\n<text text-anchor=\"middle\" x=\"2123\" y=\"-234.8\" font-family=\"Times,serif\" font-size=\"14.00\">+</text>\n</g>\n<!-- 136411130595328&#45;&gt;136411130595520+ -->\n<g id=\"edge205\" class=\"edge\">\n<title>136411130595328&#45;&gt;136411130595520+</title>\n<path fill=\"none\" stroke=\"black\" d=\"M2031.02,-275.35C2040.79,-272.24 2050.71,-268.92 2060,-265.5 2070.25,-261.73 2081.23,-257.14 2091.07,-252.82\"/>\n<polygon fill=\"black\" stroke=\"black\" points=\"2092.74,-255.9 2100.45,-248.63 2089.89,-249.51 2092.74,-255.9\"/>\n</g>\n<!-- 136411130595328* -->\n<g id=\"node42\" class=\"node\">\n<title>136411130595328*</title>\n<ellipse fill=\"none\" stroke=\"black\" cx=\"1810\" cy=\"-293.5\" rx=\"27\" ry=\"18\"/>\n<text text-anchor=\"middle\" x=\"1810\" y=\"-289.8\" font-family=\"Times,serif\" font-size=\"14.00\">*</text>\n</g>\n<!-- 136411130595328*&#45;&gt;136411130595328 -->\n<g id=\"edge19\" class=\"edge\">\n<title>136411130595328*&#45;&gt;136411130595328</title>\n<path fill=\"none\" stroke=\"black\" d=\"M1837.21,-293.5C1845.34,-293.5 1854.85,-293.5 1864.94,-293.5\"/>\n<polygon fill=\"black\" stroke=\"black\" points=\"1865.19,-297 1875.19,-293.5 1865.19,-290 1865.19,-297\"/>\n</g>\n<!-- 136411130587248 -->\n<g id=\"node43\" class=\"node\">\n<title>136411130587248</title>\n<polygon fill=\"none\" stroke=\"black\" points=\"1562.5,-110.5 1562.5,-146.5 1744.5,-146.5 1744.5,-110.5 1562.5,-110.5\"/>\n<text text-anchor=\"middle\" x=\"1572.5\" y=\"-124.8\" font-family=\"Times,serif\" font-size=\"14.00\"> </text>\n<polyline fill=\"none\" stroke=\"black\" points=\"1582.5,-110.5 1582.5,-146.5 \"/>\n<text text-anchor=\"middle\" x=\"1622.5\" y=\"-124.8\" font-family=\"Times,serif\" font-size=\"14.00\">data 0.6564</text>\n<polyline fill=\"none\" stroke=\"black\" points=\"1662.5,-110.5 1662.5,-146.5 \"/>\n<text text-anchor=\"middle\" x=\"1703.5\" y=\"-124.8\" font-family=\"Times,serif\" font-size=\"14.00\">grad 0.0000</text>\n</g>\n<!-- 136411130587680+ -->\n<g id=\"node56\" class=\"node\">\n<title>136411130587680+</title>\n<ellipse fill=\"none\" stroke=\"black\" cx=\"1810\" cy=\"-128.5\" rx=\"27\" ry=\"18\"/>\n<text text-anchor=\"middle\" x=\"1810\" y=\"-124.8\" font-family=\"Times,serif\" font-size=\"14.00\">+</text>\n</g>\n<!-- 136411130587248&#45;&gt;136411130587680+ -->\n<g id=\"edge210\" class=\"edge\">\n<title>136411130587248&#45;&gt;136411130587680+</title>\n<path fill=\"none\" stroke=\"black\" d=\"M1744.82,-128.5C1754.57,-128.5 1764.04,-128.5 1772.57,-128.5\"/>\n<polygon fill=\"black\" stroke=\"black\" points=\"1772.83,-132 1782.83,-128.5 1772.83,-125 1772.83,-132\"/>\n</g>\n<!-- 136411130587248+&#45;&gt;136411130587248 -->\n<g id=\"edge20\" class=\"edge\">\n<title>136411130587248+&#45;&gt;136411130587248</title>\n<path fill=\"none\" stroke=\"black\" d=\"M1524.21,-128.5C1532.34,-128.5 1541.85,-128.5 1551.94,-128.5\"/>\n<polygon fill=\"black\" stroke=\"black\" points=\"1552.19,-132 1562.19,-128.5 1552.19,-125 1552.19,-132\"/>\n</g>\n<!-- 136411130595520 -->\n<g id=\"node45\" class=\"node\">\n<title>136411130595520</title>\n<polygon fill=\"none\" stroke=\"black\" points=\"2186,-220.5 2186,-256.5 2373,-256.5 2373,-220.5 2186,-220.5\"/>\n<text text-anchor=\"middle\" x=\"2196\" y=\"-234.8\" font-family=\"Times,serif\" font-size=\"14.00\"> </text>\n<polyline fill=\"none\" stroke=\"black\" points=\"2206,-220.5 2206,-256.5 \"/>\n<text text-anchor=\"middle\" x=\"2248.5\" y=\"-234.8\" font-family=\"Times,serif\" font-size=\"14.00\">data &#45;0.7959</text>\n<polyline fill=\"none\" stroke=\"black\" points=\"2291,-220.5 2291,-256.5 \"/>\n<text text-anchor=\"middle\" x=\"2332\" y=\"-234.8\" font-family=\"Times,serif\" font-size=\"14.00\">grad 0.0000</text>\n</g>\n<!-- 136411130595904+ -->\n<g id=\"node59\" class=\"node\">\n<title>136411130595904+</title>\n<ellipse fill=\"none\" stroke=\"black\" cx=\"2436\" cy=\"-269.5\" rx=\"27\" ry=\"18\"/>\n<text text-anchor=\"middle\" x=\"2436\" y=\"-265.8\" font-family=\"Times,serif\" font-size=\"14.00\">+</text>\n</g>\n<!-- 136411130595520&#45;&gt;136411130595904+ -->\n<g id=\"edge89\" class=\"edge\">\n<title>136411130595520&#45;&gt;136411130595904+</title>\n<path fill=\"none\" stroke=\"black\" d=\"M2370.37,-256.53C2380.77,-258.62 2390.86,-260.64 2399.85,-262.45\"/>\n<polygon fill=\"black\" stroke=\"black\" points=\"2399.37,-265.92 2409.86,-264.46 2400.74,-259.06 2399.37,-265.92\"/>\n</g>\n<!-- 136411130595520+&#45;&gt;136411130595520 -->\n<g id=\"edge21\" class=\"edge\">\n<title>136411130595520+&#45;&gt;136411130595520</title>\n<path fill=\"none\" stroke=\"black\" d=\"M2150.21,-238.5C2157.73,-238.5 2166.43,-238.5 2175.67,-238.5\"/>\n<polygon fill=\"black\" stroke=\"black\" points=\"2175.89,-242 2185.89,-238.5 2175.89,-235 2175.89,-242\"/>\n</g>\n<!-- 136411130587440 -->\n<g id=\"node47\" class=\"node\">\n<title>136411130587440</title>\n<polygon fill=\"none\" stroke=\"black\" points=\"1249.5,-0.5 1249.5,-36.5 1431.5,-36.5 1431.5,-0.5 1249.5,-0.5\"/>\n<text text-anchor=\"middle\" x=\"1259.5\" y=\"-14.8\" font-family=\"Times,serif\" font-size=\"14.00\"> </text>\n<polyline fill=\"none\" stroke=\"black\" points=\"1269.5,-0.5 1269.5,-36.5 \"/>\n<text text-anchor=\"middle\" x=\"1309.5\" y=\"-14.8\" font-family=\"Times,serif\" font-size=\"14.00\">data 3.0000</text>\n<polyline fill=\"none\" stroke=\"black\" points=\"1349.5,-0.5 1349.5,-36.5 \"/>\n<text text-anchor=\"middle\" x=\"1390.5\" y=\"-14.8\" font-family=\"Times,serif\" font-size=\"14.00\">grad 0.0000</text>\n</g>\n<!-- 136411130587488* -->\n<g id=\"node49\" class=\"node\">\n<title>136411130587488*</title>\n<ellipse fill=\"none\" stroke=\"black\" cx=\"1497\" cy=\"-73.5\" rx=\"27\" ry=\"18\"/>\n<text text-anchor=\"middle\" x=\"1497\" y=\"-69.8\" font-family=\"Times,serif\" font-size=\"14.00\">*</text>\n</g>\n<!-- 136411130587440&#45;&gt;136411130587488* -->\n<g id=\"edge183\" class=\"edge\">\n<title>136411130587440&#45;&gt;136411130587488*</title>\n<path fill=\"none\" stroke=\"black\" d=\"M1407.56,-36.55C1416.51,-39.36 1425.53,-42.37 1434,-45.5 1444.49,-49.38 1455.71,-54.22 1465.68,-58.78\"/>\n<polygon fill=\"black\" stroke=\"black\" points=\"1464.25,-61.98 1474.79,-63.03 1467.2,-55.63 1464.25,-61.98\"/>\n</g>\n<!-- 136411130587488 -->\n<g id=\"node48\" class=\"node\">\n<title>136411130587488</title>\n<polygon fill=\"none\" stroke=\"black\" points=\"1562.5,-55.5 1562.5,-91.5 1744.5,-91.5 1744.5,-55.5 1562.5,-55.5\"/>\n<text text-anchor=\"middle\" x=\"1572.5\" y=\"-69.8\" font-family=\"Times,serif\" font-size=\"14.00\"> </text>\n<polyline fill=\"none\" stroke=\"black\" points=\"1582.5,-55.5 1582.5,-91.5 \"/>\n<text text-anchor=\"middle\" x=\"1622.5\" y=\"-69.8\" font-family=\"Times,serif\" font-size=\"14.00\">data 0.8543</text>\n<polyline fill=\"none\" stroke=\"black\" points=\"1662.5,-55.5 1662.5,-91.5 \"/>\n<text text-anchor=\"middle\" x=\"1703.5\" y=\"-69.8\" font-family=\"Times,serif\" font-size=\"14.00\">grad 0.0000</text>\n</g>\n<!-- 136411130587488&#45;&gt;136411130587680+ -->\n<g id=\"edge75\" class=\"edge\">\n<title>136411130587488&#45;&gt;136411130587680+</title>\n<path fill=\"none\" stroke=\"black\" d=\"M1720.56,-91.55C1729.51,-94.36 1738.53,-97.37 1747,-100.5 1757.49,-104.38 1768.71,-109.22 1778.68,-113.78\"/>\n<polygon fill=\"black\" stroke=\"black\" points=\"1777.25,-116.98 1787.79,-118.03 1780.2,-110.63 1777.25,-116.98\"/>\n</g>\n<!-- 136411130587488*&#45;&gt;136411130587488 -->\n<g id=\"edge22\" class=\"edge\">\n<title>136411130587488*&#45;&gt;136411130587488</title>\n<path fill=\"none\" stroke=\"black\" d=\"M1524.21,-73.5C1532.34,-73.5 1541.85,-73.5 1551.94,-73.5\"/>\n<polygon fill=\"black\" stroke=\"black\" points=\"1552.19,-77 1562.19,-73.5 1552.19,-70 1552.19,-77\"/>\n</g>\n<!-- 136411130546560 -->\n<g id=\"node50\" class=\"node\">\n<title>136411130546560</title>\n<polygon fill=\"none\" stroke=\"black\" points=\"0,-908.5 0,-944.5 182,-944.5 182,-908.5 0,-908.5\"/>\n<text text-anchor=\"middle\" x=\"10\" y=\"-922.8\" font-family=\"Times,serif\" font-size=\"14.00\"> </text>\n<polyline fill=\"none\" stroke=\"black\" points=\"20,-908.5 20,-944.5 \"/>\n<text text-anchor=\"middle\" x=\"60\" y=\"-922.8\" font-family=\"Times,serif\" font-size=\"14.00\">data 0.0853</text>\n<polyline fill=\"none\" stroke=\"black\" points=\"100,-908.5 100,-944.5 \"/>\n<text text-anchor=\"middle\" x=\"141\" y=\"-922.8\" font-family=\"Times,serif\" font-size=\"14.00\">grad 0.0000</text>\n</g>\n<!-- 136411130581728* -->\n<g id=\"node142\" class=\"node\">\n<title>136411130581728*</title>\n<ellipse fill=\"none\" stroke=\"black\" cx=\"245\" cy=\"-898.5\" rx=\"27\" ry=\"18\"/>\n<text text-anchor=\"middle\" x=\"245\" y=\"-894.8\" font-family=\"Times,serif\" font-size=\"14.00\">*</text>\n</g>\n<!-- 136411130546560&#45;&gt;136411130581728* -->\n<g id=\"edge111\" class=\"edge\">\n<title>136411130546560&#45;&gt;136411130581728*</title>\n<path fill=\"none\" stroke=\"black\" d=\"M182.18,-909.89C191.61,-908.15 200.75,-906.47 208.98,-904.95\"/>\n<polygon fill=\"black\" stroke=\"black\" points=\"209.66,-908.39 218.86,-903.13 208.39,-901.5 209.66,-908.39\"/>\n</g>\n<!-- 136411130595712 -->\n<g id=\"node51\" class=\"node\">\n<title>136411130595712</title>\n<polygon fill=\"none\" stroke=\"black\" points=\"2186,-275.5 2186,-311.5 2373,-311.5 2373,-275.5 2186,-275.5\"/>\n<text text-anchor=\"middle\" x=\"2196\" y=\"-289.8\" font-family=\"Times,serif\" font-size=\"14.00\"> </text>\n<polyline fill=\"none\" stroke=\"black\" points=\"2206,-275.5 2206,-311.5 \"/>\n<text text-anchor=\"middle\" x=\"2248.5\" y=\"-289.8\" font-family=\"Times,serif\" font-size=\"14.00\">data &#45;0.6211</text>\n<polyline fill=\"none\" stroke=\"black\" points=\"2291,-275.5 2291,-311.5 \"/>\n<text text-anchor=\"middle\" x=\"2332\" y=\"-289.8\" font-family=\"Times,serif\" font-size=\"14.00\">grad 0.0000</text>\n</g>\n<!-- 136411130595712&#45;&gt;136411130595904+ -->\n<g id=\"edge172\" class=\"edge\">\n<title>136411130595712&#45;&gt;136411130595904+</title>\n<path fill=\"none\" stroke=\"black\" d=\"M2373.05,-279.12C2382.34,-277.68 2391.33,-276.28 2399.44,-275.02\"/>\n<polygon fill=\"black\" stroke=\"black\" points=\"2400.21,-278.45 2409.55,-273.45 2399.13,-271.53 2400.21,-278.45\"/>\n</g>\n<!-- 136411130595712*&#45;&gt;136411130595712 -->\n<g id=\"edge23\" class=\"edge\">\n<title>136411130595712*&#45;&gt;136411130595712</title>\n<path fill=\"none\" stroke=\"black\" d=\"M2145.21,-338.03C2157.05,-332.41 2172.15,-325.62 2186,-320.5 2191.43,-318.49 2197.08,-316.54 2202.79,-314.65\"/>\n<polygon fill=\"black\" stroke=\"black\" points=\"2203.99,-317.94 2212.44,-311.55 2201.85,-311.28 2203.99,-317.94\"/>\n</g>\n<!-- 136411130546608 -->\n<g id=\"node53\" class=\"node\">\n<title>136411130546608</title>\n<polygon fill=\"none\" stroke=\"black\" points=\"310.5,-935.5 310.5,-971.5 492.5,-971.5 492.5,-935.5 310.5,-935.5\"/>\n<text text-anchor=\"middle\" x=\"320.5\" y=\"-949.8\" font-family=\"Times,serif\" font-size=\"14.00\"> </text>\n<polyline fill=\"none\" stroke=\"black\" points=\"330.5,-935.5 330.5,-971.5 \"/>\n<text text-anchor=\"middle\" x=\"370.5\" y=\"-949.8\" font-family=\"Times,serif\" font-size=\"14.00\">data 0.7386</text>\n<polyline fill=\"none\" stroke=\"black\" points=\"410.5,-935.5 410.5,-971.5 \"/>\n<text text-anchor=\"middle\" x=\"451.5\" y=\"-949.8\" font-family=\"Times,serif\" font-size=\"14.00\">grad 0.0000</text>\n</g>\n<!-- 136411130582592+ -->\n<g id=\"node158\" class=\"node\">\n<title>136411130582592+</title>\n<ellipse fill=\"none\" stroke=\"black\" cx=\"558\" cy=\"-898.5\" rx=\"27\" ry=\"18\"/>\n<text text-anchor=\"middle\" x=\"558\" y=\"-894.8\" font-family=\"Times,serif\" font-size=\"14.00\">+</text>\n</g>\n<!-- 136411130546608&#45;&gt;136411130582592+ -->\n<g id=\"edge78\" class=\"edge\">\n<title>136411130546608&#45;&gt;136411130582592+</title>\n<path fill=\"none\" stroke=\"black\" d=\"M468.56,-935.45C477.51,-932.64 486.53,-929.63 495,-926.5 505.49,-922.62 516.71,-917.78 526.68,-913.22\"/>\n<polygon fill=\"black\" stroke=\"black\" points=\"528.2,-916.37 535.79,-908.97 525.25,-910.02 528.2,-916.37\"/>\n</g>\n<!-- 136411130546656 -->\n<g id=\"node54\" class=\"node\">\n<title>136411130546656</title>\n<polygon fill=\"none\" stroke=\"black\" points=\"621,-770.5 621,-806.5 808,-806.5 808,-770.5 621,-770.5\"/>\n<text text-anchor=\"middle\" x=\"631\" y=\"-784.8\" font-family=\"Times,serif\" font-size=\"14.00\"> </text>\n<polyline fill=\"none\" stroke=\"black\" points=\"641,-770.5 641,-806.5 \"/>\n<text text-anchor=\"middle\" x=\"683.5\" y=\"-784.8\" font-family=\"Times,serif\" font-size=\"14.00\">data &#45;0.0513</text>\n<polyline fill=\"none\" stroke=\"black\" points=\"726,-770.5 726,-806.5 \"/>\n<text text-anchor=\"middle\" x=\"767\" y=\"-784.8\" font-family=\"Times,serif\" font-size=\"14.00\">grad 0.0000</text>\n</g>\n<!-- 136411130583264* -->\n<g id=\"node174\" class=\"node\">\n<title>136411130583264*</title>\n<ellipse fill=\"none\" stroke=\"black\" cx=\"871\" cy=\"-788.5\" rx=\"27\" ry=\"18\"/>\n<text text-anchor=\"middle\" x=\"871\" y=\"-784.8\" font-family=\"Times,serif\" font-size=\"14.00\">*</text>\n</g>\n<!-- 136411130546656&#45;&gt;136411130583264* -->\n<g id=\"edge110\" class=\"edge\">\n<title>136411130546656&#45;&gt;136411130583264*</title>\n<path fill=\"none\" stroke=\"black\" d=\"M808.05,-788.5C817.06,-788.5 825.79,-788.5 833.7,-788.5\"/>\n<polygon fill=\"black\" stroke=\"black\" points=\"833.95,-792 843.95,-788.5 833.95,-785 833.95,-792\"/>\n</g>\n<!-- 136411130587680 -->\n<g id=\"node55\" class=\"node\">\n<title>136411130587680</title>\n<polygon fill=\"none\" stroke=\"black\" points=\"1875.5,-110.5 1875.5,-146.5 2057.5,-146.5 2057.5,-110.5 1875.5,-110.5\"/>\n<text text-anchor=\"middle\" x=\"1885.5\" y=\"-124.8\" font-family=\"Times,serif\" font-size=\"14.00\"> </text>\n<polyline fill=\"none\" stroke=\"black\" points=\"1895.5,-110.5 1895.5,-146.5 \"/>\n<text text-anchor=\"middle\" x=\"1935.5\" y=\"-124.8\" font-family=\"Times,serif\" font-size=\"14.00\">data 1.5107</text>\n<polyline fill=\"none\" stroke=\"black\" points=\"1975.5,-110.5 1975.5,-146.5 \"/>\n<text text-anchor=\"middle\" x=\"2016.5\" y=\"-124.8\" font-family=\"Times,serif\" font-size=\"14.00\">grad 0.0000</text>\n</g>\n<!-- 136411130588112+ -->\n<g id=\"node73\" class=\"node\">\n<title>136411130588112+</title>\n<ellipse fill=\"none\" stroke=\"black\" cx=\"2123\" cy=\"-183.5\" rx=\"27\" ry=\"18\"/>\n<text text-anchor=\"middle\" x=\"2123\" y=\"-179.8\" font-family=\"Times,serif\" font-size=\"14.00\">+</text>\n</g>\n<!-- 136411130587680&#45;&gt;136411130588112+ -->\n<g id=\"edge97\" class=\"edge\">\n<title>136411130587680&#45;&gt;136411130588112+</title>\n<path fill=\"none\" stroke=\"black\" d=\"M2033.56,-146.55C2042.51,-149.36 2051.53,-152.37 2060,-155.5 2070.49,-159.38 2081.71,-164.22 2091.68,-168.78\"/>\n<polygon fill=\"black\" stroke=\"black\" points=\"2090.25,-171.98 2100.79,-173.03 2093.2,-165.63 2090.25,-171.98\"/>\n</g>\n<!-- 136411130587680+&#45;&gt;136411130587680 -->\n<g id=\"edge24\" class=\"edge\">\n<title>136411130587680+&#45;&gt;136411130587680</title>\n<path fill=\"none\" stroke=\"black\" d=\"M1837.21,-128.5C1845.34,-128.5 1854.85,-128.5 1864.94,-128.5\"/>\n<polygon fill=\"black\" stroke=\"black\" points=\"1865.19,-132 1875.19,-128.5 1865.19,-125 1865.19,-132\"/>\n</g>\n<!-- 136411130546752 -->\n<g id=\"node57\" class=\"node\">\n<title>136411130546752</title>\n<polygon fill=\"none\" stroke=\"black\" points=\"308,-633.5 308,-669.5 495,-669.5 495,-633.5 308,-633.5\"/>\n<text text-anchor=\"middle\" x=\"318\" y=\"-647.8\" font-family=\"Times,serif\" font-size=\"14.00\"> </text>\n<polyline fill=\"none\" stroke=\"black\" points=\"328,-633.5 328,-669.5 \"/>\n<text text-anchor=\"middle\" x=\"370.5\" y=\"-647.8\" font-family=\"Times,serif\" font-size=\"14.00\">data &#45;0.5109</text>\n<polyline fill=\"none\" stroke=\"black\" points=\"413,-633.5 413,-669.5 \"/>\n<text text-anchor=\"middle\" x=\"454\" y=\"-647.8\" font-family=\"Times,serif\" font-size=\"14.00\">grad 0.0000</text>\n</g>\n<!-- 136411130583984* -->\n<g id=\"node183\" class=\"node\">\n<title>136411130583984*</title>\n<ellipse fill=\"none\" stroke=\"black\" cx=\"558\" cy=\"-623.5\" rx=\"27\" ry=\"18\"/>\n<text text-anchor=\"middle\" x=\"558\" y=\"-619.8\" font-family=\"Times,serif\" font-size=\"14.00\">*</text>\n</g>\n<!-- 136411130546752&#45;&gt;136411130583984* -->\n<g id=\"edge91\" class=\"edge\">\n<title>136411130546752&#45;&gt;136411130583984*</title>\n<path fill=\"none\" stroke=\"black\" d=\"M495.05,-634.73C504.54,-633.01 513.71,-631.35 521.95,-629.85\"/>\n<polygon fill=\"black\" stroke=\"black\" points=\"522.64,-633.28 531.85,-628.06 521.39,-626.4 522.64,-633.28\"/>\n</g>\n<!-- 136411130595904 -->\n<g id=\"node58\" class=\"node\">\n<title>136411130595904</title>\n<polygon fill=\"none\" stroke=\"black\" points=\"2499,-251.5 2499,-287.5 2686,-287.5 2686,-251.5 2499,-251.5\"/>\n<text text-anchor=\"middle\" x=\"2509\" y=\"-265.8\" font-family=\"Times,serif\" font-size=\"14.00\"> </text>\n<polyline fill=\"none\" stroke=\"black\" points=\"2519,-251.5 2519,-287.5 \"/>\n<text text-anchor=\"middle\" x=\"2561.5\" y=\"-265.8\" font-family=\"Times,serif\" font-size=\"14.00\">data &#45;1.4170</text>\n<polyline fill=\"none\" stroke=\"black\" points=\"2604,-251.5 2604,-287.5 \"/>\n<text text-anchor=\"middle\" x=\"2645\" y=\"-265.8\" font-family=\"Times,serif\" font-size=\"14.00\">grad 0.0000</text>\n</g>\n<!-- 136411130596288+ -->\n<g id=\"node75\" class=\"node\">\n<title>136411130596288+</title>\n<ellipse fill=\"none\" stroke=\"black\" cx=\"2749\" cy=\"-270.5\" rx=\"27\" ry=\"18\"/>\n<text text-anchor=\"middle\" x=\"2749\" y=\"-266.8\" font-family=\"Times,serif\" font-size=\"14.00\">+</text>\n</g>\n<!-- 136411130595904&#45;&gt;136411130596288+ -->\n<g id=\"edge197\" class=\"edge\">\n<title>136411130595904&#45;&gt;136411130596288+</title>\n<path fill=\"none\" stroke=\"black\" d=\"M2686.05,-270.1C2695.06,-270.16 2703.79,-270.21 2711.7,-270.27\"/>\n<polygon fill=\"black\" stroke=\"black\" points=\"2711.93,-273.77 2721.95,-270.33 2711.97,-266.77 2711.93,-273.77\"/>\n</g>\n<!-- 136411130595904+&#45;&gt;136411130595904 -->\n<g id=\"edge25\" class=\"edge\">\n<title>136411130595904+&#45;&gt;136411130595904</title>\n<path fill=\"none\" stroke=\"black\" d=\"M2463.21,-269.5C2470.73,-269.5 2479.43,-269.5 2488.67,-269.5\"/>\n<polygon fill=\"black\" stroke=\"black\" points=\"2488.89,-273 2498.89,-269.5 2488.89,-266 2488.89,-273\"/>\n</g>\n<!-- 136411130546800 -->\n<g id=\"node60\" class=\"node\">\n<title>136411130546800</title>\n<polygon fill=\"none\" stroke=\"black\" points=\"623.5,-660.5 623.5,-696.5 805.5,-696.5 805.5,-660.5 623.5,-660.5\"/>\n<text text-anchor=\"middle\" x=\"633.5\" y=\"-674.8\" font-family=\"Times,serif\" font-size=\"14.00\"> </text>\n<polyline fill=\"none\" stroke=\"black\" points=\"643.5,-660.5 643.5,-696.5 \"/>\n<text text-anchor=\"middle\" x=\"683.5\" y=\"-674.8\" font-family=\"Times,serif\" font-size=\"14.00\">data 0.4085</text>\n<polyline fill=\"none\" stroke=\"black\" points=\"723.5,-660.5 723.5,-696.5 \"/>\n<text text-anchor=\"middle\" x=\"764.5\" y=\"-674.8\" font-family=\"Times,serif\" font-size=\"14.00\">grad 0.0000</text>\n</g>\n<!-- 136411130584176+ -->\n<g id=\"node185\" class=\"node\">\n<title>136411130584176+</title>\n<ellipse fill=\"none\" stroke=\"black\" cx=\"871\" cy=\"-623.5\" rx=\"27\" ry=\"18\"/>\n<text text-anchor=\"middle\" x=\"871\" y=\"-619.8\" font-family=\"Times,serif\" font-size=\"14.00\">+</text>\n</g>\n<!-- 136411130546800&#45;&gt;136411130584176+ -->\n<g id=\"edge108\" class=\"edge\">\n<title>136411130546800&#45;&gt;136411130584176+</title>\n<path fill=\"none\" stroke=\"black\" d=\"M779.02,-660.35C788.79,-657.24 798.71,-653.92 808,-650.5 818.25,-646.73 829.23,-642.14 839.07,-637.82\"/>\n<polygon fill=\"black\" stroke=\"black\" points=\"840.74,-640.9 848.45,-633.63 837.89,-634.51 840.74,-640.9\"/>\n</g>\n<!-- 136411130546848 -->\n<g id=\"node61\" class=\"node\">\n<title>136411130546848</title>\n<polygon fill=\"none\" stroke=\"black\" points=\"623.5,-550.5 623.5,-586.5 805.5,-586.5 805.5,-550.5 623.5,-550.5\"/>\n<text text-anchor=\"middle\" x=\"633.5\" y=\"-564.8\" font-family=\"Times,serif\" font-size=\"14.00\"> </text>\n<polyline fill=\"none\" stroke=\"black\" points=\"643.5,-550.5 643.5,-586.5 \"/>\n<text text-anchor=\"middle\" x=\"683.5\" y=\"-564.8\" font-family=\"Times,serif\" font-size=\"14.00\">data 0.9841</text>\n<polyline fill=\"none\" stroke=\"black\" points=\"723.5,-550.5 723.5,-586.5 \"/>\n<text text-anchor=\"middle\" x=\"764.5\" y=\"-564.8\" font-family=\"Times,serif\" font-size=\"14.00\">grad 0.0000</text>\n</g>\n<!-- 136411130584416* -->\n<g id=\"node188\" class=\"node\">\n<title>136411130584416*</title>\n<ellipse fill=\"none\" stroke=\"black\" cx=\"871\" cy=\"-568.5\" rx=\"27\" ry=\"18\"/>\n<text text-anchor=\"middle\" x=\"871\" y=\"-564.8\" font-family=\"Times,serif\" font-size=\"14.00\">*</text>\n</g>\n<!-- 136411130546848&#45;&gt;136411130584416* -->\n<g id=\"edge106\" class=\"edge\">\n<title>136411130546848&#45;&gt;136411130584416*</title>\n<path fill=\"none\" stroke=\"black\" d=\"M805.82,-568.5C815.57,-568.5 825.04,-568.5 833.57,-568.5\"/>\n<polygon fill=\"black\" stroke=\"black\" points=\"833.83,-572 843.83,-568.5 833.83,-565 833.83,-572\"/>\n</g>\n<!-- 136411130546896 -->\n<g id=\"node62\" class=\"node\">\n<title>136411130546896</title>\n<polygon fill=\"none\" stroke=\"black\" points=\"936.5,-715.5 936.5,-751.5 1118.5,-751.5 1118.5,-715.5 936.5,-715.5\"/>\n<text text-anchor=\"middle\" x=\"946.5\" y=\"-729.8\" font-family=\"Times,serif\" font-size=\"14.00\"> </text>\n<polyline fill=\"none\" stroke=\"black\" points=\"956.5,-715.5 956.5,-751.5 \"/>\n<text text-anchor=\"middle\" x=\"996.5\" y=\"-729.8\" font-family=\"Times,serif\" font-size=\"14.00\">data 0.5700</text>\n<polyline fill=\"none\" stroke=\"black\" points=\"1036.5,-715.5 1036.5,-751.5 \"/>\n<text text-anchor=\"middle\" x=\"1077.5\" y=\"-729.8\" font-family=\"Times,serif\" font-size=\"14.00\">grad 0.0000</text>\n</g>\n<!-- 136411130584848* -->\n<g id=\"node195\" class=\"node\">\n<title>136411130584848*</title>\n<ellipse fill=\"none\" stroke=\"black\" cx=\"1184\" cy=\"-678.5\" rx=\"27\" ry=\"18\"/>\n<text text-anchor=\"middle\" x=\"1184\" y=\"-674.8\" font-family=\"Times,serif\" font-size=\"14.00\">*</text>\n</g>\n<!-- 136411130546896&#45;&gt;136411130584848* -->\n<g id=\"edge207\" class=\"edge\">\n<title>136411130546896&#45;&gt;136411130584848*</title>\n<path fill=\"none\" stroke=\"black\" d=\"M1094.56,-715.45C1103.51,-712.64 1112.53,-709.63 1121,-706.5 1131.49,-702.62 1142.71,-697.78 1152.68,-693.22\"/>\n<polygon fill=\"black\" stroke=\"black\" points=\"1154.2,-696.37 1161.79,-688.97 1151.25,-690.02 1154.2,-696.37\"/>\n</g>\n<!-- 136411130587872 -->\n<g id=\"node63\" class=\"node\">\n<title>136411130587872</title>\n<polygon fill=\"none\" stroke=\"black\" points=\"1560,-220.5 1560,-256.5 1747,-256.5 1747,-220.5 1560,-220.5\"/>\n<text text-anchor=\"middle\" x=\"1570\" y=\"-234.8\" font-family=\"Times,serif\" font-size=\"14.00\"> </text>\n<polyline fill=\"none\" stroke=\"black\" points=\"1580,-220.5 1580,-256.5 \"/>\n<text text-anchor=\"middle\" x=\"1622.5\" y=\"-234.8\" font-family=\"Times,serif\" font-size=\"14.00\">data &#45;1.0000</text>\n<polyline fill=\"none\" stroke=\"black\" points=\"1665,-220.5 1665,-256.5 \"/>\n<text text-anchor=\"middle\" x=\"1706\" y=\"-234.8\" font-family=\"Times,serif\" font-size=\"14.00\">grad 0.0000</text>\n</g>\n<!-- 136411130587920* -->\n<g id=\"node67\" class=\"node\">\n<title>136411130587920*</title>\n<ellipse fill=\"none\" stroke=\"black\" cx=\"1810\" cy=\"-183.5\" rx=\"27\" ry=\"18\"/>\n<text text-anchor=\"middle\" x=\"1810\" y=\"-179.8\" font-family=\"Times,serif\" font-size=\"14.00\">*</text>\n</g>\n<!-- 136411130587872&#45;&gt;136411130587920* -->\n<g id=\"edge82\" class=\"edge\">\n<title>136411130587872&#45;&gt;136411130587920*</title>\n<path fill=\"none\" stroke=\"black\" d=\"M1718.02,-220.35C1727.79,-217.24 1737.71,-213.92 1747,-210.5 1757.25,-206.73 1768.23,-202.14 1778.07,-197.82\"/>\n<polygon fill=\"black\" stroke=\"black\" points=\"1779.74,-200.9 1787.45,-193.63 1776.89,-194.51 1779.74,-200.9\"/>\n</g>\n<!-- 136411130596096 -->\n<g id=\"node64\" class=\"node\">\n<title>136411130596096</title>\n<polygon fill=\"none\" stroke=\"black\" points=\"2499,-306.5 2499,-342.5 2686,-342.5 2686,-306.5 2499,-306.5\"/>\n<text text-anchor=\"middle\" x=\"2509\" y=\"-320.8\" font-family=\"Times,serif\" font-size=\"14.00\"> </text>\n<polyline fill=\"none\" stroke=\"black\" points=\"2519,-306.5 2519,-342.5 \"/>\n<text text-anchor=\"middle\" x=\"2561.5\" y=\"-320.8\" font-family=\"Times,serif\" font-size=\"14.00\">data &#45;0.0270</text>\n<polyline fill=\"none\" stroke=\"black\" points=\"2604,-306.5 2604,-342.5 \"/>\n<text text-anchor=\"middle\" x=\"2645\" y=\"-320.8\" font-family=\"Times,serif\" font-size=\"14.00\">grad 0.0000</text>\n</g>\n<!-- 136411130596096&#45;&gt;136411130596288+ -->\n<g id=\"edge181\" class=\"edge\">\n<title>136411130596096&#45;&gt;136411130596288+</title>\n<path fill=\"none\" stroke=\"black\" d=\"M2656.48,-306.39C2666.41,-303.26 2676.53,-299.91 2686,-296.5 2696.13,-292.85 2707.01,-288.46 2716.79,-284.33\"/>\n<polygon fill=\"black\" stroke=\"black\" points=\"2718.31,-287.48 2726.12,-280.32 2715.55,-281.05 2718.31,-287.48\"/>\n</g>\n<!-- 136411130596096*&#45;&gt;136411130596096 -->\n<g id=\"edge26\" class=\"edge\">\n<title>136411130596096*&#45;&gt;136411130596096</title>\n<path fill=\"none\" stroke=\"black\" d=\"M2462.51,-344.54C2470.21,-343.34 2479.17,-341.95 2488.73,-340.46\"/>\n<polygon fill=\"black\" stroke=\"black\" points=\"2489.52,-343.88 2498.86,-338.89 2488.45,-336.97 2489.52,-343.88\"/>\n</g>\n<!-- 136411130587920 -->\n<g id=\"node66\" class=\"node\">\n<title>136411130587920</title>\n<polygon fill=\"none\" stroke=\"black\" points=\"1875.5,-165.5 1875.5,-201.5 2057.5,-201.5 2057.5,-165.5 1875.5,-165.5\"/>\n<text text-anchor=\"middle\" x=\"1885.5\" y=\"-179.8\" font-family=\"Times,serif\" font-size=\"14.00\"> </text>\n<polyline fill=\"none\" stroke=\"black\" points=\"1895.5,-165.5 1895.5,-201.5 \"/>\n<text text-anchor=\"middle\" x=\"1935.5\" y=\"-179.8\" font-family=\"Times,serif\" font-size=\"14.00\">data 0.6649</text>\n<polyline fill=\"none\" stroke=\"black\" points=\"1975.5,-165.5 1975.5,-201.5 \"/>\n<text text-anchor=\"middle\" x=\"2016.5\" y=\"-179.8\" font-family=\"Times,serif\" font-size=\"14.00\">grad 0.0000</text>\n</g>\n<!-- 136411130587920&#45;&gt;136411130588112+ -->\n<g id=\"edge208\" class=\"edge\">\n<title>136411130587920&#45;&gt;136411130588112+</title>\n<path fill=\"none\" stroke=\"black\" d=\"M2057.82,-183.5C2067.57,-183.5 2077.04,-183.5 2085.57,-183.5\"/>\n<polygon fill=\"black\" stroke=\"black\" points=\"2085.83,-187 2095.83,-183.5 2085.83,-180 2085.83,-187\"/>\n</g>\n<!-- 136411130587920*&#45;&gt;136411130587920 -->\n<g id=\"edge27\" class=\"edge\">\n<title>136411130587920*&#45;&gt;136411130587920</title>\n<path fill=\"none\" stroke=\"black\" d=\"M1837.21,-183.5C1845.34,-183.5 1854.85,-183.5 1864.94,-183.5\"/>\n<polygon fill=\"black\" stroke=\"black\" points=\"1865.19,-187 1875.19,-183.5 1865.19,-180 1865.19,-187\"/>\n</g>\n<!-- 136411130546992 -->\n<g id=\"node68\" class=\"node\">\n<title>136411130546992</title>\n<polygon fill=\"none\" stroke=\"black\" points=\"623.5,-385.5 623.5,-421.5 805.5,-421.5 805.5,-385.5 623.5,-385.5\"/>\n<text text-anchor=\"middle\" x=\"633.5\" y=\"-399.8\" font-family=\"Times,serif\" font-size=\"14.00\"> </text>\n<polyline fill=\"none\" stroke=\"black\" points=\"643.5,-385.5 643.5,-421.5 \"/>\n<text text-anchor=\"middle\" x=\"683.5\" y=\"-399.8\" font-family=\"Times,serif\" font-size=\"14.00\">data 0.7523</text>\n<polyline fill=\"none\" stroke=\"black\" points=\"723.5,-385.5 723.5,-421.5 \"/>\n<text text-anchor=\"middle\" x=\"764.5\" y=\"-399.8\" font-family=\"Times,serif\" font-size=\"14.00\">grad 0.0000</text>\n</g>\n<!-- 136411130546992&#45;&gt;136411130585472* -->\n<g id=\"edge180\" class=\"edge\">\n<title>136411130546992&#45;&gt;136411130585472*</title>\n<path fill=\"none\" stroke=\"black\" d=\"M805.82,-403.5C815.57,-403.5 825.04,-403.5 833.57,-403.5\"/>\n<polygon fill=\"black\" stroke=\"black\" points=\"833.83,-407 843.83,-403.5 833.83,-400 833.83,-407\"/>\n</g>\n<!-- 136411130547040 -->\n<g id=\"node69\" class=\"node\">\n<title>136411130547040</title>\n<polygon fill=\"none\" stroke=\"black\" points=\"936.5,-330.5 936.5,-366.5 1118.5,-366.5 1118.5,-330.5 936.5,-330.5\"/>\n<text text-anchor=\"middle\" x=\"946.5\" y=\"-344.8\" font-family=\"Times,serif\" font-size=\"14.00\"> </text>\n<polyline fill=\"none\" stroke=\"black\" points=\"956.5,-330.5 956.5,-366.5 \"/>\n<text text-anchor=\"middle\" x=\"996.5\" y=\"-344.8\" font-family=\"Times,serif\" font-size=\"14.00\">data 0.0710</text>\n<polyline fill=\"none\" stroke=\"black\" points=\"1036.5,-330.5 1036.5,-366.5 \"/>\n<text text-anchor=\"middle\" x=\"1077.5\" y=\"-344.8\" font-family=\"Times,serif\" font-size=\"14.00\">grad 0.0000</text>\n</g>\n<!-- 136411130547040&#45;&gt;136411130585712+ -->\n<g id=\"edge139\" class=\"edge\">\n<title>136411130547040&#45;&gt;136411130585712+</title>\n<path fill=\"none\" stroke=\"black\" d=\"M1094.56,-366.55C1103.51,-369.36 1112.53,-372.37 1121,-375.5 1131.49,-379.38 1142.71,-384.22 1152.68,-388.78\"/>\n<polygon fill=\"black\" stroke=\"black\" points=\"1151.25,-391.98 1161.79,-393.03 1154.2,-385.63 1151.25,-391.98\"/>\n</g>\n<!-- 136411130547088 -->\n<g id=\"node70\" class=\"node\">\n<title>136411130547088</title>\n<polygon fill=\"none\" stroke=\"black\" points=\"934,-440.5 934,-476.5 1121,-476.5 1121,-440.5 934,-440.5\"/>\n<text text-anchor=\"middle\" x=\"944\" y=\"-454.8\" font-family=\"Times,serif\" font-size=\"14.00\"> </text>\n<polyline fill=\"none\" stroke=\"black\" points=\"954,-440.5 954,-476.5 \"/>\n<text text-anchor=\"middle\" x=\"996.5\" y=\"-454.8\" font-family=\"Times,serif\" font-size=\"14.00\">data &#45;0.5965</text>\n<polyline fill=\"none\" stroke=\"black\" points=\"1039,-440.5 1039,-476.5 \"/>\n<text text-anchor=\"middle\" x=\"1080\" y=\"-454.8\" font-family=\"Times,serif\" font-size=\"14.00\">grad 0.0000</text>\n</g>\n<!-- 136411130547088&#45;&gt;136411130586000* -->\n<g id=\"edge198\" class=\"edge\">\n<title>136411130547088&#45;&gt;136411130586000*</title>\n<path fill=\"none\" stroke=\"black\" d=\"M1121.05,-458.5C1130.06,-458.5 1138.79,-458.5 1146.7,-458.5\"/>\n<polygon fill=\"black\" stroke=\"black\" points=\"1146.95,-462 1156.95,-458.5 1146.95,-455 1146.95,-462\"/>\n</g>\n<!-- 136411130547136 -->\n<g id=\"node71\" class=\"node\">\n<title>136411130547136</title>\n<polygon fill=\"none\" stroke=\"black\" points=\"1247,-330.5 1247,-366.5 1434,-366.5 1434,-330.5 1247,-330.5\"/>\n<text text-anchor=\"middle\" x=\"1257\" y=\"-344.8\" font-family=\"Times,serif\" font-size=\"14.00\"> </text>\n<polyline fill=\"none\" stroke=\"black\" points=\"1267,-330.5 1267,-366.5 \"/>\n<text text-anchor=\"middle\" x=\"1309.5\" y=\"-344.8\" font-family=\"Times,serif\" font-size=\"14.00\">data &#45;0.3612</text>\n<polyline fill=\"none\" stroke=\"black\" points=\"1352,-330.5 1352,-366.5 \"/>\n<text text-anchor=\"middle\" x=\"1393\" y=\"-344.8\" font-family=\"Times,serif\" font-size=\"14.00\">grad 0.0000</text>\n</g>\n<!-- 136411130547136&#45;&gt;136411130586432* -->\n<g id=\"edge150\" class=\"edge\">\n<title>136411130547136&#45;&gt;136411130586432*</title>\n<path fill=\"none\" stroke=\"black\" d=\"M1434.05,-348.5C1443.06,-348.5 1451.79,-348.5 1459.7,-348.5\"/>\n<polygon fill=\"black\" stroke=\"black\" points=\"1459.95,-352 1469.95,-348.5 1459.95,-345 1459.95,-352\"/>\n</g>\n<!-- 136411130588112 -->\n<g id=\"node72\" class=\"node\">\n<title>136411130588112</title>\n<polygon fill=\"none\" stroke=\"black\" points=\"2188.5,-165.5 2188.5,-201.5 2370.5,-201.5 2370.5,-165.5 2188.5,-165.5\"/>\n<text text-anchor=\"middle\" x=\"2198.5\" y=\"-179.8\" font-family=\"Times,serif\" font-size=\"14.00\"> </text>\n<polyline fill=\"none\" stroke=\"black\" points=\"2208.5,-165.5 2208.5,-201.5 \"/>\n<text text-anchor=\"middle\" x=\"2248.5\" y=\"-179.8\" font-family=\"Times,serif\" font-size=\"14.00\">data 2.1756</text>\n<polyline fill=\"none\" stroke=\"black\" points=\"2288.5,-165.5 2288.5,-201.5 \"/>\n<text text-anchor=\"middle\" x=\"2329.5\" y=\"-179.8\" font-family=\"Times,serif\" font-size=\"14.00\">grad 0.0000</text>\n</g>\n<!-- 136411130588208tanh -->\n<g id=\"node78\" class=\"node\">\n<title>136411130588208tanh</title>\n<ellipse fill=\"none\" stroke=\"black\" cx=\"2436\" cy=\"-210.5\" rx=\"27\" ry=\"18\"/>\n<text text-anchor=\"middle\" x=\"2436\" y=\"-206.8\" font-family=\"Times,serif\" font-size=\"14.00\">tanh</text>\n</g>\n<!-- 136411130588112&#45;&gt;136411130588208tanh -->\n<g id=\"edge88\" class=\"edge\">\n<title>136411130588112&#45;&gt;136411130588208tanh</title>\n<path fill=\"none\" stroke=\"black\" d=\"M2370.82,-199.28C2381.07,-201.08 2391.01,-202.81 2399.88,-204.36\"/>\n<polygon fill=\"black\" stroke=\"black\" points=\"2399.3,-207.81 2409.75,-206.09 2400.5,-200.92 2399.3,-207.81\"/>\n</g>\n<!-- 136411130588112+&#45;&gt;136411130588112 -->\n<g id=\"edge28\" class=\"edge\">\n<title>136411130588112+&#45;&gt;136411130588112</title>\n<path fill=\"none\" stroke=\"black\" d=\"M2150.21,-183.5C2158.34,-183.5 2167.85,-183.5 2177.94,-183.5\"/>\n<polygon fill=\"black\" stroke=\"black\" points=\"2178.19,-187 2188.19,-183.5 2178.19,-180 2178.19,-187\"/>\n</g>\n<!-- 136411130596288 -->\n<g id=\"node74\" class=\"node\">\n<title>136411130596288</title>\n<polygon fill=\"none\" stroke=\"black\" points=\"2812,-252.5 2812,-288.5 2999,-288.5 2999,-252.5 2812,-252.5\"/>\n<text text-anchor=\"middle\" x=\"2822\" y=\"-266.8\" font-family=\"Times,serif\" font-size=\"14.00\"> </text>\n<polyline fill=\"none\" stroke=\"black\" points=\"2832,-252.5 2832,-288.5 \"/>\n<text text-anchor=\"middle\" x=\"2874.5\" y=\"-266.8\" font-family=\"Times,serif\" font-size=\"14.00\">data &#45;1.4440</text>\n<polyline fill=\"none\" stroke=\"black\" points=\"2917,-252.5 2917,-288.5 \"/>\n<text text-anchor=\"middle\" x=\"2958\" y=\"-266.8\" font-family=\"Times,serif\" font-size=\"14.00\">grad 0.0000</text>\n</g>\n<!-- 136411130596672+ -->\n<g id=\"node88\" class=\"node\">\n<title>136411130596672+</title>\n<ellipse fill=\"none\" stroke=\"black\" cx=\"3062\" cy=\"-242.5\" rx=\"27\" ry=\"18\"/>\n<text text-anchor=\"middle\" x=\"3062\" y=\"-238.8\" font-family=\"Times,serif\" font-size=\"14.00\">+</text>\n</g>\n<!-- 136411130596288&#45;&gt;136411130596672+ -->\n<g id=\"edge74\" class=\"edge\">\n<title>136411130596288&#45;&gt;136411130596672+</title>\n<path fill=\"none\" stroke=\"black\" d=\"M2999.05,-253.73C3008.54,-252.01 3017.71,-250.35 3025.95,-248.85\"/>\n<polygon fill=\"black\" stroke=\"black\" points=\"3026.64,-252.28 3035.85,-247.06 3025.39,-245.4 3026.64,-252.28\"/>\n</g>\n<!-- 136411130596288+&#45;&gt;136411130596288 -->\n<g id=\"edge29\" class=\"edge\">\n<title>136411130596288+&#45;&gt;136411130596288</title>\n<path fill=\"none\" stroke=\"black\" d=\"M2776.21,-270.5C2783.73,-270.5 2792.43,-270.5 2801.67,-270.5\"/>\n<polygon fill=\"black\" stroke=\"black\" points=\"2801.89,-274 2811.89,-270.5 2801.89,-267 2801.89,-274\"/>\n</g>\n<!-- 136411130547232 -->\n<g id=\"node76\" class=\"node\">\n<title>136411130547232</title>\n<polygon fill=\"none\" stroke=\"black\" points=\"934,-83.5 934,-119.5 1121,-119.5 1121,-83.5 934,-83.5\"/>\n<text text-anchor=\"middle\" x=\"944\" y=\"-97.8\" font-family=\"Times,serif\" font-size=\"14.00\"> </text>\n<polyline fill=\"none\" stroke=\"black\" points=\"954,-83.5 954,-119.5 \"/>\n<text text-anchor=\"middle\" x=\"996.5\" y=\"-97.8\" font-family=\"Times,serif\" font-size=\"14.00\">data &#45;0.1656</text>\n<polyline fill=\"none\" stroke=\"black\" points=\"1039,-83.5 1039,-119.5 \"/>\n<text text-anchor=\"middle\" x=\"1080\" y=\"-97.8\" font-family=\"Times,serif\" font-size=\"14.00\">grad 0.0000</text>\n</g>\n<!-- 136411130547232&#45;&gt;136411130587056* -->\n<g id=\"edge104\" class=\"edge\">\n<title>136411130547232&#45;&gt;136411130587056*</title>\n<path fill=\"none\" stroke=\"black\" d=\"M1121.05,-117.67C1130.34,-119.3 1139.33,-120.87 1147.44,-122.29\"/>\n<polygon fill=\"black\" stroke=\"black\" points=\"1147.1,-125.78 1157.55,-124.05 1148.3,-118.88 1147.1,-125.78\"/>\n</g>\n<!-- 136411130588208 -->\n<g id=\"node77\" class=\"node\">\n<title>136411130588208</title>\n<polygon fill=\"none\" stroke=\"black\" points=\"2501.5,-196.5 2501.5,-232.5 2683.5,-232.5 2683.5,-196.5 2501.5,-196.5\"/>\n<text text-anchor=\"middle\" x=\"2511.5\" y=\"-210.8\" font-family=\"Times,serif\" font-size=\"14.00\"> </text>\n<polyline fill=\"none\" stroke=\"black\" points=\"2521.5,-196.5 2521.5,-232.5 \"/>\n<text text-anchor=\"middle\" x=\"2561.5\" y=\"-210.8\" font-family=\"Times,serif\" font-size=\"14.00\">data 0.9745</text>\n<polyline fill=\"none\" stroke=\"black\" points=\"2601.5,-196.5 2601.5,-232.5 \"/>\n<text text-anchor=\"middle\" x=\"2642.5\" y=\"-210.8\" font-family=\"Times,serif\" font-size=\"14.00\">grad 0.0000</text>\n</g>\n<!-- 136411130588208&#45;&gt;136411130594752* -->\n<g id=\"edge202\" class=\"edge\">\n<title>136411130588208&#45;&gt;136411130594752*</title>\n<path fill=\"none\" stroke=\"black\" d=\"M2675.73,-232.73C2679.46,-235.29 2682.92,-238.2 2686,-241.5 2737.21,-296.38 2687.23,-339.98 2722,-406.5 2723.05,-408.51 2724.28,-410.48 2725.63,-412.38\"/>\n<polygon fill=\"black\" stroke=\"black\" points=\"2723.02,-414.72 2732.06,-420.25 2728.44,-410.29 2723.02,-414.72\"/>\n</g>\n<!-- 136411130596480* -->\n<g id=\"node82\" class=\"node\">\n<title>136411130596480*</title>\n<ellipse fill=\"none\" stroke=\"black\" cx=\"2749\" cy=\"-160.5\" rx=\"27\" ry=\"18\"/>\n<text text-anchor=\"middle\" x=\"2749\" y=\"-156.8\" font-family=\"Times,serif\" font-size=\"14.00\">*</text>\n</g>\n<!-- 136411130588208&#45;&gt;136411130596480* -->\n<g id=\"edge185\" class=\"edge\">\n<title>136411130588208&#45;&gt;136411130596480*</title>\n<path fill=\"none\" stroke=\"black\" d=\"M2656.48,-196.39C2666.41,-193.26 2676.53,-189.91 2686,-186.5 2696.13,-182.85 2707.01,-178.46 2716.79,-174.33\"/>\n<polygon fill=\"black\" stroke=\"black\" points=\"2718.31,-177.48 2726.12,-170.32 2715.55,-171.05 2718.31,-177.48\"/>\n</g>\n<!-- 136411130589696* -->\n<g id=\"node133\" class=\"node\">\n<title>136411130589696*</title>\n<ellipse fill=\"none\" stroke=\"black\" cx=\"2749\" cy=\"-214.5\" rx=\"27\" ry=\"18\"/>\n<text text-anchor=\"middle\" x=\"2749\" y=\"-210.8\" font-family=\"Times,serif\" font-size=\"14.00\">*</text>\n</g>\n<!-- 136411130588208&#45;&gt;136411130589696* -->\n<g id=\"edge120\" class=\"edge\">\n<title>136411130588208&#45;&gt;136411130589696*</title>\n<path fill=\"none\" stroke=\"black\" d=\"M2683.82,-214.5C2693.57,-214.5 2703.04,-214.5 2711.57,-214.5\"/>\n<polygon fill=\"black\" stroke=\"black\" points=\"2711.83,-218 2721.83,-214.5 2711.83,-211 2711.83,-218\"/>\n</g>\n<!-- 136411130593008* -->\n<g id=\"node193\" class=\"node\">\n<title>136411130593008*</title>\n<ellipse fill=\"none\" stroke=\"black\" cx=\"2749\" cy=\"-379.5\" rx=\"27\" ry=\"18\"/>\n<text text-anchor=\"middle\" x=\"2749\" y=\"-375.8\" font-family=\"Times,serif\" font-size=\"14.00\">*</text>\n</g>\n<!-- 136411130588208&#45;&gt;136411130593008* -->\n<g id=\"edge153\" class=\"edge\">\n<title>136411130588208&#45;&gt;136411130593008*</title>\n<path fill=\"none\" stroke=\"black\" d=\"M2673.19,-232.52C2677.77,-235.12 2682.09,-238.09 2686,-241.5 2703.44,-256.69 2726.23,-316.29 2738.75,-352.01\"/>\n<polygon fill=\"black\" stroke=\"black\" points=\"2735.57,-353.52 2742.15,-361.82 2742.19,-351.23 2735.57,-353.52\"/>\n</g>\n<!-- 136411130588208tanh&#45;&gt;136411130588208 -->\n<g id=\"edge30\" class=\"edge\">\n<title>136411130588208tanh&#45;&gt;136411130588208</title>\n<path fill=\"none\" stroke=\"black\" d=\"M2463.21,-211.18C2471.34,-211.39 2480.85,-211.64 2490.94,-211.9\"/>\n<polygon fill=\"black\" stroke=\"black\" points=\"2491.1,-215.4 2501.19,-212.16 2491.28,-208.4 2491.1,-215.4\"/>\n</g>\n<!-- 136411130547280 -->\n<g id=\"node79\" class=\"node\">\n<title>136411130547280</title>\n<polygon fill=\"none\" stroke=\"black\" points=\"1249.5,-165.5 1249.5,-201.5 1431.5,-201.5 1431.5,-165.5 1249.5,-165.5\"/>\n<text text-anchor=\"middle\" x=\"1259.5\" y=\"-179.8\" font-family=\"Times,serif\" font-size=\"14.00\"> </text>\n<polyline fill=\"none\" stroke=\"black\" points=\"1269.5,-165.5 1269.5,-201.5 \"/>\n<text text-anchor=\"middle\" x=\"1309.5\" y=\"-179.8\" font-family=\"Times,serif\" font-size=\"14.00\">data 0.9876</text>\n<polyline fill=\"none\" stroke=\"black\" points=\"1349.5,-165.5 1349.5,-201.5 \"/>\n<text text-anchor=\"middle\" x=\"1390.5\" y=\"-179.8\" font-family=\"Times,serif\" font-size=\"14.00\">grad 0.0000</text>\n</g>\n<!-- 136411130547280&#45;&gt;136411130587248+ -->\n<g id=\"edge129\" class=\"edge\">\n<title>136411130547280&#45;&gt;136411130587248+</title>\n<path fill=\"none\" stroke=\"black\" d=\"M1405.02,-165.35C1414.79,-162.24 1424.71,-158.92 1434,-155.5 1444.25,-151.73 1455.23,-147.14 1465.07,-142.82\"/>\n<polygon fill=\"black\" stroke=\"black\" points=\"1466.74,-145.9 1474.45,-138.63 1463.89,-139.51 1466.74,-145.9\"/>\n</g>\n<!-- 136411130547328 -->\n<g id=\"node80\" class=\"node\">\n<title>136411130547328</title>\n<polygon fill=\"none\" stroke=\"black\" points=\"1249.5,-55.5 1249.5,-91.5 1431.5,-91.5 1431.5,-55.5 1249.5,-55.5\"/>\n<text text-anchor=\"middle\" x=\"1259.5\" y=\"-69.8\" font-family=\"Times,serif\" font-size=\"14.00\"> </text>\n<polyline fill=\"none\" stroke=\"black\" points=\"1269.5,-55.5 1269.5,-91.5 \"/>\n<text text-anchor=\"middle\" x=\"1309.5\" y=\"-69.8\" font-family=\"Times,serif\" font-size=\"14.00\">data 0.2848</text>\n<polyline fill=\"none\" stroke=\"black\" points=\"1349.5,-55.5 1349.5,-91.5 \"/>\n<text text-anchor=\"middle\" x=\"1390.5\" y=\"-69.8\" font-family=\"Times,serif\" font-size=\"14.00\">grad 0.0000</text>\n</g>\n<!-- 136411130547328&#45;&gt;136411130587488* -->\n<g id=\"edge151\" class=\"edge\">\n<title>136411130547328&#45;&gt;136411130587488*</title>\n<path fill=\"none\" stroke=\"black\" d=\"M1431.82,-73.5C1441.57,-73.5 1451.04,-73.5 1459.57,-73.5\"/>\n<polygon fill=\"black\" stroke=\"black\" points=\"1459.83,-77 1469.83,-73.5 1459.83,-70 1459.83,-77\"/>\n</g>\n<!-- 136411130596480 -->\n<g id=\"node81\" class=\"node\">\n<title>136411130596480</title>\n<polygon fill=\"none\" stroke=\"black\" points=\"2814.5,-142.5 2814.5,-178.5 2996.5,-178.5 2996.5,-142.5 2814.5,-142.5\"/>\n<text text-anchor=\"middle\" x=\"2824.5\" y=\"-156.8\" font-family=\"Times,serif\" font-size=\"14.00\"> </text>\n<polyline fill=\"none\" stroke=\"black\" points=\"2834.5,-142.5 2834.5,-178.5 \"/>\n<text text-anchor=\"middle\" x=\"2874.5\" y=\"-156.8\" font-family=\"Times,serif\" font-size=\"14.00\">data 0.5060</text>\n<polyline fill=\"none\" stroke=\"black\" points=\"2914.5,-142.5 2914.5,-178.5 \"/>\n<text text-anchor=\"middle\" x=\"2955.5\" y=\"-156.8\" font-family=\"Times,serif\" font-size=\"14.00\">grad 0.0000</text>\n</g>\n<!-- 136411130596480&#45;&gt;136411130596672+ -->\n<g id=\"edge154\" class=\"edge\">\n<title>136411130596480&#45;&gt;136411130596672+</title>\n<path fill=\"none\" stroke=\"black\" d=\"M2979.94,-178.62C2986.54,-181.24 2993,-184.18 2999,-187.5 3014.14,-195.87 3028.74,-208.51 3039.96,-219.56\"/>\n<polygon fill=\"black\" stroke=\"black\" points=\"3037.65,-222.21 3047.16,-226.89 3042.65,-217.3 3037.65,-222.21\"/>\n</g>\n<!-- 136411130596480*&#45;&gt;136411130596480 -->\n<g id=\"edge31\" class=\"edge\">\n<title>136411130596480*&#45;&gt;136411130596480</title>\n<path fill=\"none\" stroke=\"black\" d=\"M2776.21,-160.5C2784.34,-160.5 2793.85,-160.5 2803.94,-160.5\"/>\n<polygon fill=\"black\" stroke=\"black\" points=\"2804.19,-164 2814.19,-160.5 2804.19,-157 2804.19,-164\"/>\n</g>\n<!-- 136411130547376 -->\n<g id=\"node83\" class=\"node\">\n<title>136411130547376</title>\n<polygon fill=\"none\" stroke=\"black\" points=\"1560,-165.5 1560,-201.5 1747,-201.5 1747,-165.5 1560,-165.5\"/>\n<text text-anchor=\"middle\" x=\"1570\" y=\"-179.8\" font-family=\"Times,serif\" font-size=\"14.00\"> </text>\n<polyline fill=\"none\" stroke=\"black\" points=\"1580,-165.5 1580,-201.5 \"/>\n<text text-anchor=\"middle\" x=\"1622.5\" y=\"-179.8\" font-family=\"Times,serif\" font-size=\"14.00\">data &#45;0.6649</text>\n<polyline fill=\"none\" stroke=\"black\" points=\"1665,-165.5 1665,-201.5 \"/>\n<text text-anchor=\"middle\" x=\"1706\" y=\"-179.8\" font-family=\"Times,serif\" font-size=\"14.00\">grad 0.0000</text>\n</g>\n<!-- 136411130547376&#45;&gt;136411130587920* -->\n<g id=\"edge85\" class=\"edge\">\n<title>136411130547376&#45;&gt;136411130587920*</title>\n<path fill=\"none\" stroke=\"black\" d=\"M1747.05,-183.5C1756.06,-183.5 1764.79,-183.5 1772.7,-183.5\"/>\n<polygon fill=\"black\" stroke=\"black\" points=\"1772.95,-187 1782.95,-183.5 1772.95,-180 1772.95,-187\"/>\n</g>\n<!-- 136411130547520 -->\n<g id=\"node84\" class=\"node\">\n<title>136411130547520</title>\n<polygon fill=\"none\" stroke=\"black\" points=\"1562.5,-550.5 1562.5,-586.5 1744.5,-586.5 1744.5,-550.5 1562.5,-550.5\"/>\n<text text-anchor=\"middle\" x=\"1572.5\" y=\"-564.8\" font-family=\"Times,serif\" font-size=\"14.00\"> </text>\n<polyline fill=\"none\" stroke=\"black\" points=\"1582.5,-550.5 1582.5,-586.5 \"/>\n<text text-anchor=\"middle\" x=\"1622.5\" y=\"-564.8\" font-family=\"Times,serif\" font-size=\"14.00\">data 0.4474</text>\n<polyline fill=\"none\" stroke=\"black\" points=\"1662.5,-550.5 1662.5,-586.5 \"/>\n<text text-anchor=\"middle\" x=\"1703.5\" y=\"-564.8\" font-family=\"Times,serif\" font-size=\"14.00\">grad 0.0000</text>\n</g>\n<!-- 136411130588496* -->\n<g id=\"node86\" class=\"node\">\n<title>136411130588496*</title>\n<ellipse fill=\"none\" stroke=\"black\" cx=\"1810\" cy=\"-568.5\" rx=\"27\" ry=\"18\"/>\n<text text-anchor=\"middle\" x=\"1810\" y=\"-564.8\" font-family=\"Times,serif\" font-size=\"14.00\">*</text>\n</g>\n<!-- 136411130547520&#45;&gt;136411130588496* -->\n<g id=\"edge146\" class=\"edge\">\n<title>136411130547520&#45;&gt;136411130588496*</title>\n<path fill=\"none\" stroke=\"black\" d=\"M1744.82,-568.5C1754.57,-568.5 1764.04,-568.5 1772.57,-568.5\"/>\n<polygon fill=\"black\" stroke=\"black\" points=\"1772.83,-572 1782.83,-568.5 1772.83,-565 1772.83,-572\"/>\n</g>\n<!-- 136411130588496 -->\n<g id=\"node85\" class=\"node\">\n<title>136411130588496</title>\n<polygon fill=\"none\" stroke=\"black\" points=\"1875.5,-495.5 1875.5,-531.5 2057.5,-531.5 2057.5,-495.5 1875.5,-495.5\"/>\n<text text-anchor=\"middle\" x=\"1885.5\" y=\"-509.8\" font-family=\"Times,serif\" font-size=\"14.00\"> </text>\n<polyline fill=\"none\" stroke=\"black\" points=\"1895.5,-495.5 1895.5,-531.5 \"/>\n<text text-anchor=\"middle\" x=\"1935.5\" y=\"-509.8\" font-family=\"Times,serif\" font-size=\"14.00\">data 0.4464</text>\n<polyline fill=\"none\" stroke=\"black\" points=\"1975.5,-495.5 1975.5,-531.5 \"/>\n<text text-anchor=\"middle\" x=\"2016.5\" y=\"-509.8\" font-family=\"Times,serif\" font-size=\"14.00\">grad 0.0000</text>\n</g>\n<!-- 136411130588688+ -->\n<g id=\"node96\" class=\"node\">\n<title>136411130588688+</title>\n<ellipse fill=\"none\" stroke=\"black\" cx=\"2123\" cy=\"-513.5\" rx=\"27\" ry=\"18\"/>\n<text text-anchor=\"middle\" x=\"2123\" y=\"-509.8\" font-family=\"Times,serif\" font-size=\"14.00\">+</text>\n</g>\n<!-- 136411130588496&#45;&gt;136411130588688+ -->\n<g id=\"edge203\" class=\"edge\">\n<title>136411130588496&#45;&gt;136411130588688+</title>\n<path fill=\"none\" stroke=\"black\" d=\"M2057.82,-513.5C2067.57,-513.5 2077.04,-513.5 2085.57,-513.5\"/>\n<polygon fill=\"black\" stroke=\"black\" points=\"2085.83,-517 2095.83,-513.5 2085.83,-510 2085.83,-517\"/>\n</g>\n<!-- 136411130588496*&#45;&gt;136411130588496 -->\n<g id=\"edge32\" class=\"edge\">\n<title>136411130588496*&#45;&gt;136411130588496</title>\n<path fill=\"none\" stroke=\"black\" d=\"M1832.21,-558.03C1844.05,-552.41 1859.15,-545.62 1873,-540.5 1878.43,-538.49 1884.08,-536.54 1889.79,-534.65\"/>\n<polygon fill=\"black\" stroke=\"black\" points=\"1890.99,-537.94 1899.44,-531.55 1888.85,-531.28 1890.99,-537.94\"/>\n</g>\n<!-- 136411130596672 -->\n<g id=\"node87\" class=\"node\">\n<title>136411130596672</title>\n<polygon fill=\"none\" stroke=\"black\" points=\"3125,-224.5 3125,-260.5 3312,-260.5 3312,-224.5 3125,-224.5\"/>\n<text text-anchor=\"middle\" x=\"3135\" y=\"-238.8\" font-family=\"Times,serif\" font-size=\"14.00\"> </text>\n<polyline fill=\"none\" stroke=\"black\" points=\"3145,-224.5 3145,-260.5 \"/>\n<text text-anchor=\"middle\" x=\"3187.5\" y=\"-238.8\" font-family=\"Times,serif\" font-size=\"14.00\">data &#45;0.9380</text>\n<polyline fill=\"none\" stroke=\"black\" points=\"3230,-224.5 3230,-260.5 \"/>\n<text text-anchor=\"middle\" x=\"3271\" y=\"-238.8\" font-family=\"Times,serif\" font-size=\"14.00\">grad 0.0000</text>\n</g>\n<!-- 136411130596768tanh -->\n<g id=\"node92\" class=\"node\">\n<title>136411130596768tanh</title>\n<ellipse fill=\"none\" stroke=\"black\" cx=\"3375\" cy=\"-242.5\" rx=\"27\" ry=\"18\"/>\n<text text-anchor=\"middle\" x=\"3375\" y=\"-238.8\" font-family=\"Times,serif\" font-size=\"14.00\">tanh</text>\n</g>\n<!-- 136411130596672&#45;&gt;136411130596768tanh -->\n<g id=\"edge137\" class=\"edge\">\n<title>136411130596672&#45;&gt;136411130596768tanh</title>\n<path fill=\"none\" stroke=\"black\" d=\"M3312.05,-242.5C3321.06,-242.5 3329.79,-242.5 3337.7,-242.5\"/>\n<polygon fill=\"black\" stroke=\"black\" points=\"3337.95,-246 3347.95,-242.5 3337.95,-239 3337.95,-246\"/>\n</g>\n<!-- 136411130596672+&#45;&gt;136411130596672 -->\n<g id=\"edge33\" class=\"edge\">\n<title>136411130596672+&#45;&gt;136411130596672</title>\n<path fill=\"none\" stroke=\"black\" d=\"M3089.21,-242.5C3096.73,-242.5 3105.43,-242.5 3114.67,-242.5\"/>\n<polygon fill=\"black\" stroke=\"black\" points=\"3114.89,-246 3124.89,-242.5 3114.89,-239 3114.89,-246\"/>\n</g>\n<!-- 136411130547568 -->\n<g id=\"node89\" class=\"node\">\n<title>136411130547568</title>\n<polygon fill=\"none\" stroke=\"black\" points=\"1873,-440.5 1873,-476.5 2060,-476.5 2060,-440.5 1873,-440.5\"/>\n<text text-anchor=\"middle\" x=\"1883\" y=\"-454.8\" font-family=\"Times,serif\" font-size=\"14.00\"> </text>\n<polyline fill=\"none\" stroke=\"black\" points=\"1893,-440.5 1893,-476.5 \"/>\n<text text-anchor=\"middle\" x=\"1935.5\" y=\"-454.8\" font-family=\"Times,serif\" font-size=\"14.00\">data &#45;0.9309</text>\n<polyline fill=\"none\" stroke=\"black\" points=\"1978,-440.5 1978,-476.5 \"/>\n<text text-anchor=\"middle\" x=\"2019\" y=\"-454.8\" font-family=\"Times,serif\" font-size=\"14.00\">grad 0.0000</text>\n</g>\n<!-- 136411130547568&#45;&gt;136411130588688+ -->\n<g id=\"edge140\" class=\"edge\">\n<title>136411130547568&#45;&gt;136411130588688+</title>\n<path fill=\"none\" stroke=\"black\" d=\"M2033.56,-476.55C2042.51,-479.36 2051.53,-482.37 2060,-485.5 2070.49,-489.38 2081.71,-494.22 2091.68,-498.78\"/>\n<polygon fill=\"black\" stroke=\"black\" points=\"2090.25,-501.98 2100.79,-503.03 2093.2,-495.63 2090.25,-501.98\"/>\n</g>\n<!-- 136411130547616 -->\n<g id=\"node90\" class=\"node\">\n<title>136411130547616</title>\n<polygon fill=\"none\" stroke=\"black\" points=\"1875.5,-550.5 1875.5,-586.5 2057.5,-586.5 2057.5,-550.5 1875.5,-550.5\"/>\n<text text-anchor=\"middle\" x=\"1885.5\" y=\"-564.8\" font-family=\"Times,serif\" font-size=\"14.00\"> </text>\n<polyline fill=\"none\" stroke=\"black\" points=\"1895.5,-550.5 1895.5,-586.5 \"/>\n<text text-anchor=\"middle\" x=\"1935.5\" y=\"-564.8\" font-family=\"Times,serif\" font-size=\"14.00\">data 0.9671</text>\n<polyline fill=\"none\" stroke=\"black\" points=\"1975.5,-550.5 1975.5,-586.5 \"/>\n<text text-anchor=\"middle\" x=\"2016.5\" y=\"-564.8\" font-family=\"Times,serif\" font-size=\"14.00\">grad 0.0000</text>\n</g>\n<!-- 136411130547616&#45;&gt;136411130588880* -->\n<g id=\"edge160\" class=\"edge\">\n<title>136411130547616&#45;&gt;136411130588880*</title>\n<path fill=\"none\" stroke=\"black\" d=\"M2033.56,-586.55C2042.51,-589.36 2051.53,-592.37 2060,-595.5 2070.49,-599.38 2081.71,-604.22 2091.68,-608.78\"/>\n<polygon fill=\"black\" stroke=\"black\" points=\"2090.25,-611.98 2100.79,-613.03 2093.2,-605.63 2090.25,-611.98\"/>\n</g>\n<!-- 136411130596768 -->\n<g id=\"node91\" class=\"node\">\n<title>136411130596768</title>\n<polygon fill=\"none\" stroke=\"black\" points=\"3438,-224.5 3438,-260.5 3625,-260.5 3625,-224.5 3438,-224.5\"/>\n<text text-anchor=\"middle\" x=\"3448\" y=\"-238.8\" font-family=\"Times,serif\" font-size=\"14.00\"> </text>\n<polyline fill=\"none\" stroke=\"black\" points=\"3458,-224.5 3458,-260.5 \"/>\n<text text-anchor=\"middle\" x=\"3500.5\" y=\"-238.8\" font-family=\"Times,serif\" font-size=\"14.00\">data &#45;0.7343</text>\n<polyline fill=\"none\" stroke=\"black\" points=\"3543,-224.5 3543,-260.5 \"/>\n<text text-anchor=\"middle\" x=\"3584\" y=\"-238.8\" font-family=\"Times,serif\" font-size=\"14.00\">grad 0.0000</text>\n</g>\n<!-- 136411130598496* -->\n<g id=\"node154\" class=\"node\">\n<title>136411130598496*</title>\n<ellipse fill=\"none\" stroke=\"black\" cx=\"3688\" cy=\"-242.5\" rx=\"27\" ry=\"18\"/>\n<text text-anchor=\"middle\" x=\"3688\" y=\"-238.8\" font-family=\"Times,serif\" font-size=\"14.00\">*</text>\n</g>\n<!-- 136411130596768&#45;&gt;136411130598496* -->\n<g id=\"edge105\" class=\"edge\">\n<title>136411130596768&#45;&gt;136411130598496*</title>\n<path fill=\"none\" stroke=\"black\" d=\"M3625.05,-242.5C3634.06,-242.5 3642.79,-242.5 3650.7,-242.5\"/>\n<polygon fill=\"black\" stroke=\"black\" points=\"3650.95,-246 3660.95,-242.5 3650.95,-239 3650.95,-246\"/>\n</g>\n<!-- 136411130596768tanh&#45;&gt;136411130596768 -->\n<g id=\"edge34\" class=\"edge\">\n<title>136411130596768tanh&#45;&gt;136411130596768</title>\n<path fill=\"none\" stroke=\"black\" d=\"M3402.21,-242.5C3409.73,-242.5 3418.43,-242.5 3427.67,-242.5\"/>\n<polygon fill=\"black\" stroke=\"black\" points=\"3427.89,-246 3437.89,-242.5 3427.89,-239 3427.89,-246\"/>\n</g>\n<!-- 136411130547664 -->\n<g id=\"node93\" class=\"node\">\n<title>136411130547664</title>\n<polygon fill=\"none\" stroke=\"black\" points=\"2186,-385.5 2186,-421.5 2373,-421.5 2373,-385.5 2186,-385.5\"/>\n<text text-anchor=\"middle\" x=\"2196\" y=\"-399.8\" font-family=\"Times,serif\" font-size=\"14.00\"> </text>\n<polyline fill=\"none\" stroke=\"black\" points=\"2206,-385.5 2206,-421.5 \"/>\n<text text-anchor=\"middle\" x=\"2248.5\" y=\"-399.8\" font-family=\"Times,serif\" font-size=\"14.00\">data &#45;0.0732</text>\n<polyline fill=\"none\" stroke=\"black\" points=\"2291,-385.5 2291,-421.5 \"/>\n<text text-anchor=\"middle\" x=\"2332\" y=\"-399.8\" font-family=\"Times,serif\" font-size=\"14.00\">grad 0.0000</text>\n</g>\n<!-- 136411130547664&#45;&gt;136411130589312* -->\n<g id=\"edge122\" class=\"edge\">\n<title>136411130547664&#45;&gt;136411130589312*</title>\n<path fill=\"none\" stroke=\"black\" d=\"M2346.56,-421.55C2355.51,-424.36 2364.53,-427.37 2373,-430.5 2383.49,-434.38 2394.71,-439.22 2404.68,-443.78\"/>\n<polygon fill=\"black\" stroke=\"black\" points=\"2403.25,-446.98 2413.79,-448.03 2406.2,-440.63 2403.25,-446.98\"/>\n</g>\n<!-- 136411130547712 -->\n<g id=\"node94\" class=\"node\">\n<title>136411130547712</title>\n<polygon fill=\"none\" stroke=\"black\" points=\"2501.5,-141.5 2501.5,-177.5 2683.5,-177.5 2683.5,-141.5 2501.5,-141.5\"/>\n<text text-anchor=\"middle\" x=\"2511.5\" y=\"-155.8\" font-family=\"Times,serif\" font-size=\"14.00\"> </text>\n<polyline fill=\"none\" stroke=\"black\" points=\"2521.5,-141.5 2521.5,-177.5 \"/>\n<text text-anchor=\"middle\" x=\"2561.5\" y=\"-155.8\" font-family=\"Times,serif\" font-size=\"14.00\">data 0.6956</text>\n<polyline fill=\"none\" stroke=\"black\" points=\"2601.5,-141.5 2601.5,-177.5 \"/>\n<text text-anchor=\"middle\" x=\"2642.5\" y=\"-155.8\" font-family=\"Times,serif\" font-size=\"14.00\">grad 0.0000</text>\n</g>\n<!-- 136411130547712&#45;&gt;136411130589696* -->\n<g id=\"edge112\" class=\"edge\">\n<title>136411130547712&#45;&gt;136411130589696*</title>\n<path fill=\"none\" stroke=\"black\" d=\"M2659.56,-177.55C2668.51,-180.36 2677.53,-183.37 2686,-186.5 2696.49,-190.38 2707.71,-195.22 2717.68,-199.78\"/>\n<polygon fill=\"black\" stroke=\"black\" points=\"2716.25,-202.98 2726.79,-204.03 2719.2,-196.63 2716.25,-202.98\"/>\n</g>\n<!-- 136411130588688 -->\n<g id=\"node95\" class=\"node\">\n<title>136411130588688</title>\n<polygon fill=\"none\" stroke=\"black\" points=\"2186,-550.5 2186,-586.5 2373,-586.5 2373,-550.5 2186,-550.5\"/>\n<text text-anchor=\"middle\" x=\"2196\" y=\"-564.8\" font-family=\"Times,serif\" font-size=\"14.00\"> </text>\n<polyline fill=\"none\" stroke=\"black\" points=\"2206,-550.5 2206,-586.5 \"/>\n<text text-anchor=\"middle\" x=\"2248.5\" y=\"-564.8\" font-family=\"Times,serif\" font-size=\"14.00\">data &#45;0.4845</text>\n<polyline fill=\"none\" stroke=\"black\" points=\"2291,-550.5 2291,-586.5 \"/>\n<text text-anchor=\"middle\" x=\"2332\" y=\"-564.8\" font-family=\"Times,serif\" font-size=\"14.00\">grad 0.0000</text>\n</g>\n<!-- 136411130589120+ -->\n<g id=\"node111\" class=\"node\">\n<title>136411130589120+</title>\n<ellipse fill=\"none\" stroke=\"black\" cx=\"2436\" cy=\"-599.5\" rx=\"27\" ry=\"18\"/>\n<text text-anchor=\"middle\" x=\"2436\" y=\"-595.8\" font-family=\"Times,serif\" font-size=\"14.00\">+</text>\n</g>\n<!-- 136411130588688&#45;&gt;136411130589120+ -->\n<g id=\"edge188\" class=\"edge\">\n<title>136411130588688&#45;&gt;136411130589120+</title>\n<path fill=\"none\" stroke=\"black\" d=\"M2370.37,-586.53C2380.77,-588.62 2390.86,-590.64 2399.85,-592.45\"/>\n<polygon fill=\"black\" stroke=\"black\" points=\"2399.37,-595.92 2409.86,-594.46 2400.74,-589.06 2399.37,-595.92\"/>\n</g>\n<!-- 136411130588688+&#45;&gt;136411130588688 -->\n<g id=\"edge35\" class=\"edge\">\n<title>136411130588688+&#45;&gt;136411130588688</title>\n<path fill=\"none\" stroke=\"black\" d=\"M2145.55,-523.63C2157.36,-528.98 2172.34,-535.48 2186,-540.5 2192.24,-542.8 2198.77,-545.05 2205.34,-547.22\"/>\n<polygon fill=\"black\" stroke=\"black\" points=\"2204.39,-550.59 2214.98,-550.35 2206.55,-543.93 2204.39,-550.59\"/>\n</g>\n<!-- 136411130547808 -->\n<g id=\"node97\" class=\"node\">\n<title>136411130547808</title>\n<polygon fill=\"none\" stroke=\"black\" points=\"1562.5,-770.5 1562.5,-806.5 1744.5,-806.5 1744.5,-770.5 1562.5,-770.5\"/>\n<text text-anchor=\"middle\" x=\"1572.5\" y=\"-784.8\" font-family=\"Times,serif\" font-size=\"14.00\"> </text>\n<polyline fill=\"none\" stroke=\"black\" points=\"1582.5,-770.5 1582.5,-806.5 \"/>\n<text text-anchor=\"middle\" x=\"1622.5\" y=\"-784.8\" font-family=\"Times,serif\" font-size=\"14.00\">data 0.4181</text>\n<polyline fill=\"none\" stroke=\"black\" points=\"1662.5,-770.5 1662.5,-806.5 \"/>\n<text text-anchor=\"middle\" x=\"1703.5\" y=\"-784.8\" font-family=\"Times,serif\" font-size=\"14.00\">grad 0.0000</text>\n</g>\n<!-- 136411130590272* -->\n<g id=\"node152\" class=\"node\">\n<title>136411130590272*</title>\n<ellipse fill=\"none\" stroke=\"black\" cx=\"1810\" cy=\"-733.5\" rx=\"27\" ry=\"18\"/>\n<text text-anchor=\"middle\" x=\"1810\" y=\"-729.8\" font-family=\"Times,serif\" font-size=\"14.00\">*</text>\n</g>\n<!-- 136411130547808&#45;&gt;136411130590272* -->\n<g id=\"edge94\" class=\"edge\">\n<title>136411130547808&#45;&gt;136411130590272*</title>\n<path fill=\"none\" stroke=\"black\" d=\"M1720.56,-770.45C1729.51,-767.64 1738.53,-764.63 1747,-761.5 1757.49,-757.62 1768.71,-752.78 1778.68,-748.22\"/>\n<polygon fill=\"black\" stroke=\"black\" points=\"1780.2,-751.37 1787.79,-743.97 1777.25,-745.02 1780.2,-751.37\"/>\n</g>\n<!-- 136411130547856 -->\n<g id=\"node98\" class=\"node\">\n<title>136411130547856</title>\n<polygon fill=\"none\" stroke=\"black\" points=\"1875.5,-605.5 1875.5,-641.5 2057.5,-641.5 2057.5,-605.5 1875.5,-605.5\"/>\n<text text-anchor=\"middle\" x=\"1885.5\" y=\"-619.8\" font-family=\"Times,serif\" font-size=\"14.00\"> </text>\n<polyline fill=\"none\" stroke=\"black\" points=\"1895.5,-605.5 1895.5,-641.5 \"/>\n<text text-anchor=\"middle\" x=\"1935.5\" y=\"-619.8\" font-family=\"Times,serif\" font-size=\"14.00\">data 0.4650</text>\n<polyline fill=\"none\" stroke=\"black\" points=\"1975.5,-605.5 1975.5,-641.5 \"/>\n<text text-anchor=\"middle\" x=\"2016.5\" y=\"-619.8\" font-family=\"Times,serif\" font-size=\"14.00\">grad 0.0000</text>\n</g>\n<!-- 136411130590656+ -->\n<g id=\"node156\" class=\"node\">\n<title>136411130590656+</title>\n<ellipse fill=\"none\" stroke=\"black\" cx=\"2123\" cy=\"-733.5\" rx=\"27\" ry=\"18\"/>\n<text text-anchor=\"middle\" x=\"2123\" y=\"-729.8\" font-family=\"Times,serif\" font-size=\"14.00\">+</text>\n</g>\n<!-- 136411130547856&#45;&gt;136411130590656+ -->\n<g id=\"edge128\" class=\"edge\">\n<title>136411130547856&#45;&gt;136411130590656+</title>\n<path fill=\"none\" stroke=\"black\" d=\"M2044.53,-641.66C2049.97,-644.23 2055.19,-647.16 2060,-650.5 2081.11,-665.15 2097.97,-689.3 2108.74,-707.78\"/>\n<polygon fill=\"black\" stroke=\"black\" points=\"2105.74,-709.57 2113.68,-716.59 2111.85,-706.15 2105.74,-709.57\"/>\n</g>\n<!-- 136411130597056 -->\n<g id=\"node99\" class=\"node\">\n<title>136411130597056</title>\n<polygon fill=\"none\" stroke=\"black\" points=\"3751,-290.5 3751,-326.5 3938,-326.5 3938,-290.5 3751,-290.5\"/>\n<text text-anchor=\"middle\" x=\"3761\" y=\"-304.8\" font-family=\"Times,serif\" font-size=\"14.00\"> </text>\n<polyline fill=\"none\" stroke=\"black\" points=\"3771,-290.5 3771,-326.5 \"/>\n<text text-anchor=\"middle\" x=\"3813.5\" y=\"-304.8\" font-family=\"Times,serif\" font-size=\"14.00\">data &#45;0.3938</text>\n<polyline fill=\"none\" stroke=\"black\" points=\"3856,-290.5 3856,-326.5 \"/>\n<text text-anchor=\"middle\" x=\"3897\" y=\"-304.8\" font-family=\"Times,serif\" font-size=\"14.00\">grad 0.0000</text>\n</g>\n<!-- 136411130597248+ -->\n<g id=\"node107\" class=\"node\">\n<title>136411130597248+</title>\n<ellipse fill=\"none\" stroke=\"black\" cx=\"4067.5\" cy=\"-359.5\" rx=\"27\" ry=\"18\"/>\n<text text-anchor=\"middle\" x=\"4067.5\" y=\"-355.8\" font-family=\"Times,serif\" font-size=\"14.00\">+</text>\n</g>\n<!-- 136411130597056&#45;&gt;136411130597248+ -->\n<g id=\"edge145\" class=\"edge\">\n<title>136411130597056&#45;&gt;136411130597248+</title>\n<path fill=\"none\" stroke=\"black\" d=\"M3923.73,-326.55C3960.66,-335.08 4002.87,-344.82 4031.76,-351.48\"/>\n<polygon fill=\"black\" stroke=\"black\" points=\"4031.24,-354.95 4041.77,-353.79 4032.81,-348.13 4031.24,-354.95\"/>\n</g>\n<!-- 136411130597056* -->\n<g id=\"node100\" class=\"node\">\n<title>136411130597056*</title>\n<ellipse fill=\"none\" stroke=\"black\" cx=\"3688\" cy=\"-308.5\" rx=\"27\" ry=\"18\"/>\n<text text-anchor=\"middle\" x=\"3688\" y=\"-304.8\" font-family=\"Times,serif\" font-size=\"14.00\">*</text>\n</g>\n<!-- 136411130597056*&#45;&gt;136411130597056 -->\n<g id=\"edge36\" class=\"edge\">\n<title>136411130597056*&#45;&gt;136411130597056</title>\n<path fill=\"none\" stroke=\"black\" d=\"M3715.21,-308.5C3722.73,-308.5 3731.43,-308.5 3740.67,-308.5\"/>\n<polygon fill=\"black\" stroke=\"black\" points=\"3740.89,-312 3750.89,-308.5 3740.89,-305 3740.89,-312\"/>\n</g>\n<!-- 136411130588880 -->\n<g id=\"node101\" class=\"node\">\n<title>136411130588880</title>\n<polygon fill=\"none\" stroke=\"black\" points=\"2188.5,-605.5 2188.5,-641.5 2370.5,-641.5 2370.5,-605.5 2188.5,-605.5\"/>\n<text text-anchor=\"middle\" x=\"2198.5\" y=\"-619.8\" font-family=\"Times,serif\" font-size=\"14.00\"> </text>\n<polyline fill=\"none\" stroke=\"black\" points=\"2208.5,-605.5 2208.5,-641.5 \"/>\n<text text-anchor=\"middle\" x=\"2248.5\" y=\"-619.8\" font-family=\"Times,serif\" font-size=\"14.00\">data 0.9125</text>\n<polyline fill=\"none\" stroke=\"black\" points=\"2288.5,-605.5 2288.5,-641.5 \"/>\n<text text-anchor=\"middle\" x=\"2329.5\" y=\"-619.8\" font-family=\"Times,serif\" font-size=\"14.00\">grad 0.0000</text>\n</g>\n<!-- 136411130588880&#45;&gt;136411130589120+ -->\n<g id=\"edge176\" class=\"edge\">\n<title>136411130588880&#45;&gt;136411130589120+</title>\n<path fill=\"none\" stroke=\"black\" d=\"M2370.82,-609.47C2380.87,-607.91 2390.61,-606.4 2399.34,-605.04\"/>\n<polygon fill=\"black\" stroke=\"black\" points=\"2400.1,-608.46 2409.45,-603.47 2399.03,-601.55 2400.1,-608.46\"/>\n</g>\n<!-- 136411130588880*&#45;&gt;136411130588880 -->\n<g id=\"edge37\" class=\"edge\">\n<title>136411130588880*&#45;&gt;136411130588880</title>\n<path fill=\"none\" stroke=\"black\" d=\"M2150.21,-623.5C2158.34,-623.5 2167.85,-623.5 2177.94,-623.5\"/>\n<polygon fill=\"black\" stroke=\"black\" points=\"2178.19,-627 2188.19,-623.5 2178.19,-620 2178.19,-627\"/>\n</g>\n<!-- 136411130547904 -->\n<g id=\"node103\" class=\"node\">\n<title>136411130547904</title>\n<polygon fill=\"none\" stroke=\"black\" points=\"1873,-770.5 1873,-806.5 2060,-806.5 2060,-770.5 1873,-770.5\"/>\n<text text-anchor=\"middle\" x=\"1883\" y=\"-784.8\" font-family=\"Times,serif\" font-size=\"14.00\"> </text>\n<polyline fill=\"none\" stroke=\"black\" points=\"1893,-770.5 1893,-806.5 \"/>\n<text text-anchor=\"middle\" x=\"1935.5\" y=\"-784.8\" font-family=\"Times,serif\" font-size=\"14.00\">data &#45;0.1480</text>\n<polyline fill=\"none\" stroke=\"black\" points=\"1978,-770.5 1978,-806.5 \"/>\n<text text-anchor=\"middle\" x=\"2019\" y=\"-784.8\" font-family=\"Times,serif\" font-size=\"14.00\">grad 0.0000</text>\n</g>\n<!-- 136411130547904&#45;&gt;136411130590848* -->\n<g id=\"edge144\" class=\"edge\">\n<title>136411130547904&#45;&gt;136411130590848*</title>\n<path fill=\"none\" stroke=\"black\" d=\"M2060.05,-788.5C2069.06,-788.5 2077.79,-788.5 2085.7,-788.5\"/>\n<polygon fill=\"black\" stroke=\"black\" points=\"2085.95,-792 2095.95,-788.5 2085.95,-785 2085.95,-792\"/>\n</g>\n<!-- 136411130547952 -->\n<g id=\"node104\" class=\"node\">\n<title>136411130547952</title>\n<polygon fill=\"none\" stroke=\"black\" points=\"2188.5,-495.5 2188.5,-531.5 2370.5,-531.5 2370.5,-495.5 2188.5,-495.5\"/>\n<text text-anchor=\"middle\" x=\"2198.5\" y=\"-509.8\" font-family=\"Times,serif\" font-size=\"14.00\"> </text>\n<polyline fill=\"none\" stroke=\"black\" points=\"2208.5,-495.5 2208.5,-531.5 \"/>\n<text text-anchor=\"middle\" x=\"2248.5\" y=\"-509.8\" font-family=\"Times,serif\" font-size=\"14.00\">data 0.8973</text>\n<polyline fill=\"none\" stroke=\"black\" points=\"2288.5,-495.5 2288.5,-531.5 \"/>\n<text text-anchor=\"middle\" x=\"2329.5\" y=\"-509.8\" font-family=\"Times,serif\" font-size=\"14.00\">grad 0.0000</text>\n</g>\n<!-- 136411130547952&#45;&gt;136411130591184* -->\n<g id=\"edge132\" class=\"edge\">\n<title>136411130547952&#45;&gt;136411130591184*</title>\n<path fill=\"none\" stroke=\"black\" d=\"M2370.82,-513.5C2380.57,-513.5 2390.04,-513.5 2398.57,-513.5\"/>\n<polygon fill=\"black\" stroke=\"black\" points=\"2398.83,-517 2408.83,-513.5 2398.83,-510 2398.83,-517\"/>\n</g>\n<!-- 136411130548000 -->\n<g id=\"node105\" class=\"node\">\n<title>136411130548000</title>\n<polygon fill=\"none\" stroke=\"black\" points=\"2499,-361.5 2499,-397.5 2686,-397.5 2686,-361.5 2499,-361.5\"/>\n<text text-anchor=\"middle\" x=\"2509\" y=\"-375.8\" font-family=\"Times,serif\" font-size=\"14.00\"> </text>\n<polyline fill=\"none\" stroke=\"black\" points=\"2519,-361.5 2519,-397.5 \"/>\n<text text-anchor=\"middle\" x=\"2561.5\" y=\"-375.8\" font-family=\"Times,serif\" font-size=\"14.00\">data &#45;0.6943</text>\n<polyline fill=\"none\" stroke=\"black\" points=\"2604,-361.5 2604,-397.5 \"/>\n<text text-anchor=\"middle\" x=\"2645\" y=\"-375.8\" font-family=\"Times,serif\" font-size=\"14.00\">grad 0.0000</text>\n</g>\n<!-- 136411130548000&#45;&gt;136411130593008* -->\n<g id=\"edge81\" class=\"edge\">\n<title>136411130548000&#45;&gt;136411130593008*</title>\n<path fill=\"none\" stroke=\"black\" d=\"M2686.05,-379.5C2695.06,-379.5 2703.79,-379.5 2711.7,-379.5\"/>\n<polygon fill=\"black\" stroke=\"black\" points=\"2711.95,-383 2721.95,-379.5 2711.95,-376 2711.95,-383\"/>\n</g>\n<!-- 136411130597248 -->\n<g id=\"node106\" class=\"node\">\n<title>136411130597248</title>\n<polygon fill=\"none\" stroke=\"black\" points=\"4197,-343.5 4197,-379.5 4384,-379.5 4384,-343.5 4197,-343.5\"/>\n<text text-anchor=\"middle\" x=\"4207\" y=\"-357.8\" font-family=\"Times,serif\" font-size=\"14.00\"> </text>\n<polyline fill=\"none\" stroke=\"black\" points=\"4217,-343.5 4217,-379.5 \"/>\n<text text-anchor=\"middle\" x=\"4259.5\" y=\"-357.8\" font-family=\"Times,serif\" font-size=\"14.00\">data &#45;1.1319</text>\n<polyline fill=\"none\" stroke=\"black\" points=\"4302,-343.5 4302,-379.5 \"/>\n<text text-anchor=\"middle\" x=\"4343\" y=\"-357.8\" font-family=\"Times,serif\" font-size=\"14.00\">grad 0.0000</text>\n</g>\n<!-- 136411130597632+ -->\n<g id=\"node122\" class=\"node\">\n<title>136411130597632+</title>\n<ellipse fill=\"none\" stroke=\"black\" cx=\"4447\" cy=\"-394.5\" rx=\"27\" ry=\"18\"/>\n<text text-anchor=\"middle\" x=\"4447\" y=\"-390.8\" font-family=\"Times,serif\" font-size=\"14.00\">+</text>\n</g>\n<!-- 136411130597248&#45;&gt;136411130597632+ -->\n<g id=\"edge135\" class=\"edge\">\n<title>136411130597248&#45;&gt;136411130597632+</title>\n<path fill=\"none\" stroke=\"black\" d=\"M4375.98,-379.54C4388.35,-382.19 4400.46,-384.77 4411.04,-387.03\"/>\n<polygon fill=\"black\" stroke=\"black\" points=\"4410.56,-390.51 4421.07,-389.18 4412.02,-383.66 4410.56,-390.51\"/>\n</g>\n<!-- 136411130597248+&#45;&gt;136411130597248 -->\n<g id=\"edge38\" class=\"edge\">\n<title>136411130597248+&#45;&gt;136411130597248</title>\n<path fill=\"none\" stroke=\"black\" d=\"M4094.72,-359.74C4117.72,-359.95 4152.71,-360.26 4186.72,-360.57\"/>\n<polygon fill=\"black\" stroke=\"black\" points=\"4186.72,-364.07 4196.75,-360.66 4186.78,-357.07 4186.72,-364.07\"/>\n</g>\n<!-- 136411130548096 -->\n<g id=\"node108\" class=\"node\">\n<title>136411130548096</title>\n<polygon fill=\"none\" stroke=\"black\" points=\"1560,-880.5 1560,-916.5 1747,-916.5 1747,-880.5 1560,-880.5\"/>\n<text text-anchor=\"middle\" x=\"1570\" y=\"-894.8\" font-family=\"Times,serif\" font-size=\"14.00\"> </text>\n<polyline fill=\"none\" stroke=\"black\" points=\"1580,-880.5 1580,-916.5 \"/>\n<text text-anchor=\"middle\" x=\"1622.5\" y=\"-894.8\" font-family=\"Times,serif\" font-size=\"14.00\">data &#45;0.5395</text>\n<polyline fill=\"none\" stroke=\"black\" points=\"1665,-880.5 1665,-916.5 \"/>\n<text text-anchor=\"middle\" x=\"1706\" y=\"-894.8\" font-family=\"Times,serif\" font-size=\"14.00\">grad 0.0000</text>\n</g>\n<!-- 136411130548096&#45;&gt;136411130593552* -->\n<g id=\"edge90\" class=\"edge\">\n<title>136411130548096&#45;&gt;136411130593552*</title>\n<path fill=\"none\" stroke=\"black\" d=\"M1747.05,-898.5C1756.06,-898.5 1764.79,-898.5 1772.7,-898.5\"/>\n<polygon fill=\"black\" stroke=\"black\" points=\"1772.95,-902 1782.95,-898.5 1772.95,-895 1772.95,-902\"/>\n</g>\n<!-- 136411130548144 -->\n<g id=\"node109\" class=\"node\">\n<title>136411130548144</title>\n<polygon fill=\"none\" stroke=\"black\" points=\"1875.5,-880.5 1875.5,-916.5 2057.5,-916.5 2057.5,-880.5 1875.5,-880.5\"/>\n<text text-anchor=\"middle\" x=\"1885.5\" y=\"-894.8\" font-family=\"Times,serif\" font-size=\"14.00\"> </text>\n<polyline fill=\"none\" stroke=\"black\" points=\"1895.5,-880.5 1895.5,-916.5 \"/>\n<text text-anchor=\"middle\" x=\"1935.5\" y=\"-894.8\" font-family=\"Times,serif\" font-size=\"14.00\">data 0.5173</text>\n<polyline fill=\"none\" stroke=\"black\" points=\"1975.5,-880.5 1975.5,-916.5 \"/>\n<text text-anchor=\"middle\" x=\"2016.5\" y=\"-894.8\" font-family=\"Times,serif\" font-size=\"14.00\">grad 0.0000</text>\n</g>\n<!-- 136411130548144&#45;&gt;136411130593744+ -->\n<g id=\"edge107\" class=\"edge\">\n<title>136411130548144&#45;&gt;136411130593744+</title>\n<path fill=\"none\" stroke=\"black\" d=\"M2057.82,-898.5C2067.57,-898.5 2077.04,-898.5 2085.57,-898.5\"/>\n<polygon fill=\"black\" stroke=\"black\" points=\"2085.83,-902 2095.83,-898.5 2085.83,-895 2085.83,-902\"/>\n</g>\n<!-- 136411130589120 -->\n<g id=\"node110\" class=\"node\">\n<title>136411130589120</title>\n<polygon fill=\"none\" stroke=\"black\" points=\"2501.5,-581.5 2501.5,-617.5 2683.5,-617.5 2683.5,-581.5 2501.5,-581.5\"/>\n<text text-anchor=\"middle\" x=\"2511.5\" y=\"-595.8\" font-family=\"Times,serif\" font-size=\"14.00\"> </text>\n<polyline fill=\"none\" stroke=\"black\" points=\"2521.5,-581.5 2521.5,-617.5 \"/>\n<text text-anchor=\"middle\" x=\"2561.5\" y=\"-595.8\" font-family=\"Times,serif\" font-size=\"14.00\">data 0.4279</text>\n<polyline fill=\"none\" stroke=\"black\" points=\"2601.5,-581.5 2601.5,-617.5 \"/>\n<text text-anchor=\"middle\" x=\"2642.5\" y=\"-595.8\" font-family=\"Times,serif\" font-size=\"14.00\">grad 0.0000</text>\n</g>\n<!-- 136411130589504+ -->\n<g id=\"node126\" class=\"node\">\n<title>136411130589504+</title>\n<ellipse fill=\"none\" stroke=\"black\" cx=\"2749\" cy=\"-489.5\" rx=\"27\" ry=\"18\"/>\n<text text-anchor=\"middle\" x=\"2749\" y=\"-485.8\" font-family=\"Times,serif\" font-size=\"14.00\">+</text>\n</g>\n<!-- 136411130589120&#45;&gt;136411130589504+ -->\n<g id=\"edge118\" class=\"edge\">\n<title>136411130589120&#45;&gt;136411130589504+</title>\n<path fill=\"none\" stroke=\"black\" d=\"M2669.35,-581.43C2675.24,-578.59 2680.88,-575.3 2686,-571.5 2709.16,-554.31 2704.13,-540.14 2722,-517.5 2723.4,-515.72 2724.89,-513.92 2726.42,-512.14\"/>\n<polygon fill=\"black\" stroke=\"black\" points=\"2729.18,-514.3 2733.24,-504.51 2723.96,-509.64 2729.18,-514.3\"/>\n</g>\n<!-- 136411130589120+&#45;&gt;136411130589120 -->\n<g id=\"edge39\" class=\"edge\">\n<title>136411130589120+&#45;&gt;136411130589120</title>\n<path fill=\"none\" stroke=\"black\" d=\"M2463.21,-599.5C2471.34,-599.5 2480.85,-599.5 2490.94,-599.5\"/>\n<polygon fill=\"black\" stroke=\"black\" points=\"2491.19,-603 2501.19,-599.5 2491.19,-596 2491.19,-603\"/>\n</g>\n<!-- 136411130548192 -->\n<g id=\"node112\" class=\"node\">\n<title>136411130548192</title>\n<polygon fill=\"none\" stroke=\"black\" points=\"1873,-825.5 1873,-861.5 2060,-861.5 2060,-825.5 1873,-825.5\"/>\n<text text-anchor=\"middle\" x=\"1883\" y=\"-839.8\" font-family=\"Times,serif\" font-size=\"14.00\"> </text>\n<polyline fill=\"none\" stroke=\"black\" points=\"1893,-825.5 1893,-861.5 \"/>\n<text text-anchor=\"middle\" x=\"1935.5\" y=\"-839.8\" font-family=\"Times,serif\" font-size=\"14.00\">data &#45;0.3406</text>\n<polyline fill=\"none\" stroke=\"black\" points=\"1978,-825.5 1978,-861.5 \"/>\n<text text-anchor=\"middle\" x=\"2019\" y=\"-839.8\" font-family=\"Times,serif\" font-size=\"14.00\">grad 0.0000</text>\n</g>\n<!-- 136411130548192&#45;&gt;136411130593984* -->\n<g id=\"edge99\" class=\"edge\">\n<title>136411130548192&#45;&gt;136411130593984*</title>\n<path fill=\"none\" stroke=\"black\" d=\"M2060.05,-843.5C2069.06,-843.5 2077.79,-843.5 2085.7,-843.5\"/>\n<polygon fill=\"black\" stroke=\"black\" points=\"2085.95,-847 2095.95,-843.5 2085.95,-840 2085.95,-847\"/>\n</g>\n<!-- 136411130548240 -->\n<g id=\"node113\" class=\"node\">\n<title>136411130548240</title>\n<polygon fill=\"none\" stroke=\"black\" points=\"2188.5,-660.5 2188.5,-696.5 2370.5,-696.5 2370.5,-660.5 2188.5,-660.5\"/>\n<text text-anchor=\"middle\" x=\"2198.5\" y=\"-674.8\" font-family=\"Times,serif\" font-size=\"14.00\"> </text>\n<polyline fill=\"none\" stroke=\"black\" points=\"2208.5,-660.5 2208.5,-696.5 \"/>\n<text text-anchor=\"middle\" x=\"2248.5\" y=\"-674.8\" font-family=\"Times,serif\" font-size=\"14.00\">data 0.1081</text>\n<polyline fill=\"none\" stroke=\"black\" points=\"2288.5,-660.5 2288.5,-696.5 \"/>\n<text text-anchor=\"middle\" x=\"2329.5\" y=\"-674.8\" font-family=\"Times,serif\" font-size=\"14.00\">grad 0.0000</text>\n</g>\n<!-- 136411130548240&#45;&gt;136411130594368* -->\n<g id=\"edge92\" class=\"edge\">\n<title>136411130548240&#45;&gt;136411130594368*</title>\n<path fill=\"none\" stroke=\"black\" d=\"M2370.82,-668.56C2380.77,-667.47 2390.43,-666.4 2399.1,-665.45\"/>\n<polygon fill=\"black\" stroke=\"black\" points=\"2399.58,-668.92 2409.14,-664.35 2398.81,-661.96 2399.58,-668.92\"/>\n</g>\n<!-- 136411130597440 -->\n<g id=\"node114\" class=\"node\">\n<title>136411130597440</title>\n<polygon fill=\"none\" stroke=\"black\" points=\"3974,-396.5 3974,-432.5 4161,-432.5 4161,-396.5 3974,-396.5\"/>\n<text text-anchor=\"middle\" x=\"3984\" y=\"-410.8\" font-family=\"Times,serif\" font-size=\"14.00\"> </text>\n<polyline fill=\"none\" stroke=\"black\" points=\"3994,-396.5 3994,-432.5 \"/>\n<text text-anchor=\"middle\" x=\"4036.5\" y=\"-410.8\" font-family=\"Times,serif\" font-size=\"14.00\">data &#45;0.0301</text>\n<polyline fill=\"none\" stroke=\"black\" points=\"4079,-396.5 4079,-432.5 \"/>\n<text text-anchor=\"middle\" x=\"4120\" y=\"-410.8\" font-family=\"Times,serif\" font-size=\"14.00\">grad 0.0000</text>\n</g>\n<!-- 136411130597440&#45;&gt;136411130597632+ -->\n<g id=\"edge130\" class=\"edge\">\n<title>136411130597440&#45;&gt;136411130597632+</title>\n<path fill=\"none\" stroke=\"black\" d=\"M4161.33,-409.58C4241.32,-405.34 4352.6,-399.45 4409.43,-396.44\"/>\n<polygon fill=\"black\" stroke=\"black\" points=\"4409.92,-399.92 4419.72,-395.89 4409.54,-392.93 4409.92,-399.92\"/>\n</g>\n<!-- 136411130597440* -->\n<g id=\"node115\" class=\"node\">\n<title>136411130597440*</title>\n<ellipse fill=\"none\" stroke=\"black\" cx=\"3688\" cy=\"-414.5\" rx=\"27\" ry=\"18\"/>\n<text text-anchor=\"middle\" x=\"3688\" y=\"-410.8\" font-family=\"Times,serif\" font-size=\"14.00\">*</text>\n</g>\n<!-- 136411130597440*&#45;&gt;136411130597440 -->\n<g id=\"edge40\" class=\"edge\">\n<title>136411130597440*&#45;&gt;136411130597440</title>\n<path fill=\"none\" stroke=\"black\" d=\"M3715.25,-414.5C3765.86,-414.5 3879.4,-414.5 3963.77,-414.5\"/>\n<polygon fill=\"black\" stroke=\"black\" points=\"3963.9,-418 3973.9,-414.5 3963.9,-411 3963.9,-418\"/>\n</g>\n<!-- 136411130548288 -->\n<g id=\"node116\" class=\"node\">\n<title>136411130548288</title>\n<polygon fill=\"none\" stroke=\"black\" points=\"2501.5,-416.5 2501.5,-452.5 2683.5,-452.5 2683.5,-416.5 2501.5,-416.5\"/>\n<text text-anchor=\"middle\" x=\"2511.5\" y=\"-430.8\" font-family=\"Times,serif\" font-size=\"14.00\"> </text>\n<polyline fill=\"none\" stroke=\"black\" points=\"2521.5,-416.5 2521.5,-452.5 \"/>\n<text text-anchor=\"middle\" x=\"2561.5\" y=\"-430.8\" font-family=\"Times,serif\" font-size=\"14.00\">data 0.1110</text>\n<polyline fill=\"none\" stroke=\"black\" points=\"2601.5,-416.5 2601.5,-452.5 \"/>\n<text text-anchor=\"middle\" x=\"2642.5\" y=\"-430.8\" font-family=\"Times,serif\" font-size=\"14.00\">grad 0.0000</text>\n</g>\n<!-- 136411130548288&#45;&gt;136411130594752* -->\n<g id=\"edge184\" class=\"edge\">\n<title>136411130548288&#45;&gt;136411130594752*</title>\n<path fill=\"none\" stroke=\"black\" d=\"M2683.82,-434.5C2693.57,-434.5 2703.04,-434.5 2711.57,-434.5\"/>\n<polygon fill=\"black\" stroke=\"black\" points=\"2711.83,-438 2721.83,-434.5 2711.83,-431 2711.83,-438\"/>\n</g>\n<!-- 136411130589312 -->\n<g id=\"node117\" class=\"node\">\n<title>136411130589312</title>\n<polygon fill=\"none\" stroke=\"black\" points=\"2499,-471.5 2499,-507.5 2686,-507.5 2686,-471.5 2499,-471.5\"/>\n<text text-anchor=\"middle\" x=\"2509\" y=\"-485.8\" font-family=\"Times,serif\" font-size=\"14.00\"> </text>\n<polyline fill=\"none\" stroke=\"black\" points=\"2519,-471.5 2519,-507.5 \"/>\n<text text-anchor=\"middle\" x=\"2561.5\" y=\"-485.8\" font-family=\"Times,serif\" font-size=\"14.00\">data &#45;0.0107</text>\n<polyline fill=\"none\" stroke=\"black\" points=\"2604,-471.5 2604,-507.5 \"/>\n<text text-anchor=\"middle\" x=\"2645\" y=\"-485.8\" font-family=\"Times,serif\" font-size=\"14.00\">grad 0.0000</text>\n</g>\n<!-- 136411130589312&#45;&gt;136411130589504+ -->\n<g id=\"edge165\" class=\"edge\">\n<title>136411130589312&#45;&gt;136411130589504+</title>\n<path fill=\"none\" stroke=\"black\" d=\"M2686.05,-489.5C2695.06,-489.5 2703.79,-489.5 2711.7,-489.5\"/>\n<polygon fill=\"black\" stroke=\"black\" points=\"2711.95,-493 2721.95,-489.5 2711.95,-486 2711.95,-493\"/>\n</g>\n<!-- 136411130589312*&#45;&gt;136411130589312 -->\n<g id=\"edge41\" class=\"edge\">\n<title>136411130589312*&#45;&gt;136411130589312</title>\n<path fill=\"none\" stroke=\"black\" d=\"M2462.17,-463.55C2470.68,-465.26 2480.77,-467.28 2491.5,-469.44\"/>\n<polygon fill=\"black\" stroke=\"black\" points=\"2491.02,-472.91 2501.51,-471.44 2492.39,-466.04 2491.02,-472.91\"/>\n</g>\n<!-- 136411130548384 -->\n<g id=\"node119\" class=\"node\">\n<title>136411130548384</title>\n<polygon fill=\"none\" stroke=\"black\" points=\"1562.5,-275.5 1562.5,-311.5 1744.5,-311.5 1744.5,-275.5 1562.5,-275.5\"/>\n<text text-anchor=\"middle\" x=\"1572.5\" y=\"-289.8\" font-family=\"Times,serif\" font-size=\"14.00\"> </text>\n<polyline fill=\"none\" stroke=\"black\" points=\"1582.5,-275.5 1582.5,-311.5 \"/>\n<text text-anchor=\"middle\" x=\"1622.5\" y=\"-289.8\" font-family=\"Times,serif\" font-size=\"14.00\">data 0.0931</text>\n<polyline fill=\"none\" stroke=\"black\" points=\"1662.5,-275.5 1662.5,-311.5 \"/>\n<text text-anchor=\"middle\" x=\"1703.5\" y=\"-289.8\" font-family=\"Times,serif\" font-size=\"14.00\">grad 0.0000</text>\n</g>\n<!-- 136411130548384&#45;&gt;136411130595328* -->\n<g id=\"edge100\" class=\"edge\">\n<title>136411130548384&#45;&gt;136411130595328*</title>\n<path fill=\"none\" stroke=\"black\" d=\"M1744.82,-293.5C1754.57,-293.5 1764.04,-293.5 1772.57,-293.5\"/>\n<polygon fill=\"black\" stroke=\"black\" points=\"1772.83,-297 1782.83,-293.5 1772.83,-290 1772.83,-297\"/>\n</g>\n<!-- 136411130548432 -->\n<g id=\"node120\" class=\"node\">\n<title>136411130548432</title>\n<polygon fill=\"none\" stroke=\"black\" points=\"1873,-220.5 1873,-256.5 2060,-256.5 2060,-220.5 1873,-220.5\"/>\n<text text-anchor=\"middle\" x=\"1883\" y=\"-234.8\" font-family=\"Times,serif\" font-size=\"14.00\"> </text>\n<polyline fill=\"none\" stroke=\"black\" points=\"1893,-220.5 1893,-256.5 \"/>\n<text text-anchor=\"middle\" x=\"1935.5\" y=\"-234.8\" font-family=\"Times,serif\" font-size=\"14.00\">data &#45;0.8888</text>\n<polyline fill=\"none\" stroke=\"black\" points=\"1978,-220.5 1978,-256.5 \"/>\n<text text-anchor=\"middle\" x=\"2019\" y=\"-234.8\" font-family=\"Times,serif\" font-size=\"14.00\">grad 0.0000</text>\n</g>\n<!-- 136411130548432&#45;&gt;136411130595520+ -->\n<g id=\"edge125\" class=\"edge\">\n<title>136411130548432&#45;&gt;136411130595520+</title>\n<path fill=\"none\" stroke=\"black\" d=\"M2060.05,-238.5C2069.06,-238.5 2077.79,-238.5 2085.7,-238.5\"/>\n<polygon fill=\"black\" stroke=\"black\" points=\"2085.95,-242 2095.95,-238.5 2085.95,-235 2085.95,-242\"/>\n</g>\n<!-- 136411130597632 -->\n<g id=\"node121\" class=\"node\">\n<title>136411130597632</title>\n<polygon fill=\"none\" stroke=\"black\" points=\"4510,-376.5 4510,-412.5 4697,-412.5 4697,-376.5 4510,-376.5\"/>\n<text text-anchor=\"middle\" x=\"4520\" y=\"-390.8\" font-family=\"Times,serif\" font-size=\"14.00\"> </text>\n<polyline fill=\"none\" stroke=\"black\" points=\"4530,-376.5 4530,-412.5 \"/>\n<text text-anchor=\"middle\" x=\"4572.5\" y=\"-390.8\" font-family=\"Times,serif\" font-size=\"14.00\">data &#45;1.1620</text>\n<polyline fill=\"none\" stroke=\"black\" points=\"4615,-376.5 4615,-412.5 \"/>\n<text text-anchor=\"middle\" x=\"4656\" y=\"-390.8\" font-family=\"Times,serif\" font-size=\"14.00\">grad 0.0000</text>\n</g>\n<!-- 136411130598064+ -->\n<g id=\"node137\" class=\"node\">\n<title>136411130598064+</title>\n<ellipse fill=\"none\" stroke=\"black\" cx=\"4760\" cy=\"-394.5\" rx=\"27\" ry=\"18\"/>\n<text text-anchor=\"middle\" x=\"4760\" y=\"-390.8\" font-family=\"Times,serif\" font-size=\"14.00\">+</text>\n</g>\n<!-- 136411130597632&#45;&gt;136411130598064+ -->\n<g id=\"edge119\" class=\"edge\">\n<title>136411130597632&#45;&gt;136411130598064+</title>\n<path fill=\"none\" stroke=\"black\" d=\"M4697.05,-394.5C4706.06,-394.5 4714.79,-394.5 4722.7,-394.5\"/>\n<polygon fill=\"black\" stroke=\"black\" points=\"4722.95,-398 4732.95,-394.5 4722.95,-391 4722.95,-398\"/>\n</g>\n<!-- 136411130597632+&#45;&gt;136411130597632 -->\n<g id=\"edge42\" class=\"edge\">\n<title>136411130597632+&#45;&gt;136411130597632</title>\n<path fill=\"none\" stroke=\"black\" d=\"M4474.21,-394.5C4481.73,-394.5 4490.43,-394.5 4499.67,-394.5\"/>\n<polygon fill=\"black\" stroke=\"black\" points=\"4499.89,-398 4509.89,-394.5 4499.89,-391 4499.89,-398\"/>\n</g>\n<!-- 136411130548480 -->\n<g id=\"node123\" class=\"node\">\n<title>136411130548480</title>\n<polygon fill=\"none\" stroke=\"black\" points=\"1873,-330.5 1873,-366.5 2060,-366.5 2060,-330.5 1873,-330.5\"/>\n<text text-anchor=\"middle\" x=\"1883\" y=\"-344.8\" font-family=\"Times,serif\" font-size=\"14.00\"> </text>\n<polyline fill=\"none\" stroke=\"black\" points=\"1893,-330.5 1893,-366.5 \"/>\n<text text-anchor=\"middle\" x=\"1935.5\" y=\"-344.8\" font-family=\"Times,serif\" font-size=\"14.00\">data &#45;0.6582</text>\n<polyline fill=\"none\" stroke=\"black\" points=\"1978,-330.5 1978,-366.5 \"/>\n<text text-anchor=\"middle\" x=\"2019\" y=\"-344.8\" font-family=\"Times,serif\" font-size=\"14.00\">grad 0.0000</text>\n</g>\n<!-- 136411130548480&#45;&gt;136411130595712* -->\n<g id=\"edge113\" class=\"edge\">\n<title>136411130548480&#45;&gt;136411130595712*</title>\n<path fill=\"none\" stroke=\"black\" d=\"M2060.05,-348.5C2069.06,-348.5 2077.79,-348.5 2085.7,-348.5\"/>\n<polygon fill=\"black\" stroke=\"black\" points=\"2085.95,-352 2095.95,-348.5 2085.95,-345 2085.95,-352\"/>\n</g>\n<!-- 136411130548528 -->\n<g id=\"node124\" class=\"node\">\n<title>136411130548528</title>\n<polygon fill=\"none\" stroke=\"black\" points=\"2186,-330.5 2186,-366.5 2373,-366.5 2373,-330.5 2186,-330.5\"/>\n<text text-anchor=\"middle\" x=\"2196\" y=\"-344.8\" font-family=\"Times,serif\" font-size=\"14.00\"> </text>\n<polyline fill=\"none\" stroke=\"black\" points=\"2206,-330.5 2206,-366.5 \"/>\n<text text-anchor=\"middle\" x=\"2248.5\" y=\"-344.8\" font-family=\"Times,serif\" font-size=\"14.00\">data &#45;0.1850</text>\n<polyline fill=\"none\" stroke=\"black\" points=\"2291,-330.5 2291,-366.5 \"/>\n<text text-anchor=\"middle\" x=\"2332\" y=\"-344.8\" font-family=\"Times,serif\" font-size=\"14.00\">grad 0.0000</text>\n</g>\n<!-- 136411130548528&#45;&gt;136411130596096* -->\n<g id=\"edge142\" class=\"edge\">\n<title>136411130548528&#45;&gt;136411130596096*</title>\n<path fill=\"none\" stroke=\"black\" d=\"M2373.05,-348.5C2382.06,-348.5 2390.79,-348.5 2398.7,-348.5\"/>\n<polygon fill=\"black\" stroke=\"black\" points=\"2398.95,-352 2408.95,-348.5 2398.95,-345 2398.95,-352\"/>\n</g>\n<!-- 136411130589504 -->\n<g id=\"node125\" class=\"node\">\n<title>136411130589504</title>\n<polygon fill=\"none\" stroke=\"black\" points=\"2814.5,-471.5 2814.5,-507.5 2996.5,-507.5 2996.5,-471.5 2814.5,-471.5\"/>\n<text text-anchor=\"middle\" x=\"2824.5\" y=\"-485.8\" font-family=\"Times,serif\" font-size=\"14.00\"> </text>\n<polyline fill=\"none\" stroke=\"black\" points=\"2834.5,-471.5 2834.5,-507.5 \"/>\n<text text-anchor=\"middle\" x=\"2874.5\" y=\"-485.8\" font-family=\"Times,serif\" font-size=\"14.00\">data 0.4172</text>\n<polyline fill=\"none\" stroke=\"black\" points=\"2914.5,-471.5 2914.5,-507.5 \"/>\n<text text-anchor=\"middle\" x=\"2955.5\" y=\"-485.8\" font-family=\"Times,serif\" font-size=\"14.00\">grad 0.0000</text>\n</g>\n<!-- 136411130589888+ -->\n<g id=\"node139\" class=\"node\">\n<title>136411130589888+</title>\n<ellipse fill=\"none\" stroke=\"black\" cx=\"3062\" cy=\"-297.5\" rx=\"27\" ry=\"18\"/>\n<text text-anchor=\"middle\" x=\"3062\" y=\"-293.8\" font-family=\"Times,serif\" font-size=\"14.00\">+</text>\n</g>\n<!-- 136411130589504&#45;&gt;136411130589888+ -->\n<g id=\"edge189\" class=\"edge\">\n<title>136411130589504&#45;&gt;136411130589888+</title>\n<path fill=\"none\" stroke=\"black\" d=\"M2985.58,-471.38C2990.42,-468.55 2994.95,-465.28 2999,-461.5 3009.39,-451.79 3037.67,-368.81 3052.17,-324.75\"/>\n<polygon fill=\"black\" stroke=\"black\" points=\"3055.5,-325.8 3055.29,-315.21 3048.85,-323.62 3055.5,-325.8\"/>\n</g>\n<!-- 136411130589504+&#45;&gt;136411130589504 -->\n<g id=\"edge43\" class=\"edge\">\n<title>136411130589504+&#45;&gt;136411130589504</title>\n<path fill=\"none\" stroke=\"black\" d=\"M2776.21,-489.5C2784.34,-489.5 2793.85,-489.5 2803.94,-489.5\"/>\n<polygon fill=\"black\" stroke=\"black\" points=\"2804.19,-493 2814.19,-489.5 2804.19,-486 2804.19,-493\"/>\n</g>\n<!-- 136411130548576 -->\n<g id=\"node127\" class=\"node\">\n<title>136411130548576</title>\n<polygon fill=\"none\" stroke=\"black\" points=\"2501.5,-86.5 2501.5,-122.5 2683.5,-122.5 2683.5,-86.5 2501.5,-86.5\"/>\n<text text-anchor=\"middle\" x=\"2511.5\" y=\"-100.8\" font-family=\"Times,serif\" font-size=\"14.00\"> </text>\n<polyline fill=\"none\" stroke=\"black\" points=\"2521.5,-86.5 2521.5,-122.5 \"/>\n<text text-anchor=\"middle\" x=\"2561.5\" y=\"-100.8\" font-family=\"Times,serif\" font-size=\"14.00\">data 0.5192</text>\n<polyline fill=\"none\" stroke=\"black\" points=\"2601.5,-86.5 2601.5,-122.5 \"/>\n<text text-anchor=\"middle\" x=\"2642.5\" y=\"-100.8\" font-family=\"Times,serif\" font-size=\"14.00\">grad 0.0000</text>\n</g>\n<!-- 136411130548576&#45;&gt;136411130596480* -->\n<g id=\"edge96\" class=\"edge\">\n<title>136411130548576&#45;&gt;136411130596480*</title>\n<path fill=\"none\" stroke=\"black\" d=\"M2660.1,-122.6C2668.88,-125.38 2677.7,-128.37 2686,-131.5 2696.62,-135.51 2707.94,-140.56 2717.96,-145.32\"/>\n<polygon fill=\"black\" stroke=\"black\" points=\"2716.59,-148.54 2727.11,-149.75 2719.64,-142.24 2716.59,-148.54\"/>\n</g>\n<!-- 136411130048928 -->\n<g id=\"node128\" class=\"node\">\n<title>136411130048928</title>\n<polygon fill=\"none\" stroke=\"black\" points=\"310.5,-825.5 310.5,-861.5 492.5,-861.5 492.5,-825.5 310.5,-825.5\"/>\n<text text-anchor=\"middle\" x=\"320.5\" y=\"-839.8\" font-family=\"Times,serif\" font-size=\"14.00\"> </text>\n<polyline fill=\"none\" stroke=\"black\" points=\"330.5,-825.5 330.5,-861.5 \"/>\n<text text-anchor=\"middle\" x=\"370.5\" y=\"-839.8\" font-family=\"Times,serif\" font-size=\"14.00\">data 0.8095</text>\n<polyline fill=\"none\" stroke=\"black\" points=\"410.5,-825.5 410.5,-861.5 \"/>\n<text text-anchor=\"middle\" x=\"451.5\" y=\"-839.8\" font-family=\"Times,serif\" font-size=\"14.00\">grad 0.0000</text>\n</g>\n<!-- 136411130582832* -->\n<g id=\"node167\" class=\"node\">\n<title>136411130582832*</title>\n<ellipse fill=\"none\" stroke=\"black\" cx=\"558\" cy=\"-843.5\" rx=\"27\" ry=\"18\"/>\n<text text-anchor=\"middle\" x=\"558\" y=\"-839.8\" font-family=\"Times,serif\" font-size=\"14.00\">*</text>\n</g>\n<!-- 136411130048928&#45;&gt;136411130582832* -->\n<g id=\"edge138\" class=\"edge\">\n<title>136411130048928&#45;&gt;136411130582832*</title>\n<path fill=\"none\" stroke=\"black\" d=\"M492.82,-843.5C502.57,-843.5 512.04,-843.5 520.57,-843.5\"/>\n<polygon fill=\"black\" stroke=\"black\" points=\"520.83,-847 530.83,-843.5 520.83,-840 520.83,-847\"/>\n</g>\n<!-- 136411130597824 -->\n<g id=\"node129\" class=\"node\">\n<title>136411130597824</title>\n<polygon fill=\"none\" stroke=\"black\" points=\"3976.5,-478.5 3976.5,-514.5 4158.5,-514.5 4158.5,-478.5 3976.5,-478.5\"/>\n<text text-anchor=\"middle\" x=\"3986.5\" y=\"-492.8\" font-family=\"Times,serif\" font-size=\"14.00\"> </text>\n<polyline fill=\"none\" stroke=\"black\" points=\"3996.5,-478.5 3996.5,-514.5 \"/>\n<text text-anchor=\"middle\" x=\"4036.5\" y=\"-492.8\" font-family=\"Times,serif\" font-size=\"14.00\">data 0.0181</text>\n<polyline fill=\"none\" stroke=\"black\" points=\"4076.5,-478.5 4076.5,-514.5 \"/>\n<text text-anchor=\"middle\" x=\"4117.5\" y=\"-492.8\" font-family=\"Times,serif\" font-size=\"14.00\">grad 0.0000</text>\n</g>\n<!-- 136411130597824&#45;&gt;136411130598064+ -->\n<g id=\"edge209\" class=\"edge\">\n<title>136411130597824&#45;&gt;136411130598064+</title>\n<path fill=\"none\" stroke=\"black\" d=\"M4158.53,-493.98C4281.98,-488.67 4509.8,-472.25 4697,-421.5 4707.82,-418.57 4719.19,-414.07 4729.2,-409.57\"/>\n<polygon fill=\"black\" stroke=\"black\" points=\"4730.74,-412.72 4738.32,-405.32 4727.78,-406.38 4730.74,-412.72\"/>\n</g>\n<!-- 136411130597824*&#45;&gt;136411130597824 -->\n<g id=\"edge44\" class=\"edge\">\n<title>136411130597824*&#45;&gt;136411130597824</title>\n<path fill=\"none\" stroke=\"black\" d=\"M3714.95,-516.06C3765.85,-513.22 3881.22,-506.81 3965.97,-502.09\"/>\n<polygon fill=\"black\" stroke=\"black\" points=\"3966.36,-505.58 3976.15,-501.53 3965.97,-498.59 3966.36,-505.58\"/>\n</g>\n<!-- 136411130548720 -->\n<g id=\"node131\" class=\"node\">\n<title>136411130548720</title>\n<polygon fill=\"none\" stroke=\"black\" points=\"3438,-334.5 3438,-370.5 3625,-370.5 3625,-334.5 3438,-334.5\"/>\n<text text-anchor=\"middle\" x=\"3448\" y=\"-348.8\" font-family=\"Times,serif\" font-size=\"14.00\"> </text>\n<polyline fill=\"none\" stroke=\"black\" points=\"3458,-334.5 3458,-370.5 \"/>\n<text text-anchor=\"middle\" x=\"3500.5\" y=\"-348.8\" font-family=\"Times,serif\" font-size=\"14.00\">data &#45;0.4931</text>\n<polyline fill=\"none\" stroke=\"black\" points=\"3543,-334.5 3543,-370.5 \"/>\n<text text-anchor=\"middle\" x=\"3584\" y=\"-348.8\" font-family=\"Times,serif\" font-size=\"14.00\">grad 0.0000</text>\n</g>\n<!-- 136411130548720&#45;&gt;136411130597056* -->\n<g id=\"edge167\" class=\"edge\">\n<title>136411130548720&#45;&gt;136411130597056*</title>\n<path fill=\"none\" stroke=\"black\" d=\"M3595.79,-334.48C3615.39,-328.89 3636.23,-322.96 3653.03,-318.17\"/>\n<polygon fill=\"black\" stroke=\"black\" points=\"3654.27,-321.46 3662.93,-315.36 3652.35,-314.73 3654.27,-321.46\"/>\n</g>\n<!-- 136411130589696 -->\n<g id=\"node132\" class=\"node\">\n<title>136411130589696</title>\n<polygon fill=\"none\" stroke=\"black\" points=\"2814.5,-197.5 2814.5,-233.5 2996.5,-233.5 2996.5,-197.5 2814.5,-197.5\"/>\n<text text-anchor=\"middle\" x=\"2824.5\" y=\"-211.8\" font-family=\"Times,serif\" font-size=\"14.00\"> </text>\n<polyline fill=\"none\" stroke=\"black\" points=\"2834.5,-197.5 2834.5,-233.5 \"/>\n<text text-anchor=\"middle\" x=\"2874.5\" y=\"-211.8\" font-family=\"Times,serif\" font-size=\"14.00\">data 0.6779</text>\n<polyline fill=\"none\" stroke=\"black\" points=\"2914.5,-197.5 2914.5,-233.5 \"/>\n<text text-anchor=\"middle\" x=\"2955.5\" y=\"-211.8\" font-family=\"Times,serif\" font-size=\"14.00\">grad 0.0000</text>\n</g>\n<!-- 136411130589696&#45;&gt;136411130589888+ -->\n<g id=\"edge136\" class=\"edge\">\n<title>136411130589696&#45;&gt;136411130589888+</title>\n<path fill=\"none\" stroke=\"black\" d=\"M2979.94,-233.62C2986.54,-236.24 2993,-239.18 2999,-242.5 3014.14,-250.87 3028.74,-263.51 3039.96,-274.56\"/>\n<polygon fill=\"black\" stroke=\"black\" points=\"3037.65,-277.21 3047.16,-281.89 3042.65,-272.3 3037.65,-277.21\"/>\n</g>\n<!-- 136411130589696*&#45;&gt;136411130589696 -->\n<g id=\"edge45\" class=\"edge\">\n<title>136411130589696*&#45;&gt;136411130589696</title>\n<path fill=\"none\" stroke=\"black\" d=\"M2776.21,-214.67C2784.34,-214.72 2793.85,-214.78 2803.94,-214.85\"/>\n<polygon fill=\"black\" stroke=\"black\" points=\"2804.17,-218.35 2814.19,-214.92 2804.21,-211.35 2804.17,-218.35\"/>\n</g>\n<!-- 136411130548768 -->\n<g id=\"node134\" class=\"node\">\n<title>136411130548768</title>\n<polygon fill=\"none\" stroke=\"black\" points=\"3751,-345.5 3751,-381.5 3938,-381.5 3938,-345.5 3751,-345.5\"/>\n<text text-anchor=\"middle\" x=\"3761\" y=\"-359.8\" font-family=\"Times,serif\" font-size=\"14.00\"> </text>\n<polyline fill=\"none\" stroke=\"black\" points=\"3771,-345.5 3771,-381.5 \"/>\n<text text-anchor=\"middle\" x=\"3813.5\" y=\"-359.8\" font-family=\"Times,serif\" font-size=\"14.00\">data &#45;0.7380</text>\n<polyline fill=\"none\" stroke=\"black\" points=\"3856,-345.5 3856,-381.5 \"/>\n<text text-anchor=\"middle\" x=\"3897\" y=\"-359.8\" font-family=\"Times,serif\" font-size=\"14.00\">grad 0.0000</text>\n</g>\n<!-- 136411130548768&#45;&gt;136411130597248+ -->\n<g id=\"edge191\" class=\"edge\">\n<title>136411130548768&#45;&gt;136411130597248+</title>\n<path fill=\"none\" stroke=\"black\" d=\"M3938.26,-361.82C3970.72,-361.23 4005.27,-360.61 4030.32,-360.15\"/>\n<polygon fill=\"black\" stroke=\"black\" points=\"4030.5,-363.65 4040.44,-359.97 4030.38,-356.65 4030.5,-363.65\"/>\n</g>\n<!-- 136411130548816 -->\n<g id=\"node135\" class=\"node\">\n<title>136411130548816</title>\n<polygon fill=\"none\" stroke=\"black\" points=\"3438,-444.5 3438,-480.5 3625,-480.5 3625,-444.5 3438,-444.5\"/>\n<text text-anchor=\"middle\" x=\"3448\" y=\"-458.8\" font-family=\"Times,serif\" font-size=\"14.00\"> </text>\n<polyline fill=\"none\" stroke=\"black\" points=\"3458,-444.5 3458,-480.5 \"/>\n<text text-anchor=\"middle\" x=\"3500.5\" y=\"-458.8\" font-family=\"Times,serif\" font-size=\"14.00\">data &#45;0.1547</text>\n<polyline fill=\"none\" stroke=\"black\" points=\"3543,-444.5 3543,-480.5 \"/>\n<text text-anchor=\"middle\" x=\"3584\" y=\"-458.8\" font-family=\"Times,serif\" font-size=\"14.00\">grad 0.0000</text>\n</g>\n<!-- 136411130548816&#45;&gt;136411130597440* -->\n<g id=\"edge182\" class=\"edge\">\n<title>136411130548816&#45;&gt;136411130597440*</title>\n<path fill=\"none\" stroke=\"black\" d=\"M3592.76,-444.43C3603.5,-441.16 3614.59,-437.75 3625,-434.5 3634.35,-431.58 3644.48,-428.34 3653.78,-425.34\"/>\n<polygon fill=\"black\" stroke=\"black\" points=\"3655.04,-428.61 3663.48,-422.2 3652.89,-421.95 3655.04,-428.61\"/>\n</g>\n<!-- 136411130598064 -->\n<g id=\"node136\" class=\"node\">\n<title>136411130598064</title>\n<polygon fill=\"none\" stroke=\"black\" points=\"4823,-359.5 4823,-395.5 5010,-395.5 5010,-359.5 4823,-359.5\"/>\n<text text-anchor=\"middle\" x=\"4833\" y=\"-373.8\" font-family=\"Times,serif\" font-size=\"14.00\"> </text>\n<polyline fill=\"none\" stroke=\"black\" points=\"4843,-359.5 4843,-395.5 \"/>\n<text text-anchor=\"middle\" x=\"4885.5\" y=\"-373.8\" font-family=\"Times,serif\" font-size=\"14.00\">data &#45;1.1439</text>\n<polyline fill=\"none\" stroke=\"black\" points=\"4928,-359.5 4928,-395.5 \"/>\n<text text-anchor=\"middle\" x=\"4969\" y=\"-373.8\" font-family=\"Times,serif\" font-size=\"14.00\">grad 0.0000</text>\n</g>\n<!-- 136411130598208+ -->\n<g id=\"node148\" class=\"node\">\n<title>136411130598208+</title>\n<ellipse fill=\"none\" stroke=\"black\" cx=\"5073\" cy=\"-335.5\" rx=\"27\" ry=\"18\"/>\n<text text-anchor=\"middle\" x=\"5073\" y=\"-331.8\" font-family=\"Times,serif\" font-size=\"14.00\">+</text>\n</g>\n<!-- 136411130598064&#45;&gt;136411130598208+ -->\n<g id=\"edge76\" class=\"edge\">\n<title>136411130598064&#45;&gt;136411130598208+</title>\n<path fill=\"none\" stroke=\"black\" d=\"M4983.92,-359.44C5002.44,-354.41 5021.8,-349.15 5037.64,-344.84\"/>\n<polygon fill=\"black\" stroke=\"black\" points=\"5038.77,-348.16 5047.5,-342.16 5036.93,-341.41 5038.77,-348.16\"/>\n</g>\n<!-- 136411130598064+&#45;&gt;136411130598064 -->\n<g id=\"edge46\" class=\"edge\">\n<title>136411130598064+&#45;&gt;136411130598064</title>\n<path fill=\"none\" stroke=\"black\" d=\"M4786.86,-391.65C4794.51,-390.81 4803.39,-389.84 4812.84,-388.8\"/>\n<polygon fill=\"black\" stroke=\"black\" points=\"4813.32,-392.26 4822.87,-387.69 4812.55,-385.31 4813.32,-392.26\"/>\n</g>\n<!-- 136411130589888 -->\n<g id=\"node138\" class=\"node\">\n<title>136411130589888</title>\n<polygon fill=\"none\" stroke=\"black\" points=\"3127.5,-279.5 3127.5,-315.5 3309.5,-315.5 3309.5,-279.5 3127.5,-279.5\"/>\n<text text-anchor=\"middle\" x=\"3137.5\" y=\"-293.8\" font-family=\"Times,serif\" font-size=\"14.00\"> </text>\n<polyline fill=\"none\" stroke=\"black\" points=\"3147.5,-279.5 3147.5,-315.5 \"/>\n<text text-anchor=\"middle\" x=\"3187.5\" y=\"-293.8\" font-family=\"Times,serif\" font-size=\"14.00\">data 1.0951</text>\n<polyline fill=\"none\" stroke=\"black\" points=\"3227.5,-279.5 3227.5,-315.5 \"/>\n<text text-anchor=\"middle\" x=\"3268.5\" y=\"-293.8\" font-family=\"Times,serif\" font-size=\"14.00\">grad 0.0000</text>\n</g>\n<!-- 136411130589984tanh -->\n<g id=\"node146\" class=\"node\">\n<title>136411130589984tanh</title>\n<ellipse fill=\"none\" stroke=\"black\" cx=\"3375\" cy=\"-297.5\" rx=\"27\" ry=\"18\"/>\n<text text-anchor=\"middle\" x=\"3375\" y=\"-293.8\" font-family=\"Times,serif\" font-size=\"14.00\">tanh</text>\n</g>\n<!-- 136411130589888&#45;&gt;136411130589984tanh -->\n<g id=\"edge200\" class=\"edge\">\n<title>136411130589888&#45;&gt;136411130589984tanh</title>\n<path fill=\"none\" stroke=\"black\" d=\"M3309.82,-297.5C3319.57,-297.5 3329.04,-297.5 3337.57,-297.5\"/>\n<polygon fill=\"black\" stroke=\"black\" points=\"3337.83,-301 3347.83,-297.5 3337.83,-294 3337.83,-301\"/>\n</g>\n<!-- 136411130589888+&#45;&gt;136411130589888 -->\n<g id=\"edge47\" class=\"edge\">\n<title>136411130589888+&#45;&gt;136411130589888</title>\n<path fill=\"none\" stroke=\"black\" d=\"M3089.21,-297.5C3097.34,-297.5 3106.85,-297.5 3116.94,-297.5\"/>\n<polygon fill=\"black\" stroke=\"black\" points=\"3117.19,-301 3127.19,-297.5 3117.19,-294 3117.19,-301\"/>\n</g>\n<!-- 136411130548912 -->\n<g id=\"node140\" class=\"node\">\n<title>136411130548912</title>\n<polygon fill=\"none\" stroke=\"black\" points=\"3438,-499.5 3438,-535.5 3625,-535.5 3625,-499.5 3438,-499.5\"/>\n<text text-anchor=\"middle\" x=\"3448\" y=\"-513.8\" font-family=\"Times,serif\" font-size=\"14.00\"> </text>\n<polyline fill=\"none\" stroke=\"black\" points=\"3458,-499.5 3458,-535.5 \"/>\n<text text-anchor=\"middle\" x=\"3500.5\" y=\"-513.8\" font-family=\"Times,serif\" font-size=\"14.00\">data &#45;0.0842</text>\n<polyline fill=\"none\" stroke=\"black\" points=\"3543,-499.5 3543,-535.5 \"/>\n<text text-anchor=\"middle\" x=\"3584\" y=\"-513.8\" font-family=\"Times,serif\" font-size=\"14.00\">grad 0.0000</text>\n</g>\n<!-- 136411130548912&#45;&gt;136411130597824* -->\n<g id=\"edge131\" class=\"edge\">\n<title>136411130548912&#45;&gt;136411130597824*</title>\n<path fill=\"none\" stroke=\"black\" d=\"M3625.05,-517.5C3634.06,-517.5 3642.79,-517.5 3650.7,-517.5\"/>\n<polygon fill=\"black\" stroke=\"black\" points=\"3650.95,-521 3660.95,-517.5 3650.95,-514 3650.95,-521\"/>\n</g>\n<!-- 136411130581728 -->\n<g id=\"node141\" class=\"node\">\n<title>136411130581728</title>\n<polygon fill=\"none\" stroke=\"black\" points=\"310.5,-880.5 310.5,-916.5 492.5,-916.5 492.5,-880.5 310.5,-880.5\"/>\n<text text-anchor=\"middle\" x=\"320.5\" y=\"-894.8\" font-family=\"Times,serif\" font-size=\"14.00\"> </text>\n<polyline fill=\"none\" stroke=\"black\" points=\"330.5,-880.5 330.5,-916.5 \"/>\n<text text-anchor=\"middle\" x=\"370.5\" y=\"-894.8\" font-family=\"Times,serif\" font-size=\"14.00\">data 0.1705</text>\n<polyline fill=\"none\" stroke=\"black\" points=\"410.5,-880.5 410.5,-916.5 \"/>\n<text text-anchor=\"middle\" x=\"451.5\" y=\"-894.8\" font-family=\"Times,serif\" font-size=\"14.00\">grad 0.0000</text>\n</g>\n<!-- 136411130581728&#45;&gt;136411130582592+ -->\n<g id=\"edge102\" class=\"edge\">\n<title>136411130581728&#45;&gt;136411130582592+</title>\n<path fill=\"none\" stroke=\"black\" d=\"M492.82,-898.5C502.57,-898.5 512.04,-898.5 520.57,-898.5\"/>\n<polygon fill=\"black\" stroke=\"black\" points=\"520.83,-902 530.83,-898.5 520.83,-895 520.83,-902\"/>\n</g>\n<!-- 136411130581728*&#45;&gt;136411130581728 -->\n<g id=\"edge48\" class=\"edge\">\n<title>136411130581728*&#45;&gt;136411130581728</title>\n<path fill=\"none\" stroke=\"black\" d=\"M272.21,-898.5C280.34,-898.5 289.85,-898.5 299.94,-898.5\"/>\n<polygon fill=\"black\" stroke=\"black\" points=\"300.19,-902 310.19,-898.5 300.19,-895 300.19,-902\"/>\n</g>\n<!-- 136411130548960 -->\n<g id=\"node143\" class=\"node\">\n<title>136411130548960</title>\n<polygon fill=\"none\" stroke=\"black\" points=\"3438,-169.5 3438,-205.5 3625,-205.5 3625,-169.5 3438,-169.5\"/>\n<text text-anchor=\"middle\" x=\"3448\" y=\"-183.8\" font-family=\"Times,serif\" font-size=\"14.00\"> </text>\n<polyline fill=\"none\" stroke=\"black\" points=\"3458,-169.5 3458,-205.5 \"/>\n<text text-anchor=\"middle\" x=\"3500.5\" y=\"-183.8\" font-family=\"Times,serif\" font-size=\"14.00\">data &#45;0.6805</text>\n<polyline fill=\"none\" stroke=\"black\" points=\"3543,-169.5 3543,-205.5 \"/>\n<text text-anchor=\"middle\" x=\"3584\" y=\"-183.8\" font-family=\"Times,serif\" font-size=\"14.00\">grad 0.0000</text>\n</g>\n<!-- 136411130548960&#45;&gt;136411130598496* -->\n<g id=\"edge126\" class=\"edge\">\n<title>136411130548960&#45;&gt;136411130598496*</title>\n<path fill=\"none\" stroke=\"black\" d=\"M3598.56,-205.55C3607.51,-208.36 3616.53,-211.37 3625,-214.5 3635.49,-218.38 3646.71,-223.22 3656.68,-227.78\"/>\n<polygon fill=\"black\" stroke=\"black\" points=\"3655.25,-230.98 3665.79,-232.03 3658.2,-224.63 3655.25,-230.98\"/>\n</g>\n<!-- 136411130581776 -->\n<g id=\"node144\" class=\"node\">\n<title>136411130581776</title>\n<polygon fill=\"none\" stroke=\"black\" points=\"0,-853.5 0,-889.5 182,-889.5 182,-853.5 0,-853.5\"/>\n<text text-anchor=\"middle\" x=\"10\" y=\"-867.8\" font-family=\"Times,serif\" font-size=\"14.00\"> </text>\n<polyline fill=\"none\" stroke=\"black\" points=\"20,-853.5 20,-889.5 \"/>\n<text text-anchor=\"middle\" x=\"60\" y=\"-867.8\" font-family=\"Times,serif\" font-size=\"14.00\">data 2.0000</text>\n<polyline fill=\"none\" stroke=\"black\" points=\"100,-853.5 100,-889.5 \"/>\n<text text-anchor=\"middle\" x=\"141\" y=\"-867.8\" font-family=\"Times,serif\" font-size=\"14.00\">grad 0.0000</text>\n</g>\n<!-- 136411130581776&#45;&gt;136411130581728* -->\n<g id=\"edge80\" class=\"edge\">\n<title>136411130581776&#45;&gt;136411130581728*</title>\n<path fill=\"none\" stroke=\"black\" d=\"M182.18,-887.52C191.42,-889.16 200.38,-890.75 208.47,-892.19\"/>\n<polygon fill=\"black\" stroke=\"black\" points=\"208.1,-895.68 218.56,-893.98 209.32,-888.79 208.1,-895.68\"/>\n</g>\n<!-- 136411130589984 -->\n<g id=\"node145\" class=\"node\">\n<title>136411130589984</title>\n<polygon fill=\"none\" stroke=\"black\" points=\"3440.5,-279.5 3440.5,-315.5 3622.5,-315.5 3622.5,-279.5 3440.5,-279.5\"/>\n<text text-anchor=\"middle\" x=\"3450.5\" y=\"-293.8\" font-family=\"Times,serif\" font-size=\"14.00\"> </text>\n<polyline fill=\"none\" stroke=\"black\" points=\"3460.5,-279.5 3460.5,-315.5 \"/>\n<text text-anchor=\"middle\" x=\"3500.5\" y=\"-293.8\" font-family=\"Times,serif\" font-size=\"14.00\">data 0.7987</text>\n<polyline fill=\"none\" stroke=\"black\" points=\"3540.5,-279.5 3540.5,-315.5 \"/>\n<text text-anchor=\"middle\" x=\"3581.5\" y=\"-293.8\" font-family=\"Times,serif\" font-size=\"14.00\">grad 0.0000</text>\n</g>\n<!-- 136411130589984&#45;&gt;136411130597056* -->\n<g id=\"edge79\" class=\"edge\">\n<title>136411130589984&#45;&gt;136411130597056*</title>\n<path fill=\"none\" stroke=\"black\" d=\"M3622.82,-303.93C3632.77,-304.64 3642.43,-305.33 3651.1,-305.94\"/>\n<polygon fill=\"black\" stroke=\"black\" points=\"3650.91,-309.44 3661.14,-306.66 3651.41,-302.46 3650.91,-309.44\"/>\n</g>\n<!-- 136411130589984tanh&#45;&gt;136411130589984 -->\n<g id=\"edge49\" class=\"edge\">\n<title>136411130589984tanh&#45;&gt;136411130589984</title>\n<path fill=\"none\" stroke=\"black\" d=\"M3402.21,-297.5C3410.34,-297.5 3419.85,-297.5 3429.94,-297.5\"/>\n<polygon fill=\"black\" stroke=\"black\" points=\"3430.19,-301 3440.19,-297.5 3430.19,-294 3430.19,-301\"/>\n</g>\n<!-- 136411130598208 -->\n<g id=\"node147\" class=\"node\">\n<title>136411130598208</title>\n<polygon fill=\"none\" stroke=\"black\" points=\"5136,-317.5 5136,-353.5 5323,-353.5 5323,-317.5 5136,-317.5\"/>\n<text text-anchor=\"middle\" x=\"5146\" y=\"-331.8\" font-family=\"Times,serif\" font-size=\"14.00\"> </text>\n<polyline fill=\"none\" stroke=\"black\" points=\"5156,-317.5 5156,-353.5 \"/>\n<text text-anchor=\"middle\" x=\"5198.5\" y=\"-331.8\" font-family=\"Times,serif\" font-size=\"14.00\">data &#45;0.6442</text>\n<polyline fill=\"none\" stroke=\"black\" points=\"5241,-317.5 5241,-353.5 \"/>\n<text text-anchor=\"middle\" x=\"5282\" y=\"-331.8\" font-family=\"Times,serif\" font-size=\"14.00\">grad 0.0000</text>\n</g>\n<!-- 136411130598352tanh -->\n<g id=\"node150\" class=\"node\">\n<title>136411130598352tanh</title>\n<ellipse fill=\"none\" stroke=\"black\" cx=\"5386\" cy=\"-335.5\" rx=\"27\" ry=\"18\"/>\n<text text-anchor=\"middle\" x=\"5386\" y=\"-331.8\" font-family=\"Times,serif\" font-size=\"14.00\">tanh</text>\n</g>\n<!-- 136411130598208&#45;&gt;136411130598352tanh -->\n<g id=\"edge103\" class=\"edge\">\n<title>136411130598208&#45;&gt;136411130598352tanh</title>\n<path fill=\"none\" stroke=\"black\" d=\"M5323.05,-335.5C5332.06,-335.5 5340.79,-335.5 5348.7,-335.5\"/>\n<polygon fill=\"black\" stroke=\"black\" points=\"5348.95,-339 5358.95,-335.5 5348.95,-332 5348.95,-339\"/>\n</g>\n<!-- 136411130598208+&#45;&gt;136411130598208 -->\n<g id=\"edge50\" class=\"edge\">\n<title>136411130598208+&#45;&gt;136411130598208</title>\n<path fill=\"none\" stroke=\"black\" d=\"M5100.21,-335.5C5107.73,-335.5 5116.43,-335.5 5125.67,-335.5\"/>\n<polygon fill=\"black\" stroke=\"black\" points=\"5125.89,-339 5135.89,-335.5 5125.89,-332 5125.89,-339\"/>\n</g>\n<!-- 136411130598352 -->\n<g id=\"node149\" class=\"node\">\n<title>136411130598352</title>\n<polygon fill=\"none\" stroke=\"black\" points=\"5449,-317.5 5449,-353.5 5636,-353.5 5636,-317.5 5449,-317.5\"/>\n<text text-anchor=\"middle\" x=\"5459\" y=\"-331.8\" font-family=\"Times,serif\" font-size=\"14.00\"> </text>\n<polyline fill=\"none\" stroke=\"black\" points=\"5469,-317.5 5469,-353.5 \"/>\n<text text-anchor=\"middle\" x=\"5511.5\" y=\"-331.8\" font-family=\"Times,serif\" font-size=\"14.00\">data &#45;0.5678</text>\n<polyline fill=\"none\" stroke=\"black\" points=\"5554,-317.5 5554,-353.5 \"/>\n<text text-anchor=\"middle\" x=\"5595\" y=\"-331.8\" font-family=\"Times,serif\" font-size=\"14.00\">grad 0.0000</text>\n</g>\n<!-- 136411130598352tanh&#45;&gt;136411130598352 -->\n<g id=\"edge51\" class=\"edge\">\n<title>136411130598352tanh&#45;&gt;136411130598352</title>\n<path fill=\"none\" stroke=\"black\" d=\"M5413.21,-335.5C5420.73,-335.5 5429.43,-335.5 5438.67,-335.5\"/>\n<polygon fill=\"black\" stroke=\"black\" points=\"5438.89,-339 5448.89,-335.5 5438.89,-332 5438.89,-339\"/>\n</g>\n<!-- 136411130590272 -->\n<g id=\"node151\" class=\"node\">\n<title>136411130590272</title>\n<polygon fill=\"none\" stroke=\"black\" points=\"1875.5,-715.5 1875.5,-751.5 2057.5,-751.5 2057.5,-715.5 1875.5,-715.5\"/>\n<text text-anchor=\"middle\" x=\"1885.5\" y=\"-729.8\" font-family=\"Times,serif\" font-size=\"14.00\"> </text>\n<polyline fill=\"none\" stroke=\"black\" points=\"1895.5,-715.5 1895.5,-751.5 \"/>\n<text text-anchor=\"middle\" x=\"1935.5\" y=\"-729.8\" font-family=\"Times,serif\" font-size=\"14.00\">data 0.4171</text>\n<polyline fill=\"none\" stroke=\"black\" points=\"1975.5,-715.5 1975.5,-751.5 \"/>\n<text text-anchor=\"middle\" x=\"2016.5\" y=\"-729.8\" font-family=\"Times,serif\" font-size=\"14.00\">grad 0.0000</text>\n</g>\n<!-- 136411130590272&#45;&gt;136411130590656+ -->\n<g id=\"edge173\" class=\"edge\">\n<title>136411130590272&#45;&gt;136411130590656+</title>\n<path fill=\"none\" stroke=\"black\" d=\"M2057.82,-733.5C2067.57,-733.5 2077.04,-733.5 2085.57,-733.5\"/>\n<polygon fill=\"black\" stroke=\"black\" points=\"2085.83,-737 2095.83,-733.5 2085.83,-730 2085.83,-737\"/>\n</g>\n<!-- 136411130590272*&#45;&gt;136411130590272 -->\n<g id=\"edge52\" class=\"edge\">\n<title>136411130590272*&#45;&gt;136411130590272</title>\n<path fill=\"none\" stroke=\"black\" d=\"M1837.21,-733.5C1845.34,-733.5 1854.85,-733.5 1864.94,-733.5\"/>\n<polygon fill=\"black\" stroke=\"black\" points=\"1865.19,-737 1875.19,-733.5 1865.19,-730 1865.19,-737\"/>\n</g>\n<!-- 136411130598496 -->\n<g id=\"node153\" class=\"node\">\n<title>136411130598496</title>\n<polygon fill=\"none\" stroke=\"black\" points=\"4199.5,-258.5 4199.5,-294.5 4381.5,-294.5 4381.5,-258.5 4199.5,-258.5\"/>\n<text text-anchor=\"middle\" x=\"4209.5\" y=\"-272.8\" font-family=\"Times,serif\" font-size=\"14.00\"> </text>\n<polyline fill=\"none\" stroke=\"black\" points=\"4219.5,-258.5 4219.5,-294.5 \"/>\n<text text-anchor=\"middle\" x=\"4259.5\" y=\"-272.8\" font-family=\"Times,serif\" font-size=\"14.00\">data 0.4997</text>\n<polyline fill=\"none\" stroke=\"black\" points=\"4299.5,-258.5 4299.5,-294.5 \"/>\n<text text-anchor=\"middle\" x=\"4340.5\" y=\"-272.8\" font-family=\"Times,serif\" font-size=\"14.00\">grad 0.0000</text>\n</g>\n<!-- 136411130598496&#45;&gt;136411130598208+ -->\n<g id=\"edge204\" class=\"edge\">\n<title>136411130598496&#45;&gt;136411130598208+</title>\n<path fill=\"none\" stroke=\"black\" d=\"M4381.68,-292.5C4443.59,-302.11 4527.76,-312.5 4602.5,-312.5 4602.5,-312.5 4602.5,-312.5 4761,-312.5 4860.9,-312.5 4978.35,-324.45 5036.16,-331.12\"/>\n<polygon fill=\"black\" stroke=\"black\" points=\"5035.9,-334.62 5046.24,-332.3 5036.72,-327.66 5035.9,-334.62\"/>\n</g>\n<!-- 136411130598496*&#45;&gt;136411130598496 -->\n<g id=\"edge53\" class=\"edge\">\n<title>136411130598496*&#45;&gt;136411130598496</title>\n<path fill=\"none\" stroke=\"black\" d=\"M3715.19,-243.98C3796.48,-248.59 4047.52,-262.8 4189.32,-270.83\"/>\n<polygon fill=\"black\" stroke=\"black\" points=\"4189.15,-274.32 4199.33,-271.39 4189.55,-267.34 4189.15,-274.32\"/>\n</g>\n<!-- 136411130590656 -->\n<g id=\"node155\" class=\"node\">\n<title>136411130590656</title>\n<polygon fill=\"none\" stroke=\"black\" points=\"2188.5,-715.5 2188.5,-751.5 2370.5,-751.5 2370.5,-715.5 2188.5,-715.5\"/>\n<text text-anchor=\"middle\" x=\"2198.5\" y=\"-729.8\" font-family=\"Times,serif\" font-size=\"14.00\"> </text>\n<polyline fill=\"none\" stroke=\"black\" points=\"2208.5,-715.5 2208.5,-751.5 \"/>\n<text text-anchor=\"middle\" x=\"2248.5\" y=\"-729.8\" font-family=\"Times,serif\" font-size=\"14.00\">data 0.8821</text>\n<polyline fill=\"none\" stroke=\"black\" points=\"2288.5,-715.5 2288.5,-751.5 \"/>\n<text text-anchor=\"middle\" x=\"2329.5\" y=\"-729.8\" font-family=\"Times,serif\" font-size=\"14.00\">grad 0.0000</text>\n</g>\n<!-- 136411130591904+ -->\n<g id=\"node180\" class=\"node\">\n<title>136411130591904+</title>\n<ellipse fill=\"none\" stroke=\"black\" cx=\"2436\" cy=\"-733.5\" rx=\"27\" ry=\"18\"/>\n<text text-anchor=\"middle\" x=\"2436\" y=\"-729.8\" font-family=\"Times,serif\" font-size=\"14.00\">+</text>\n</g>\n<!-- 136411130590656&#45;&gt;136411130591904+ -->\n<g id=\"edge157\" class=\"edge\">\n<title>136411130590656&#45;&gt;136411130591904+</title>\n<path fill=\"none\" stroke=\"black\" d=\"M2370.82,-733.5C2380.57,-733.5 2390.04,-733.5 2398.57,-733.5\"/>\n<polygon fill=\"black\" stroke=\"black\" points=\"2398.83,-737 2408.83,-733.5 2398.83,-730 2398.83,-737\"/>\n</g>\n<!-- 136411130590656+&#45;&gt;136411130590656 -->\n<g id=\"edge54\" class=\"edge\">\n<title>136411130590656+&#45;&gt;136411130590656</title>\n<path fill=\"none\" stroke=\"black\" d=\"M2150.21,-733.5C2158.34,-733.5 2167.85,-733.5 2177.94,-733.5\"/>\n<polygon fill=\"black\" stroke=\"black\" points=\"2178.19,-737 2188.19,-733.5 2178.19,-730 2178.19,-737\"/>\n</g>\n<!-- 136411130582592 -->\n<g id=\"node157\" class=\"node\">\n<title>136411130582592</title>\n<polygon fill=\"none\" stroke=\"black\" points=\"623.5,-880.5 623.5,-916.5 805.5,-916.5 805.5,-880.5 623.5,-880.5\"/>\n<text text-anchor=\"middle\" x=\"633.5\" y=\"-894.8\" font-family=\"Times,serif\" font-size=\"14.00\"> </text>\n<polyline fill=\"none\" stroke=\"black\" points=\"643.5,-880.5 643.5,-916.5 \"/>\n<text text-anchor=\"middle\" x=\"683.5\" y=\"-894.8\" font-family=\"Times,serif\" font-size=\"14.00\">data 0.9091</text>\n<polyline fill=\"none\" stroke=\"black\" points=\"723.5,-880.5 723.5,-916.5 \"/>\n<text text-anchor=\"middle\" x=\"764.5\" y=\"-894.8\" font-family=\"Times,serif\" font-size=\"14.00\">grad 0.0000</text>\n</g>\n<!-- 136411130583024+ -->\n<g id=\"node171\" class=\"node\">\n<title>136411130583024+</title>\n<ellipse fill=\"none\" stroke=\"black\" cx=\"871\" cy=\"-843.5\" rx=\"27\" ry=\"18\"/>\n<text text-anchor=\"middle\" x=\"871\" y=\"-839.8\" font-family=\"Times,serif\" font-size=\"14.00\">+</text>\n</g>\n<!-- 136411130582592&#45;&gt;136411130583024+ -->\n<g id=\"edge155\" class=\"edge\">\n<title>136411130582592&#45;&gt;136411130583024+</title>\n<path fill=\"none\" stroke=\"black\" d=\"M781.56,-880.45C790.51,-877.64 799.53,-874.63 808,-871.5 818.49,-867.62 829.71,-862.78 839.68,-858.22\"/>\n<polygon fill=\"black\" stroke=\"black\" points=\"841.2,-861.37 848.79,-853.97 838.25,-855.02 841.2,-861.37\"/>\n</g>\n<!-- 136411130582592+&#45;&gt;136411130582592 -->\n<g id=\"edge55\" class=\"edge\">\n<title>136411130582592+&#45;&gt;136411130582592</title>\n<path fill=\"none\" stroke=\"black\" d=\"M585.21,-898.5C593.34,-898.5 602.85,-898.5 612.94,-898.5\"/>\n<polygon fill=\"black\" stroke=\"black\" points=\"613.19,-902 623.19,-898.5 613.19,-895 613.19,-902\"/>\n</g>\n<!-- 136411130590848 -->\n<g id=\"node159\" class=\"node\">\n<title>136411130590848</title>\n<polygon fill=\"none\" stroke=\"black\" points=\"2186,-770.5 2186,-806.5 2373,-806.5 2373,-770.5 2186,-770.5\"/>\n<text text-anchor=\"middle\" x=\"2196\" y=\"-784.8\" font-family=\"Times,serif\" font-size=\"14.00\"> </text>\n<polyline fill=\"none\" stroke=\"black\" points=\"2206,-770.5 2206,-806.5 \"/>\n<text text-anchor=\"middle\" x=\"2248.5\" y=\"-784.8\" font-family=\"Times,serif\" font-size=\"14.00\">data &#45;0.1396</text>\n<polyline fill=\"none\" stroke=\"black\" points=\"2291,-770.5 2291,-806.5 \"/>\n<text text-anchor=\"middle\" x=\"2332\" y=\"-784.8\" font-family=\"Times,serif\" font-size=\"14.00\">grad 0.0000</text>\n</g>\n<!-- 136411130590848&#45;&gt;136411130591904+ -->\n<g id=\"edge109\" class=\"edge\">\n<title>136411130590848&#45;&gt;136411130591904+</title>\n<path fill=\"none\" stroke=\"black\" d=\"M2346.56,-770.45C2355.51,-767.64 2364.53,-764.63 2373,-761.5 2383.49,-757.62 2394.71,-752.78 2404.68,-748.22\"/>\n<polygon fill=\"black\" stroke=\"black\" points=\"2406.2,-751.37 2413.79,-743.97 2403.25,-745.02 2406.2,-751.37\"/>\n</g>\n<!-- 136411130590848*&#45;&gt;136411130590848 -->\n<g id=\"edge56\" class=\"edge\">\n<title>136411130590848*&#45;&gt;136411130590848</title>\n<path fill=\"none\" stroke=\"black\" d=\"M2150.21,-788.5C2157.73,-788.5 2166.43,-788.5 2175.67,-788.5\"/>\n<polygon fill=\"black\" stroke=\"black\" points=\"2175.89,-792 2185.89,-788.5 2175.89,-785 2175.89,-792\"/>\n</g>\n<!-- 136411130582784 -->\n<g id=\"node161\" class=\"node\">\n<title>136411130582784</title>\n<polygon fill=\"none\" stroke=\"black\" points=\"310.5,-770.5 310.5,-806.5 492.5,-806.5 492.5,-770.5 310.5,-770.5\"/>\n<text text-anchor=\"middle\" x=\"320.5\" y=\"-784.8\" font-family=\"Times,serif\" font-size=\"14.00\"> </text>\n<polyline fill=\"none\" stroke=\"black\" points=\"330.5,-770.5 330.5,-806.5 \"/>\n<text text-anchor=\"middle\" x=\"370.5\" y=\"-784.8\" font-family=\"Times,serif\" font-size=\"14.00\">data 3.0000</text>\n<polyline fill=\"none\" stroke=\"black\" points=\"410.5,-770.5 410.5,-806.5 \"/>\n<text text-anchor=\"middle\" x=\"451.5\" y=\"-784.8\" font-family=\"Times,serif\" font-size=\"14.00\">grad 0.0000</text>\n</g>\n<!-- 136411130582784&#45;&gt;136411130582832* -->\n<g id=\"edge133\" class=\"edge\">\n<title>136411130582784&#45;&gt;136411130582832*</title>\n<path fill=\"none\" stroke=\"black\" d=\"M466.02,-806.65C475.79,-809.76 485.71,-813.08 495,-816.5 505.25,-820.27 516.23,-824.86 526.07,-829.18\"/>\n<polygon fill=\"black\" stroke=\"black\" points=\"524.89,-832.49 535.45,-833.37 527.74,-826.1 524.89,-832.49\"/>\n</g>\n<!-- 136411130599168 -->\n<g id=\"node162\" class=\"node\">\n<title>136411130599168</title>\n<polygon fill=\"none\" stroke=\"black\" points=\"3440.5,-389.5 3440.5,-425.5 3622.5,-425.5 3622.5,-389.5 3440.5,-389.5\"/>\n<text text-anchor=\"middle\" x=\"3450.5\" y=\"-403.8\" font-family=\"Times,serif\" font-size=\"14.00\"> </text>\n<polyline fill=\"none\" stroke=\"black\" points=\"3460.5,-389.5 3460.5,-425.5 \"/>\n<text text-anchor=\"middle\" x=\"3500.5\" y=\"-403.8\" font-family=\"Times,serif\" font-size=\"14.00\">data 0.1945</text>\n<polyline fill=\"none\" stroke=\"black\" points=\"3540.5,-389.5 3540.5,-425.5 \"/>\n<text text-anchor=\"middle\" x=\"3581.5\" y=\"-403.8\" font-family=\"Times,serif\" font-size=\"14.00\">grad 0.0000</text>\n</g>\n<!-- 136411130599168&#45;&gt;136411130597440* -->\n<g id=\"edge152\" class=\"edge\">\n<title>136411130599168&#45;&gt;136411130597440*</title>\n<path fill=\"none\" stroke=\"black\" d=\"M3622.82,-411.59C3632.57,-412.03 3642.04,-412.46 3650.57,-412.85\"/>\n<polygon fill=\"black\" stroke=\"black\" points=\"3650.68,-416.36 3660.83,-413.31 3651,-409.37 3650.68,-416.36\"/>\n</g>\n<!-- 136411130599168tanh -->\n<g id=\"node163\" class=\"node\">\n<title>136411130599168tanh</title>\n<ellipse fill=\"none\" stroke=\"black\" cx=\"3375\" cy=\"-407.5\" rx=\"27\" ry=\"18\"/>\n<text text-anchor=\"middle\" x=\"3375\" y=\"-403.8\" font-family=\"Times,serif\" font-size=\"14.00\">tanh</text>\n</g>\n<!-- 136411130599168tanh&#45;&gt;136411130599168 -->\n<g id=\"edge57\" class=\"edge\">\n<title>136411130599168tanh&#45;&gt;136411130599168</title>\n<path fill=\"none\" stroke=\"black\" d=\"M3402.21,-407.5C3410.34,-407.5 3419.85,-407.5 3429.94,-407.5\"/>\n<polygon fill=\"black\" stroke=\"black\" points=\"3430.19,-411 3440.19,-407.5 3430.19,-404 3430.19,-411\"/>\n</g>\n<!-- 136411130590992 -->\n<g id=\"node164\" class=\"node\">\n<title>136411130590992</title>\n<polygon fill=\"none\" stroke=\"black\" points=\"2814.5,-526.5 2814.5,-562.5 2996.5,-562.5 2996.5,-526.5 2814.5,-526.5\"/>\n<text text-anchor=\"middle\" x=\"2824.5\" y=\"-540.8\" font-family=\"Times,serif\" font-size=\"14.00\"> </text>\n<polyline fill=\"none\" stroke=\"black\" points=\"2834.5,-526.5 2834.5,-562.5 \"/>\n<text text-anchor=\"middle\" x=\"2874.5\" y=\"-540.8\" font-family=\"Times,serif\" font-size=\"14.00\">data 0.8736</text>\n<polyline fill=\"none\" stroke=\"black\" points=\"2914.5,-526.5 2914.5,-562.5 \"/>\n<text text-anchor=\"middle\" x=\"2955.5\" y=\"-540.8\" font-family=\"Times,serif\" font-size=\"14.00\">grad 0.0000</text>\n</g>\n<!-- 136411130593200+ -->\n<g id=\"node197\" class=\"node\">\n<title>136411130593200+</title>\n<ellipse fill=\"none\" stroke=\"black\" cx=\"3062\" cy=\"-407.5\" rx=\"27\" ry=\"18\"/>\n<text text-anchor=\"middle\" x=\"3062\" y=\"-403.8\" font-family=\"Times,serif\" font-size=\"14.00\">+</text>\n</g>\n<!-- 136411130590992&#45;&gt;136411130593200+ -->\n<g id=\"edge87\" class=\"edge\">\n<title>136411130590992&#45;&gt;136411130593200+</title>\n<path fill=\"none\" stroke=\"black\" d=\"M2983.57,-526.36C2989.06,-523.53 2994.28,-520.27 2999,-516.5 3025.47,-495.37 3042.66,-459.67 3052.08,-434.91\"/>\n<polygon fill=\"black\" stroke=\"black\" points=\"3055.42,-435.96 3055.53,-425.36 3048.84,-433.58 3055.42,-435.96\"/>\n</g>\n<!-- 136411130590992+ -->\n<g id=\"node165\" class=\"node\">\n<title>136411130590992+</title>\n<ellipse fill=\"none\" stroke=\"black\" cx=\"2749\" cy=\"-544.5\" rx=\"27\" ry=\"18\"/>\n<text text-anchor=\"middle\" x=\"2749\" y=\"-540.8\" font-family=\"Times,serif\" font-size=\"14.00\">+</text>\n</g>\n<!-- 136411130590992+&#45;&gt;136411130590992 -->\n<g id=\"edge58\" class=\"edge\">\n<title>136411130590992+&#45;&gt;136411130590992</title>\n<path fill=\"none\" stroke=\"black\" d=\"M2776.21,-544.5C2784.34,-544.5 2793.85,-544.5 2803.94,-544.5\"/>\n<polygon fill=\"black\" stroke=\"black\" points=\"2804.19,-548 2814.19,-544.5 2804.19,-541 2804.19,-548\"/>\n</g>\n<!-- 136411130582832 -->\n<g id=\"node166\" class=\"node\">\n<title>136411130582832</title>\n<polygon fill=\"none\" stroke=\"black\" points=\"623.5,-825.5 623.5,-861.5 805.5,-861.5 805.5,-825.5 623.5,-825.5\"/>\n<text text-anchor=\"middle\" x=\"633.5\" y=\"-839.8\" font-family=\"Times,serif\" font-size=\"14.00\"> </text>\n<polyline fill=\"none\" stroke=\"black\" points=\"643.5,-825.5 643.5,-861.5 \"/>\n<text text-anchor=\"middle\" x=\"683.5\" y=\"-839.8\" font-family=\"Times,serif\" font-size=\"14.00\">data 2.4284</text>\n<polyline fill=\"none\" stroke=\"black\" points=\"723.5,-825.5 723.5,-861.5 \"/>\n<text text-anchor=\"middle\" x=\"764.5\" y=\"-839.8\" font-family=\"Times,serif\" font-size=\"14.00\">grad 0.0000</text>\n</g>\n<!-- 136411130582832&#45;&gt;136411130583024+ -->\n<g id=\"edge158\" class=\"edge\">\n<title>136411130582832&#45;&gt;136411130583024+</title>\n<path fill=\"none\" stroke=\"black\" d=\"M805.82,-843.5C815.57,-843.5 825.04,-843.5 833.57,-843.5\"/>\n<polygon fill=\"black\" stroke=\"black\" points=\"833.83,-847 843.83,-843.5 833.83,-840 833.83,-847\"/>\n</g>\n<!-- 136411130582832*&#45;&gt;136411130582832 -->\n<g id=\"edge59\" class=\"edge\">\n<title>136411130582832*&#45;&gt;136411130582832</title>\n<path fill=\"none\" stroke=\"black\" d=\"M585.21,-843.5C593.34,-843.5 602.85,-843.5 612.94,-843.5\"/>\n<polygon fill=\"black\" stroke=\"black\" points=\"613.19,-847 623.19,-843.5 613.19,-840 613.19,-847\"/>\n</g>\n<!-- 136411130591184 -->\n<g id=\"node168\" class=\"node\">\n<title>136411130591184</title>\n<polygon fill=\"none\" stroke=\"black\" points=\"2501.5,-526.5 2501.5,-562.5 2683.5,-562.5 2683.5,-526.5 2501.5,-526.5\"/>\n<text text-anchor=\"middle\" x=\"2511.5\" y=\"-540.8\" font-family=\"Times,serif\" font-size=\"14.00\"> </text>\n<polyline fill=\"none\" stroke=\"black\" points=\"2521.5,-526.5 2521.5,-562.5 \"/>\n<text text-anchor=\"middle\" x=\"2561.5\" y=\"-540.8\" font-family=\"Times,serif\" font-size=\"14.00\">data 0.1312</text>\n<polyline fill=\"none\" stroke=\"black\" points=\"2601.5,-526.5 2601.5,-562.5 \"/>\n<text text-anchor=\"middle\" x=\"2642.5\" y=\"-540.8\" font-family=\"Times,serif\" font-size=\"14.00\">grad 0.0000</text>\n</g>\n<!-- 136411130591184&#45;&gt;136411130590992+ -->\n<g id=\"edge84\" class=\"edge\">\n<title>136411130591184&#45;&gt;136411130590992+</title>\n<path fill=\"none\" stroke=\"black\" d=\"M2683.82,-544.5C2693.57,-544.5 2703.04,-544.5 2711.57,-544.5\"/>\n<polygon fill=\"black\" stroke=\"black\" points=\"2711.83,-548 2721.83,-544.5 2711.83,-541 2711.83,-548\"/>\n</g>\n<!-- 136411130591184*&#45;&gt;136411130591184 -->\n<g id=\"edge60\" class=\"edge\">\n<title>136411130591184*&#45;&gt;136411130591184</title>\n<path fill=\"none\" stroke=\"black\" d=\"M2462.17,-518.55C2470.68,-520.26 2480.77,-522.28 2491.5,-524.44\"/>\n<polygon fill=\"black\" stroke=\"black\" points=\"2491.02,-527.91 2501.51,-526.44 2492.39,-521.04 2491.02,-527.91\"/>\n</g>\n<!-- 136411130583024 -->\n<g id=\"node170\" class=\"node\">\n<title>136411130583024</title>\n<polygon fill=\"none\" stroke=\"black\" points=\"936.5,-825.5 936.5,-861.5 1118.5,-861.5 1118.5,-825.5 936.5,-825.5\"/>\n<text text-anchor=\"middle\" x=\"946.5\" y=\"-839.8\" font-family=\"Times,serif\" font-size=\"14.00\"> </text>\n<polyline fill=\"none\" stroke=\"black\" points=\"956.5,-825.5 956.5,-861.5 \"/>\n<text text-anchor=\"middle\" x=\"996.5\" y=\"-839.8\" font-family=\"Times,serif\" font-size=\"14.00\">data 3.3375</text>\n<polyline fill=\"none\" stroke=\"black\" points=\"1036.5,-825.5 1036.5,-861.5 \"/>\n<text text-anchor=\"middle\" x=\"1077.5\" y=\"-839.8\" font-family=\"Times,serif\" font-size=\"14.00\">grad 0.0000</text>\n</g>\n<!-- 136411130583504+ -->\n<g id=\"node176\" class=\"node\">\n<title>136411130583504+</title>\n<ellipse fill=\"none\" stroke=\"black\" cx=\"1184\" cy=\"-788.5\" rx=\"27\" ry=\"18\"/>\n<text text-anchor=\"middle\" x=\"1184\" y=\"-784.8\" font-family=\"Times,serif\" font-size=\"14.00\">+</text>\n</g>\n<!-- 136411130583024&#45;&gt;136411130583504+ -->\n<g id=\"edge83\" class=\"edge\">\n<title>136411130583024&#45;&gt;136411130583504+</title>\n<path fill=\"none\" stroke=\"black\" d=\"M1094.56,-825.45C1103.51,-822.64 1112.53,-819.63 1121,-816.5 1131.49,-812.62 1142.71,-807.78 1152.68,-803.22\"/>\n<polygon fill=\"black\" stroke=\"black\" points=\"1154.2,-806.37 1161.79,-798.97 1151.25,-800.02 1154.2,-806.37\"/>\n</g>\n<!-- 136411130583024+&#45;&gt;136411130583024 -->\n<g id=\"edge61\" class=\"edge\">\n<title>136411130583024+&#45;&gt;136411130583024</title>\n<path fill=\"none\" stroke=\"black\" d=\"M898.21,-843.5C906.34,-843.5 915.85,-843.5 925.94,-843.5\"/>\n<polygon fill=\"black\" stroke=\"black\" points=\"926.19,-847 936.19,-843.5 926.19,-840 926.19,-847\"/>\n</g>\n<!-- 136411130583216 -->\n<g id=\"node172\" class=\"node\">\n<title>136411130583216</title>\n<polygon fill=\"none\" stroke=\"black\" points=\"621,-715.5 621,-751.5 808,-751.5 808,-715.5 621,-715.5\"/>\n<text text-anchor=\"middle\" x=\"631\" y=\"-729.8\" font-family=\"Times,serif\" font-size=\"14.00\"> </text>\n<polyline fill=\"none\" stroke=\"black\" points=\"641,-715.5 641,-751.5 \"/>\n<text text-anchor=\"middle\" x=\"683.5\" y=\"-729.8\" font-family=\"Times,serif\" font-size=\"14.00\">data &#45;1.0000</text>\n<polyline fill=\"none\" stroke=\"black\" points=\"726,-715.5 726,-751.5 \"/>\n<text text-anchor=\"middle\" x=\"767\" y=\"-729.8\" font-family=\"Times,serif\" font-size=\"14.00\">grad 0.0000</text>\n</g>\n<!-- 136411130583216&#45;&gt;136411130583264* -->\n<g id=\"edge95\" class=\"edge\">\n<title>136411130583216&#45;&gt;136411130583264*</title>\n<path fill=\"none\" stroke=\"black\" d=\"M779.02,-751.65C788.79,-754.76 798.71,-758.08 808,-761.5 818.25,-765.27 829.23,-769.86 839.07,-774.18\"/>\n<polygon fill=\"black\" stroke=\"black\" points=\"837.89,-777.49 848.45,-778.37 840.74,-771.1 837.89,-777.49\"/>\n</g>\n<!-- 136411130583264 -->\n<g id=\"node173\" class=\"node\">\n<title>136411130583264</title>\n<polygon fill=\"none\" stroke=\"black\" points=\"936.5,-770.5 936.5,-806.5 1118.5,-806.5 1118.5,-770.5 936.5,-770.5\"/>\n<text text-anchor=\"middle\" x=\"946.5\" y=\"-784.8\" font-family=\"Times,serif\" font-size=\"14.00\"> </text>\n<polyline fill=\"none\" stroke=\"black\" points=\"956.5,-770.5 956.5,-806.5 \"/>\n<text text-anchor=\"middle\" x=\"996.5\" y=\"-784.8\" font-family=\"Times,serif\" font-size=\"14.00\">data 0.0513</text>\n<polyline fill=\"none\" stroke=\"black\" points=\"1036.5,-770.5 1036.5,-806.5 \"/>\n<text text-anchor=\"middle\" x=\"1077.5\" y=\"-784.8\" font-family=\"Times,serif\" font-size=\"14.00\">grad 0.0000</text>\n</g>\n<!-- 136411130583264&#45;&gt;136411130583504+ -->\n<g id=\"edge93\" class=\"edge\">\n<title>136411130583264&#45;&gt;136411130583504+</title>\n<path fill=\"none\" stroke=\"black\" d=\"M1118.82,-788.5C1128.57,-788.5 1138.04,-788.5 1146.57,-788.5\"/>\n<polygon fill=\"black\" stroke=\"black\" points=\"1146.83,-792 1156.83,-788.5 1146.83,-785 1146.83,-792\"/>\n</g>\n<!-- 136411130583264*&#45;&gt;136411130583264 -->\n<g id=\"edge62\" class=\"edge\">\n<title>136411130583264*&#45;&gt;136411130583264</title>\n<path fill=\"none\" stroke=\"black\" d=\"M898.21,-788.5C906.34,-788.5 915.85,-788.5 925.94,-788.5\"/>\n<polygon fill=\"black\" stroke=\"black\" points=\"926.19,-792 936.19,-788.5 926.19,-785 926.19,-792\"/>\n</g>\n<!-- 136411130583504 -->\n<g id=\"node175\" class=\"node\">\n<title>136411130583504</title>\n<polygon fill=\"none\" stroke=\"black\" points=\"1249.5,-756.5 1249.5,-792.5 1431.5,-792.5 1431.5,-756.5 1249.5,-756.5\"/>\n<text text-anchor=\"middle\" x=\"1259.5\" y=\"-770.8\" font-family=\"Times,serif\" font-size=\"14.00\"> </text>\n<polyline fill=\"none\" stroke=\"black\" points=\"1269.5,-756.5 1269.5,-792.5 \"/>\n<text text-anchor=\"middle\" x=\"1309.5\" y=\"-770.8\" font-family=\"Times,serif\" font-size=\"14.00\">data 3.3888</text>\n<polyline fill=\"none\" stroke=\"black\" points=\"1349.5,-756.5 1349.5,-792.5 \"/>\n<text text-anchor=\"middle\" x=\"1390.5\" y=\"-770.8\" font-family=\"Times,serif\" font-size=\"14.00\">grad 0.0000</text>\n</g>\n<!-- 136411130583600tanh -->\n<g id=\"node178\" class=\"node\">\n<title>136411130583600tanh</title>\n<ellipse fill=\"none\" stroke=\"black\" cx=\"1497\" cy=\"-760.5\" rx=\"27\" ry=\"18\"/>\n<text text-anchor=\"middle\" x=\"1497\" y=\"-756.8\" font-family=\"Times,serif\" font-size=\"14.00\">tanh</text>\n</g>\n<!-- 136411130583504&#45;&gt;136411130583600tanh -->\n<g id=\"edge164\" class=\"edge\">\n<title>136411130583504&#45;&gt;136411130583600tanh</title>\n<path fill=\"none\" stroke=\"black\" d=\"M1431.82,-766.32C1441.77,-765.41 1451.43,-764.54 1460.1,-763.75\"/>\n<polygon fill=\"black\" stroke=\"black\" points=\"1460.49,-767.23 1470.14,-762.84 1459.86,-760.26 1460.49,-767.23\"/>\n</g>\n<!-- 136411130583504+&#45;&gt;136411130583504 -->\n<g id=\"edge63\" class=\"edge\">\n<title>136411130583504+&#45;&gt;136411130583504</title>\n<path fill=\"none\" stroke=\"black\" d=\"M1210.86,-786.16C1219.13,-785.41 1228.83,-784.53 1239.14,-783.59\"/>\n<polygon fill=\"black\" stroke=\"black\" points=\"1239.54,-787.07 1249.18,-782.68 1238.91,-780.1 1239.54,-787.07\"/>\n</g>\n<!-- 136411130583600 -->\n<g id=\"node177\" class=\"node\">\n<title>136411130583600</title>\n<polygon fill=\"none\" stroke=\"black\" points=\"1562.5,-715.5 1562.5,-751.5 1744.5,-751.5 1744.5,-715.5 1562.5,-715.5\"/>\n<text text-anchor=\"middle\" x=\"1572.5\" y=\"-729.8\" font-family=\"Times,serif\" font-size=\"14.00\"> </text>\n<polyline fill=\"none\" stroke=\"black\" points=\"1582.5,-715.5 1582.5,-751.5 \"/>\n<text text-anchor=\"middle\" x=\"1622.5\" y=\"-729.8\" font-family=\"Times,serif\" font-size=\"14.00\">data 0.9977</text>\n<polyline fill=\"none\" stroke=\"black\" points=\"1662.5,-715.5 1662.5,-751.5 \"/>\n<text text-anchor=\"middle\" x=\"1703.5\" y=\"-729.8\" font-family=\"Times,serif\" font-size=\"14.00\">grad 0.0000</text>\n</g>\n<!-- 136411130583600&#45;&gt;136411130593552* -->\n<g id=\"edge143\" class=\"edge\">\n<title>136411130583600&#45;&gt;136411130593552*</title>\n<path fill=\"none\" stroke=\"black\" d=\"M1732.86,-751.66C1737.93,-754.48 1742.71,-757.74 1747,-761.5 1779.66,-790.14 1796.06,-839.42 1803.53,-870.42\"/>\n<polygon fill=\"black\" stroke=\"black\" points=\"1800.2,-871.57 1805.82,-880.55 1807.03,-870.03 1800.2,-871.57\"/>\n</g>\n<!-- 136411130583600&#45;&gt;136411130595328* -->\n<g id=\"edge206\" class=\"edge\">\n<title>136411130583600&#45;&gt;136411130595328*</title>\n<path fill=\"none\" stroke=\"black\" d=\"M1737.56,-715.35C1741.02,-712.77 1744.21,-709.83 1747,-706.5 1794.39,-649.97 1767.9,-448.71 1783,-376.5 1786.95,-357.59 1793.45,-336.84 1798.96,-320.82\"/>\n<polygon fill=\"black\" stroke=\"black\" points=\"1802.39,-321.64 1802.4,-311.05 1795.78,-319.32 1802.39,-321.64\"/>\n</g>\n<!-- 136411130583600&#45;&gt;136411130588496* -->\n<g id=\"edge162\" class=\"edge\">\n<title>136411130583600&#45;&gt;136411130588496*</title>\n<path fill=\"none\" stroke=\"black\" d=\"M1734.19,-715.48C1738.77,-712.88 1743.09,-709.91 1747,-706.5 1764.44,-691.31 1787.23,-631.71 1799.75,-595.99\"/>\n<polygon fill=\"black\" stroke=\"black\" points=\"1803.19,-596.77 1803.15,-586.18 1796.57,-594.48 1803.19,-596.77\"/>\n</g>\n<!-- 136411130583600&#45;&gt;136411130590272* -->\n<g id=\"edge86\" class=\"edge\">\n<title>136411130583600&#45;&gt;136411130590272*</title>\n<path fill=\"none\" stroke=\"black\" d=\"M1744.82,-733.5C1754.57,-733.5 1764.04,-733.5 1772.57,-733.5\"/>\n<polygon fill=\"black\" stroke=\"black\" points=\"1772.83,-737 1782.83,-733.5 1772.83,-730 1772.83,-737\"/>\n</g>\n<!-- 136411130583600tanh&#45;&gt;136411130583600 -->\n<g id=\"edge64\" class=\"edge\">\n<title>136411130583600tanh&#45;&gt;136411130583600</title>\n<path fill=\"none\" stroke=\"black\" d=\"M1523.51,-756.04C1531.83,-754.59 1541.62,-752.88 1552.03,-751.06\"/>\n<polygon fill=\"black\" stroke=\"black\" points=\"1552.93,-754.45 1562.18,-749.28 1551.73,-747.56 1552.93,-754.45\"/>\n</g>\n<!-- 136411130591904 -->\n<g id=\"node179\" class=\"node\">\n<title>136411130591904</title>\n<polygon fill=\"none\" stroke=\"black\" points=\"2501.5,-701.5 2501.5,-737.5 2683.5,-737.5 2683.5,-701.5 2501.5,-701.5\"/>\n<text text-anchor=\"middle\" x=\"2511.5\" y=\"-715.8\" font-family=\"Times,serif\" font-size=\"14.00\"> </text>\n<polyline fill=\"none\" stroke=\"black\" points=\"2521.5,-701.5 2521.5,-737.5 \"/>\n<text text-anchor=\"middle\" x=\"2561.5\" y=\"-715.8\" font-family=\"Times,serif\" font-size=\"14.00\">data 0.7425</text>\n<polyline fill=\"none\" stroke=\"black\" points=\"2601.5,-701.5 2601.5,-737.5 \"/>\n<text text-anchor=\"middle\" x=\"2642.5\" y=\"-715.8\" font-family=\"Times,serif\" font-size=\"14.00\">grad 0.0000</text>\n</g>\n<!-- 136411130591904&#45;&gt;136411130590992+ -->\n<g id=\"edge98\" class=\"edge\">\n<title>136411130591904&#45;&gt;136411130590992+</title>\n<path fill=\"none\" stroke=\"black\" d=\"M2668.83,-701.44C2675.04,-698.11 2680.89,-694.17 2686,-689.5 2704.02,-673.04 2727,-609.21 2739.3,-571.95\"/>\n<polygon fill=\"black\" stroke=\"black\" points=\"2742.71,-572.8 2742.47,-562.21 2736.05,-570.63 2742.71,-572.8\"/>\n</g>\n<!-- 136411130591904+&#45;&gt;136411130591904 -->\n<g id=\"edge65\" class=\"edge\">\n<title>136411130591904+&#45;&gt;136411130591904</title>\n<path fill=\"none\" stroke=\"black\" d=\"M2462.86,-731.16C2471.13,-730.41 2480.83,-729.53 2491.14,-728.59\"/>\n<polygon fill=\"black\" stroke=\"black\" points=\"2491.54,-732.07 2501.18,-727.68 2490.91,-725.1 2491.54,-732.07\"/>\n</g>\n<!-- 136411130583936 -->\n<g id=\"node181\" class=\"node\">\n<title>136411130583936</title>\n<polygon fill=\"none\" stroke=\"black\" points=\"310.5,-578.5 310.5,-614.5 492.5,-614.5 492.5,-578.5 310.5,-578.5\"/>\n<text text-anchor=\"middle\" x=\"320.5\" y=\"-592.8\" font-family=\"Times,serif\" font-size=\"14.00\"> </text>\n<polyline fill=\"none\" stroke=\"black\" points=\"330.5,-578.5 330.5,-614.5 \"/>\n<text text-anchor=\"middle\" x=\"370.5\" y=\"-592.8\" font-family=\"Times,serif\" font-size=\"14.00\">data 2.0000</text>\n<polyline fill=\"none\" stroke=\"black\" points=\"410.5,-578.5 410.5,-614.5 \"/>\n<text text-anchor=\"middle\" x=\"451.5\" y=\"-592.8\" font-family=\"Times,serif\" font-size=\"14.00\">grad 0.0000</text>\n</g>\n<!-- 136411130583936&#45;&gt;136411130583984* -->\n<g id=\"edge196\" class=\"edge\">\n<title>136411130583936&#45;&gt;136411130583984*</title>\n<path fill=\"none\" stroke=\"black\" d=\"M492.82,-612.28C503.07,-614.08 513.01,-615.81 521.88,-617.36\"/>\n<polygon fill=\"black\" stroke=\"black\" points=\"521.3,-620.81 531.75,-619.09 522.5,-613.92 521.3,-620.81\"/>\n</g>\n<!-- 136411130583984 -->\n<g id=\"node182\" class=\"node\">\n<title>136411130583984</title>\n<polygon fill=\"none\" stroke=\"black\" points=\"621,-605.5 621,-641.5 808,-641.5 808,-605.5 621,-605.5\"/>\n<text text-anchor=\"middle\" x=\"631\" y=\"-619.8\" font-family=\"Times,serif\" font-size=\"14.00\"> </text>\n<polyline fill=\"none\" stroke=\"black\" points=\"641,-605.5 641,-641.5 \"/>\n<text text-anchor=\"middle\" x=\"683.5\" y=\"-619.8\" font-family=\"Times,serif\" font-size=\"14.00\">data &#45;1.0219</text>\n<polyline fill=\"none\" stroke=\"black\" points=\"726,-605.5 726,-641.5 \"/>\n<text text-anchor=\"middle\" x=\"767\" y=\"-619.8\" font-family=\"Times,serif\" font-size=\"14.00\">grad 0.0000</text>\n</g>\n<!-- 136411130583984&#45;&gt;136411130584176+ -->\n<g id=\"edge186\" class=\"edge\">\n<title>136411130583984&#45;&gt;136411130584176+</title>\n<path fill=\"none\" stroke=\"black\" d=\"M808.05,-623.5C817.06,-623.5 825.79,-623.5 833.7,-623.5\"/>\n<polygon fill=\"black\" stroke=\"black\" points=\"833.95,-627 843.95,-623.5 833.95,-620 833.95,-627\"/>\n</g>\n<!-- 136411130583984*&#45;&gt;136411130583984 -->\n<g id=\"edge66\" class=\"edge\">\n<title>136411130583984*&#45;&gt;136411130583984</title>\n<path fill=\"none\" stroke=\"black\" d=\"M585.21,-623.5C592.73,-623.5 601.43,-623.5 610.67,-623.5\"/>\n<polygon fill=\"black\" stroke=\"black\" points=\"610.89,-627 620.89,-623.5 610.89,-620 610.89,-627\"/>\n</g>\n<!-- 136411130584176 -->\n<g id=\"node184\" class=\"node\">\n<title>136411130584176</title>\n<polygon fill=\"none\" stroke=\"black\" points=\"934,-605.5 934,-641.5 1121,-641.5 1121,-605.5 934,-605.5\"/>\n<text text-anchor=\"middle\" x=\"944\" y=\"-619.8\" font-family=\"Times,serif\" font-size=\"14.00\"> </text>\n<polyline fill=\"none\" stroke=\"black\" points=\"954,-605.5 954,-641.5 \"/>\n<text text-anchor=\"middle\" x=\"996.5\" y=\"-619.8\" font-family=\"Times,serif\" font-size=\"14.00\">data &#45;0.6134</text>\n<polyline fill=\"none\" stroke=\"black\" points=\"1039,-605.5 1039,-641.5 \"/>\n<text text-anchor=\"middle\" x=\"1080\" y=\"-619.8\" font-family=\"Times,serif\" font-size=\"14.00\">grad 0.0000</text>\n</g>\n<!-- 136411130584608+ -->\n<g id=\"node190\" class=\"node\">\n<title>136411130584608+</title>\n<ellipse fill=\"none\" stroke=\"black\" cx=\"1184\" cy=\"-623.5\" rx=\"27\" ry=\"18\"/>\n<text text-anchor=\"middle\" x=\"1184\" y=\"-619.8\" font-family=\"Times,serif\" font-size=\"14.00\">+</text>\n</g>\n<!-- 136411130584176&#45;&gt;136411130584608+ -->\n<g id=\"edge175\" class=\"edge\">\n<title>136411130584176&#45;&gt;136411130584608+</title>\n<path fill=\"none\" stroke=\"black\" d=\"M1121.05,-623.5C1130.06,-623.5 1138.79,-623.5 1146.7,-623.5\"/>\n<polygon fill=\"black\" stroke=\"black\" points=\"1146.95,-627 1156.95,-623.5 1146.95,-620 1146.95,-627\"/>\n</g>\n<!-- 136411130584176+&#45;&gt;136411130584176 -->\n<g id=\"edge67\" class=\"edge\">\n<title>136411130584176+&#45;&gt;136411130584176</title>\n<path fill=\"none\" stroke=\"black\" d=\"M898.21,-623.5C905.73,-623.5 914.43,-623.5 923.67,-623.5\"/>\n<polygon fill=\"black\" stroke=\"black\" points=\"923.89,-627 933.89,-623.5 923.89,-620 923.89,-627\"/>\n</g>\n<!-- 136411130584368 -->\n<g id=\"node186\" class=\"node\">\n<title>136411130584368</title>\n<polygon fill=\"none\" stroke=\"black\" points=\"623.5,-495.5 623.5,-531.5 805.5,-531.5 805.5,-495.5 623.5,-495.5\"/>\n<text text-anchor=\"middle\" x=\"633.5\" y=\"-509.8\" font-family=\"Times,serif\" font-size=\"14.00\"> </text>\n<polyline fill=\"none\" stroke=\"black\" points=\"643.5,-495.5 643.5,-531.5 \"/>\n<text text-anchor=\"middle\" x=\"683.5\" y=\"-509.8\" font-family=\"Times,serif\" font-size=\"14.00\">data 3.0000</text>\n<polyline fill=\"none\" stroke=\"black\" points=\"723.5,-495.5 723.5,-531.5 \"/>\n<text text-anchor=\"middle\" x=\"764.5\" y=\"-509.8\" font-family=\"Times,serif\" font-size=\"14.00\">grad 0.0000</text>\n</g>\n<!-- 136411130584368&#45;&gt;136411130584416* -->\n<g id=\"edge156\" class=\"edge\">\n<title>136411130584368&#45;&gt;136411130584416*</title>\n<path fill=\"none\" stroke=\"black\" d=\"M781.56,-531.55C790.51,-534.36 799.53,-537.37 808,-540.5 818.49,-544.38 829.71,-549.22 839.68,-553.78\"/>\n<polygon fill=\"black\" stroke=\"black\" points=\"838.25,-556.98 848.79,-558.03 841.2,-550.63 838.25,-556.98\"/>\n</g>\n<!-- 136411130584416 -->\n<g id=\"node187\" class=\"node\">\n<title>136411130584416</title>\n<polygon fill=\"none\" stroke=\"black\" points=\"936.5,-550.5 936.5,-586.5 1118.5,-586.5 1118.5,-550.5 936.5,-550.5\"/>\n<text text-anchor=\"middle\" x=\"946.5\" y=\"-564.8\" font-family=\"Times,serif\" font-size=\"14.00\"> </text>\n<polyline fill=\"none\" stroke=\"black\" points=\"956.5,-550.5 956.5,-586.5 \"/>\n<text text-anchor=\"middle\" x=\"996.5\" y=\"-564.8\" font-family=\"Times,serif\" font-size=\"14.00\">data 2.9524</text>\n<polyline fill=\"none\" stroke=\"black\" points=\"1036.5,-550.5 1036.5,-586.5 \"/>\n<text text-anchor=\"middle\" x=\"1077.5\" y=\"-564.8\" font-family=\"Times,serif\" font-size=\"14.00\">grad 0.0000</text>\n</g>\n<!-- 136411130584416&#45;&gt;136411130584608+ -->\n<g id=\"edge179\" class=\"edge\">\n<title>136411130584416&#45;&gt;136411130584608+</title>\n<path fill=\"none\" stroke=\"black\" d=\"M1094.56,-586.55C1103.51,-589.36 1112.53,-592.37 1121,-595.5 1131.49,-599.38 1142.71,-604.22 1152.68,-608.78\"/>\n<polygon fill=\"black\" stroke=\"black\" points=\"1151.25,-611.98 1161.79,-613.03 1154.2,-605.63 1151.25,-611.98\"/>\n</g>\n<!-- 136411130584416*&#45;&gt;136411130584416 -->\n<g id=\"edge68\" class=\"edge\">\n<title>136411130584416*&#45;&gt;136411130584416</title>\n<path fill=\"none\" stroke=\"black\" d=\"M898.21,-568.5C906.34,-568.5 915.85,-568.5 925.94,-568.5\"/>\n<polygon fill=\"black\" stroke=\"black\" points=\"926.19,-572 936.19,-568.5 926.19,-565 926.19,-572\"/>\n</g>\n<!-- 136411130584608 -->\n<g id=\"node189\" class=\"node\">\n<title>136411130584608</title>\n<polygon fill=\"none\" stroke=\"black\" points=\"1249.5,-605.5 1249.5,-641.5 1431.5,-641.5 1431.5,-605.5 1249.5,-605.5\"/>\n<text text-anchor=\"middle\" x=\"1259.5\" y=\"-619.8\" font-family=\"Times,serif\" font-size=\"14.00\"> </text>\n<polyline fill=\"none\" stroke=\"black\" points=\"1269.5,-605.5 1269.5,-641.5 \"/>\n<text text-anchor=\"middle\" x=\"1309.5\" y=\"-619.8\" font-family=\"Times,serif\" font-size=\"14.00\">data 2.3390</text>\n<polyline fill=\"none\" stroke=\"black\" points=\"1349.5,-605.5 1349.5,-641.5 \"/>\n<text text-anchor=\"middle\" x=\"1390.5\" y=\"-619.8\" font-family=\"Times,serif\" font-size=\"14.00\">grad 0.0000</text>\n</g>\n<!-- 136411130585040+ -->\n<g id=\"node199\" class=\"node\">\n<title>136411130585040+</title>\n<ellipse fill=\"none\" stroke=\"black\" cx=\"1497\" cy=\"-678.5\" rx=\"27\" ry=\"18\"/>\n<text text-anchor=\"middle\" x=\"1497\" y=\"-674.8\" font-family=\"Times,serif\" font-size=\"14.00\">+</text>\n</g>\n<!-- 136411130584608&#45;&gt;136411130585040+ -->\n<g id=\"edge170\" class=\"edge\">\n<title>136411130584608&#45;&gt;136411130585040+</title>\n<path fill=\"none\" stroke=\"black\" d=\"M1407.56,-641.55C1416.51,-644.36 1425.53,-647.37 1434,-650.5 1444.49,-654.38 1455.71,-659.22 1465.68,-663.78\"/>\n<polygon fill=\"black\" stroke=\"black\" points=\"1464.25,-666.98 1474.79,-668.03 1467.2,-660.63 1464.25,-666.98\"/>\n</g>\n<!-- 136411130584608+&#45;&gt;136411130584608 -->\n<g id=\"edge69\" class=\"edge\">\n<title>136411130584608+&#45;&gt;136411130584608</title>\n<path fill=\"none\" stroke=\"black\" d=\"M1211.21,-623.5C1219.34,-623.5 1228.85,-623.5 1238.94,-623.5\"/>\n<polygon fill=\"black\" stroke=\"black\" points=\"1239.19,-627 1249.19,-623.5 1239.19,-620 1239.19,-627\"/>\n</g>\n<!-- 136411130584800 -->\n<g id=\"node191\" class=\"node\">\n<title>136411130584800</title>\n<polygon fill=\"none\" stroke=\"black\" points=\"934,-660.5 934,-696.5 1121,-696.5 1121,-660.5 934,-660.5\"/>\n<text text-anchor=\"middle\" x=\"944\" y=\"-674.8\" font-family=\"Times,serif\" font-size=\"14.00\"> </text>\n<polyline fill=\"none\" stroke=\"black\" points=\"954,-660.5 954,-696.5 \"/>\n<text text-anchor=\"middle\" x=\"996.5\" y=\"-674.8\" font-family=\"Times,serif\" font-size=\"14.00\">data &#45;1.0000</text>\n<polyline fill=\"none\" stroke=\"black\" points=\"1039,-660.5 1039,-696.5 \"/>\n<text text-anchor=\"middle\" x=\"1080\" y=\"-674.8\" font-family=\"Times,serif\" font-size=\"14.00\">grad 0.0000</text>\n</g>\n<!-- 136411130584800&#45;&gt;136411130584848* -->\n<g id=\"edge149\" class=\"edge\">\n<title>136411130584800&#45;&gt;136411130584848*</title>\n<path fill=\"none\" stroke=\"black\" d=\"M1121.05,-678.5C1130.06,-678.5 1138.79,-678.5 1146.7,-678.5\"/>\n<polygon fill=\"black\" stroke=\"black\" points=\"1146.95,-682 1156.95,-678.5 1146.95,-675 1146.95,-682\"/>\n</g>\n<!-- 136411130593008 -->\n<g id=\"node192\" class=\"node\">\n<title>136411130593008</title>\n<polygon fill=\"none\" stroke=\"black\" points=\"2812,-361.5 2812,-397.5 2999,-397.5 2999,-361.5 2812,-361.5\"/>\n<text text-anchor=\"middle\" x=\"2822\" y=\"-375.8\" font-family=\"Times,serif\" font-size=\"14.00\"> </text>\n<polyline fill=\"none\" stroke=\"black\" points=\"2832,-361.5 2832,-397.5 \"/>\n<text text-anchor=\"middle\" x=\"2874.5\" y=\"-375.8\" font-family=\"Times,serif\" font-size=\"14.00\">data &#45;0.6766</text>\n<polyline fill=\"none\" stroke=\"black\" points=\"2917,-361.5 2917,-397.5 \"/>\n<text text-anchor=\"middle\" x=\"2958\" y=\"-375.8\" font-family=\"Times,serif\" font-size=\"14.00\">grad 0.0000</text>\n</g>\n<!-- 136411130593008&#45;&gt;136411130593200+ -->\n<g id=\"edge115\" class=\"edge\">\n<title>136411130593008&#45;&gt;136411130593200+</title>\n<path fill=\"none\" stroke=\"black\" d=\"M2999.05,-396.27C3008.54,-397.99 3017.71,-399.65 3025.95,-401.15\"/>\n<polygon fill=\"black\" stroke=\"black\" points=\"3025.39,-404.6 3035.85,-402.94 3026.64,-397.72 3025.39,-404.6\"/>\n</g>\n<!-- 136411130593008*&#45;&gt;136411130593008 -->\n<g id=\"edge70\" class=\"edge\">\n<title>136411130593008*&#45;&gt;136411130593008</title>\n<path fill=\"none\" stroke=\"black\" d=\"M2776.21,-379.5C2783.73,-379.5 2792.43,-379.5 2801.67,-379.5\"/>\n<polygon fill=\"black\" stroke=\"black\" points=\"2801.89,-383 2811.89,-379.5 2801.89,-376 2801.89,-383\"/>\n</g>\n<!-- 136411130584848 -->\n<g id=\"node194\" class=\"node\">\n<title>136411130584848</title>\n<polygon fill=\"none\" stroke=\"black\" points=\"1247,-660.5 1247,-696.5 1434,-696.5 1434,-660.5 1247,-660.5\"/>\n<text text-anchor=\"middle\" x=\"1257\" y=\"-674.8\" font-family=\"Times,serif\" font-size=\"14.00\"> </text>\n<polyline fill=\"none\" stroke=\"black\" points=\"1267,-660.5 1267,-696.5 \"/>\n<text text-anchor=\"middle\" x=\"1309.5\" y=\"-674.8\" font-family=\"Times,serif\" font-size=\"14.00\">data &#45;0.5700</text>\n<polyline fill=\"none\" stroke=\"black\" points=\"1352,-660.5 1352,-696.5 \"/>\n<text text-anchor=\"middle\" x=\"1393\" y=\"-674.8\" font-family=\"Times,serif\" font-size=\"14.00\">grad 0.0000</text>\n</g>\n<!-- 136411130584848&#45;&gt;136411130585040+ -->\n<g id=\"edge174\" class=\"edge\">\n<title>136411130584848&#45;&gt;136411130585040+</title>\n<path fill=\"none\" stroke=\"black\" d=\"M1434.05,-678.5C1443.06,-678.5 1451.79,-678.5 1459.7,-678.5\"/>\n<polygon fill=\"black\" stroke=\"black\" points=\"1459.95,-682 1469.95,-678.5 1459.95,-675 1459.95,-682\"/>\n</g>\n<!-- 136411130584848*&#45;&gt;136411130584848 -->\n<g id=\"edge71\" class=\"edge\">\n<title>136411130584848*&#45;&gt;136411130584848</title>\n<path fill=\"none\" stroke=\"black\" d=\"M1211.21,-678.5C1218.73,-678.5 1227.43,-678.5 1236.67,-678.5\"/>\n<polygon fill=\"black\" stroke=\"black\" points=\"1236.89,-682 1246.89,-678.5 1236.89,-675 1236.89,-682\"/>\n</g>\n<!-- 136411130593200 -->\n<g id=\"node196\" class=\"node\">\n<title>136411130593200</title>\n<polygon fill=\"none\" stroke=\"black\" points=\"3127.5,-389.5 3127.5,-425.5 3309.5,-425.5 3309.5,-389.5 3127.5,-389.5\"/>\n<text text-anchor=\"middle\" x=\"3137.5\" y=\"-403.8\" font-family=\"Times,serif\" font-size=\"14.00\"> </text>\n<polyline fill=\"none\" stroke=\"black\" points=\"3147.5,-389.5 3147.5,-425.5 \"/>\n<text text-anchor=\"middle\" x=\"3187.5\" y=\"-403.8\" font-family=\"Times,serif\" font-size=\"14.00\">data 0.1971</text>\n<polyline fill=\"none\" stroke=\"black\" points=\"3227.5,-389.5 3227.5,-425.5 \"/>\n<text text-anchor=\"middle\" x=\"3268.5\" y=\"-403.8\" font-family=\"Times,serif\" font-size=\"14.00\">grad 0.0000</text>\n</g>\n<!-- 136411130593200&#45;&gt;136411130599168tanh -->\n<g id=\"edge192\" class=\"edge\">\n<title>136411130593200&#45;&gt;136411130599168tanh</title>\n<path fill=\"none\" stroke=\"black\" d=\"M3309.82,-407.5C3319.57,-407.5 3329.04,-407.5 3337.57,-407.5\"/>\n<polygon fill=\"black\" stroke=\"black\" points=\"3337.83,-411 3347.83,-407.5 3337.83,-404 3337.83,-411\"/>\n</g>\n<!-- 136411130593200+&#45;&gt;136411130593200 -->\n<g id=\"edge72\" class=\"edge\">\n<title>136411130593200+&#45;&gt;136411130593200</title>\n<path fill=\"none\" stroke=\"black\" d=\"M3089.21,-407.5C3097.34,-407.5 3106.85,-407.5 3116.94,-407.5\"/>\n<polygon fill=\"black\" stroke=\"black\" points=\"3117.19,-411 3127.19,-407.5 3117.19,-404 3117.19,-411\"/>\n</g>\n<!-- 136411130585040 -->\n<g id=\"node198\" class=\"node\">\n<title>136411130585040</title>\n<polygon fill=\"none\" stroke=\"black\" points=\"1562.5,-660.5 1562.5,-696.5 1744.5,-696.5 1744.5,-660.5 1562.5,-660.5\"/>\n<text text-anchor=\"middle\" x=\"1572.5\" y=\"-674.8\" font-family=\"Times,serif\" font-size=\"14.00\"> </text>\n<polyline fill=\"none\" stroke=\"black\" points=\"1582.5,-660.5 1582.5,-696.5 \"/>\n<text text-anchor=\"middle\" x=\"1622.5\" y=\"-674.8\" font-family=\"Times,serif\" font-size=\"14.00\">data 1.7690</text>\n<polyline fill=\"none\" stroke=\"black\" points=\"1662.5,-660.5 1662.5,-696.5 \"/>\n<text text-anchor=\"middle\" x=\"1703.5\" y=\"-674.8\" font-family=\"Times,serif\" font-size=\"14.00\">grad 0.0000</text>\n</g>\n<!-- 136411130585040&#45;&gt;136411130585136tanh -->\n<g id=\"edge195\" class=\"edge\">\n<title>136411130585040&#45;&gt;136411130585136tanh</title>\n<path fill=\"none\" stroke=\"black\" d=\"M1744.82,-678.5C1754.57,-678.5 1764.04,-678.5 1772.57,-678.5\"/>\n<polygon fill=\"black\" stroke=\"black\" points=\"1772.83,-682 1782.83,-678.5 1772.83,-675 1772.83,-682\"/>\n</g>\n<!-- 136411130585040+&#45;&gt;136411130585040 -->\n<g id=\"edge73\" class=\"edge\">\n<title>136411130585040+&#45;&gt;136411130585040</title>\n<path fill=\"none\" stroke=\"black\" d=\"M1524.21,-678.5C1532.34,-678.5 1541.85,-678.5 1551.94,-678.5\"/>\n<polygon fill=\"black\" stroke=\"black\" points=\"1552.19,-682 1562.19,-678.5 1552.19,-675 1552.19,-682\"/>\n</g>\n</g>\n</svg>\n",
            "text/plain": [
              "<graphviz.graphs.Digraph at 0x7c10b0f567e0>"
            ]
          },
          "metadata": {},
          "execution_count": 23
        }
      ]
    },
    {
      "cell_type": "code",
      "source": [
        "xs = [\n",
        "    [2.0, 3.0, -1.0],\n",
        "    [3.0, -1.0, 0.5],\n",
        "    [0.5, 1.0, 1.0],\n",
        "    [1.0, 1.0, -1.0]\n",
        "]\n",
        "ys = [1.0, -1.0, -1.0, 1.0] # desired targets"
      ],
      "metadata": {
        "id": "-GGYl6Aildip"
      },
      "execution_count": 51,
      "outputs": []
    },
    {
      "cell_type": "markdown",
      "source": [
        "## Loss"
      ],
      "metadata": {
        "id": "J8ii4xMir5SH"
      }
    },
    {
      "cell_type": "code",
      "source": [
        "ypred = [mlp(x) for x in xs]\n",
        "ypred"
      ],
      "metadata": {
        "colab": {
          "base_uri": "https://localhost:8080/"
        },
        "id": "fr0EwRQWrkDc",
        "outputId": "3230508e-3c6e-4e29-e69c-75f9472b3e4f"
      },
      "execution_count": 25,
      "outputs": [
        {
          "output_type": "execute_result",
          "data": {
            "text/plain": [
              "[Value(Data=-0.5677554693285594),\n",
              " Value(Data=-0.152129782918626),\n",
              " Value(Data=-0.44611884387439227),\n",
              " Value(Data=-0.5695252689450162)]"
            ]
          },
          "metadata": {},
          "execution_count": 25
        }
      ]
    },
    {
      "cell_type": "markdown",
      "source": [
        "### Mean Squared Error\n",
        "$(target - predicted)^2$"
      ],
      "metadata": {
        "id": "Q62ZUIMSsUPy"
      }
    },
    {
      "cell_type": "code",
      "source": [
        "loss = sum([(yout - ygt)**2 for ygt, yout in zip(ys, ypred)])\n",
        "loss"
      ],
      "metadata": {
        "colab": {
          "base_uri": "https://localhost:8080/"
        },
        "id": "VwFZX8VzrkA5",
        "outputId": "55f8922e-f740-4d8a-be62-07624d429f63"
      },
      "execution_count": 26,
      "outputs": [
        {
          "output_type": "execute_result",
          "data": {
            "text/plain": [
              "Value(Data=5.946935021591193)"
            ]
          },
          "metadata": {},
          "execution_count": 26
        }
      ]
    },
    {
      "cell_type": "code",
      "source": [
        "loss.backward()"
      ],
      "metadata": {
        "id": "Y27tV5Ekrj-R"
      },
      "execution_count": 27,
      "outputs": []
    },
    {
      "cell_type": "code",
      "source": [
        "mlp.layers[0].neurons[0].w[0].grad"
      ],
      "metadata": {
        "colab": {
          "base_uri": "https://localhost:8080/"
        },
        "id": "-05O02Gorj64",
        "outputId": "7a448840-583c-407b-b7d5-6601b37453ba"
      },
      "execution_count": 28,
      "outputs": [
        {
          "output_type": "execute_result",
          "data": {
            "text/plain": [
              "np.float64(-0.2019226058590548)"
            ]
          },
          "metadata": {},
          "execution_count": 28
        }
      ]
    },
    {
      "cell_type": "code",
      "source": [
        "mlp.layers[0].neurons[0].w[0].data"
      ],
      "metadata": {
        "colab": {
          "base_uri": "https://localhost:8080/"
        },
        "id": "CF5URxQN2CeY",
        "outputId": "8c3b7ea8-b44f-4c8e-c0c9-ec2ccfe9dffd"
      },
      "execution_count": 29,
      "outputs": [
        {
          "output_type": "execute_result",
          "data": {
            "text/plain": [
              "0.08525035780798951"
            ]
          },
          "metadata": {},
          "execution_count": 29
        }
      ]
    },
    {
      "cell_type": "code",
      "source": [
        "for p in mlp.parameters():\n",
        "  p.data += -0.05 * p.grad # the negative value is the learning rate"
      ],
      "metadata": {
        "id": "t8DWQXflri3n"
      },
      "execution_count": 30,
      "outputs": []
    },
    {
      "cell_type": "code",
      "source": [
        "mlp.layers[0].neurons[0].w[0].data\n"
      ],
      "metadata": {
        "colab": {
          "base_uri": "https://localhost:8080/"
        },
        "id": "sKBeCT3JvEb-",
        "outputId": "a8066c46-38cd-494e-8e6b-3ff3fb0493c7"
      },
      "execution_count": 31,
      "outputs": [
        {
          "output_type": "execute_result",
          "data": {
            "text/plain": [
              "np.float64(0.09534648810094225)"
            ]
          },
          "metadata": {},
          "execution_count": 31
        }
      ]
    },
    {
      "cell_type": "code",
      "source": [
        "ypred = [mlp(x) for x in xs]\n",
        "loss = sum([(yout - ygt)**2 for ygt, yout in zip(ys, ypred)])\n",
        "loss"
      ],
      "metadata": {
        "colab": {
          "base_uri": "https://localhost:8080/"
        },
        "id": "CmFwPIjuyzeU",
        "outputId": "eb86ecb4-2886-4f10-b37a-7da797bb8ff8"
      },
      "execution_count": 32,
      "outputs": [
        {
          "output_type": "execute_result",
          "data": {
            "text/plain": [
              "Value(Data=4.4232935067581)"
            ]
          },
          "metadata": {},
          "execution_count": 32
        }
      ]
    },
    {
      "cell_type": "code",
      "source": [
        "ypred"
      ],
      "metadata": {
        "colab": {
          "base_uri": "https://localhost:8080/"
        },
        "id": "REHTTy_z2bzh",
        "outputId": "27b66929-546d-4bfd-b22a-e86cad9629d8"
      },
      "execution_count": 47,
      "outputs": [
        {
          "output_type": "execute_result",
          "data": {
            "text/plain": [
              "[Value(Data=0.9742197206964573),\n",
              " Value(Data=-0.9994822639567557),\n",
              " Value(Data=-0.9988140700368271),\n",
              " Value(Data=0.9805439354581634)]"
            ]
          },
          "metadata": {},
          "execution_count": 47
        }
      ]
    },
    {
      "cell_type": "code",
      "source": [
        "# amore respectable training loop\n",
        "for k in range(20):\n",
        "  # forward pass\n",
        "  ypred = [mlp(x) for x in xs]\n",
        "  loss = sum([(yout - ygt)**2 for ygt, yout in zip(ys, ypred)])\n",
        "\n",
        "  # backpass\n",
        "  for p in mlp.parameters():\n",
        "    p.grad = 0\n",
        "  loss.backward()\n",
        "\n",
        "  # update parameters -> gradient descent\n",
        "  for p in mlp.parameters():\n",
        "    p.data += -0.05 * p.grad # the negative value is the learning rate\n",
        "\n",
        "  print('Iteration: ', k, 'Loss: ', loss.data)"
      ],
      "metadata": {
        "colab": {
          "base_uri": "https://localhost:8080/"
        },
        "id": "2jLd53AVJBcO",
        "outputId": "d8af00b9-a07c-485b-af60-6a3e902c4f19"
      },
      "execution_count": 98,
      "outputs": [
        {
          "output_type": "stream",
          "name": "stdout",
          "text": [
            "Iteration:  0 Loss:  0.004295461811056464\n",
            "Iteration:  1 Loss:  0.004278713362840044\n",
            "Iteration:  2 Loss:  0.004262090339637155\n",
            "Iteration:  3 Loss:  0.00424559135159258\n",
            "Iteration:  4 Loss:  0.00422921502921194\n",
            "Iteration:  5 Loss:  0.004212960022991326\n",
            "Iteration:  6 Loss:  0.0041968250030549525\n",
            "Iteration:  7 Loss:  0.0041808086588006966\n",
            "Iteration:  8 Loss:  0.004164909698553149\n",
            "Iteration:  9 Loss:  0.0041491268492242685\n",
            "Iteration:  10 Loss:  0.004133458855981197\n",
            "Iteration:  11 Loss:  0.004117904481921194\n",
            "Iteration:  12 Loss:  0.004102462507753434\n",
            "Iteration:  13 Loss:  0.004087131731487669\n",
            "Iteration:  14 Loss:  0.004071910968129283\n",
            "Iteration:  15 Loss:  0.004056799049380902\n",
            "Iteration:  16 Loss:  0.004041794823350193\n",
            "Iteration:  17 Loss:  0.004026897154263714\n",
            "Iteration:  18 Loss:  0.004012104922186939\n",
            "Iteration:  19 Loss:  0.003997417022749668\n"
          ]
        }
      ]
    },
    {
      "cell_type": "code",
      "source": [
        "ypred"
      ],
      "metadata": {
        "colab": {
          "base_uri": "https://localhost:8080/"
        },
        "id": "RJQqR1eTrvlz",
        "outputId": "7a1b4642-74d6-4405-b44f-ee35db55fa7c"
      },
      "execution_count": 99,
      "outputs": [
        {
          "output_type": "execute_result",
          "data": {
            "text/plain": [
              "[Value(Data=0.9717264817494101),\n",
              " Value(Data=-0.9773259741318647),\n",
              " Value(Data=-0.9600767164980005),\n",
              " Value(Data=0.9669841678306704)]"
            ]
          },
          "metadata": {},
          "execution_count": 99
        }
      ]
    },
    {
      "cell_type": "code",
      "source": [
        "mlp.parameters()"
      ],
      "metadata": {
        "colab": {
          "base_uri": "https://localhost:8080/"
        },
        "id": "tR6XeMi22bwo",
        "outputId": "844a343a-08fe-4eec-f2d1-97baad2b4f85"
      },
      "execution_count": 46,
      "outputs": [
        {
          "output_type": "execute_result",
          "data": {
            "text/plain": [
              "[Value(Data=0.031001265159119246),\n",
              " Value(Data=-0.2936447619897306),\n",
              " Value(Data=0.11046115407272153),\n",
              " Value(Data=1.1061842059308042),\n",
              " Value(Data=-1.0990430415020258),\n",
              " Value(Data=-0.5313123490175966),\n",
              " Value(Data=-0.48163061331420337),\n",
              " Value(Data=-0.06478366626272704),\n",
              " Value(Data=-0.20805790525055065),\n",
              " Value(Data=0.6436742298845315),\n",
              " Value(Data=-1.0947519054005064),\n",
              " Value(Data=-0.37297940339276464),\n",
              " Value(Data=-0.12679646291509547),\n",
              " Value(Data=-1.1948931443022426),\n",
              " Value(Data=2.0533584988077282),\n",
              " Value(Data=-0.6654372180959399),\n",
              " Value(Data=0.34996532779098116),\n",
              " Value(Data=0.335375157371618),\n",
              " Value(Data=-0.02395216890927152),\n",
              " Value(Data=0.062012105972723434),\n",
              " Value(Data=-1.0695404367416164),\n",
              " Value(Data=0.2728129585496014),\n",
              " Value(Data=0.10286813893535549),\n",
              " Value(Data=-0.9821298755879865),\n",
              " Value(Data=-0.6040306548784532),\n",
              " Value(Data=0.3896667165727442),\n",
              " Value(Data=0.21246526250853467),\n",
              " Value(Data=0.8938351656523358),\n",
              " Value(Data=1.094330897694547),\n",
              " Value(Data=-0.7509503583000109),\n",
              " Value(Data=0.6457137620844262),\n",
              " Value(Data=-0.7907956221560194),\n",
              " Value(Data=0.522474381394063),\n",
              " Value(Data=2.355198902088736),\n",
              " Value(Data=-0.9094251753336554),\n",
              " Value(Data=-0.5343031862755636),\n",
              " Value(Data=1.67976430463229),\n",
              " Value(Data=0.6093443685819185),\n",
              " Value(Data=2.2667209877535446),\n",
              " Value(Data=1.6003584866550675),\n",
              " Value(Data=0.06829162600554815)]"
            ]
          },
          "metadata": {},
          "execution_count": 46
        }
      ]
    },
    {
      "cell_type": "code",
      "source": [],
      "metadata": {
        "id": "_EZ-7Otx2btZ"
      },
      "execution_count": 35,
      "outputs": []
    },
    {
      "cell_type": "code",
      "source": [],
      "metadata": {
        "id": "C70IeUKG2bMw"
      },
      "execution_count": 35,
      "outputs": []
    }
  ]
}